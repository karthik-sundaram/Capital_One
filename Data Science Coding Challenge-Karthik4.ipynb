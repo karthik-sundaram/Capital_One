{
 "cells": [
  {
   "cell_type": "markdown",
   "metadata": {
    "collapsed": true
   },
   "source": [
    "###                                                      Capital One Data Science Coding Challenge\n",
    "###                                             Name: KARTHIK SUNDARAM SARAVANAN\n",
    "\n",
    "\n"
   ]
  },
  {
   "cell_type": "markdown",
   "metadata": {},
   "source": [
    "- <font color='red'>__[Execute the Additional Section at the last and the Module 4.3 which contains the predictive model before that and all other blocks of code can been executed from top to down]__</font>"
   ]
  },
  {
   "cell_type": "markdown",
   "metadata": {},
   "source": [
    "# -  Question 1:"
   ]
  },
  {
   "cell_type": "code",
   "execution_count": null,
   "metadata": {
    "collapsed": true
   },
   "outputs": [],
   "source": [
    "import pandas as pd\n",
    "datanyc = pd.read_csv('https://s3.amazonaws.com/nyc-tlc/trip+data/green_tripdata_2015-09.csv')"
   ]
  },
  {
   "cell_type": "code",
   "execution_count": 334,
   "metadata": {},
   "outputs": [
    {
     "name": "stdout",
     "output_type": "stream",
     "text": [
      "Populating the interactive namespace from numpy and matplotlib\n"
     ]
    },
    {
     "name": "stderr",
     "output_type": "stream",
     "text": [
      "C:\\Users\\Karthik\\Anaconda3\\lib\\site-packages\\IPython\\core\\magics\\pylab.py:161: UserWarning: pylab import has clobbered these variables: ['cos', 'sin', 'mean', 'radians', 'sqrt', 'test']\n",
      "`%matplotlib` prevents importing * from pylab and numpy\n",
      "  \"\\n`%matplotlib` prevents importing * from pylab and numpy\"\n"
     ]
    }
   ],
   "source": [
    "%matplotlib inline\n",
    "%pylab inline"
   ]
  },
  {
   "cell_type": "code",
   "execution_count": 4,
   "metadata": {
    "scrolled": true
   },
   "outputs": [
    {
     "data": {
      "text/html": [
       "<div>\n",
       "<style>\n",
       "    .dataframe thead tr:only-child th {\n",
       "        text-align: right;\n",
       "    }\n",
       "\n",
       "    .dataframe thead th {\n",
       "        text-align: left;\n",
       "    }\n",
       "\n",
       "    .dataframe tbody tr th {\n",
       "        vertical-align: top;\n",
       "    }\n",
       "</style>\n",
       "<table border=\"1\" class=\"dataframe\">\n",
       "  <thead>\n",
       "    <tr style=\"text-align: right;\">\n",
       "      <th></th>\n",
       "      <th>VendorID</th>\n",
       "      <th>RateCodeID</th>\n",
       "      <th>Pickup_longitude</th>\n",
       "      <th>Pickup_latitude</th>\n",
       "      <th>Dropoff_longitude</th>\n",
       "      <th>Dropoff_latitude</th>\n",
       "      <th>Passenger_count</th>\n",
       "      <th>Trip_distance</th>\n",
       "      <th>Fare_amount</th>\n",
       "      <th>Extra</th>\n",
       "      <th>MTA_tax</th>\n",
       "      <th>Tip_amount</th>\n",
       "      <th>Tolls_amount</th>\n",
       "      <th>Ehail_fee</th>\n",
       "      <th>improvement_surcharge</th>\n",
       "      <th>Total_amount</th>\n",
       "      <th>Payment_type</th>\n",
       "      <th>Trip_type</th>\n",
       "    </tr>\n",
       "  </thead>\n",
       "  <tbody>\n",
       "    <tr>\n",
       "      <th>count</th>\n",
       "      <td>1.494926e+06</td>\n",
       "      <td>1.494926e+06</td>\n",
       "      <td>1.494926e+06</td>\n",
       "      <td>1.494926e+06</td>\n",
       "      <td>1.494926e+06</td>\n",
       "      <td>1.494926e+06</td>\n",
       "      <td>1.494926e+06</td>\n",
       "      <td>1.494926e+06</td>\n",
       "      <td>1.494926e+06</td>\n",
       "      <td>1.494926e+06</td>\n",
       "      <td>1.494926e+06</td>\n",
       "      <td>1.494926e+06</td>\n",
       "      <td>1.494926e+06</td>\n",
       "      <td>0.0</td>\n",
       "      <td>1.494926e+06</td>\n",
       "      <td>1.494926e+06</td>\n",
       "      <td>1.494926e+06</td>\n",
       "      <td>1.494922e+06</td>\n",
       "    </tr>\n",
       "    <tr>\n",
       "      <th>mean</th>\n",
       "      <td>1.782045e+00</td>\n",
       "      <td>1.097653e+00</td>\n",
       "      <td>-7.383084e+01</td>\n",
       "      <td>4.069114e+01</td>\n",
       "      <td>-7.383728e+01</td>\n",
       "      <td>4.069291e+01</td>\n",
       "      <td>1.370598e+00</td>\n",
       "      <td>2.968141e+00</td>\n",
       "      <td>1.254320e+01</td>\n",
       "      <td>3.512800e-01</td>\n",
       "      <td>4.866408e-01</td>\n",
       "      <td>1.235727e+00</td>\n",
       "      <td>1.231047e-01</td>\n",
       "      <td>NaN</td>\n",
       "      <td>2.920991e-01</td>\n",
       "      <td>1.503215e+01</td>\n",
       "      <td>1.540559e+00</td>\n",
       "      <td>1.022353e+00</td>\n",
       "    </tr>\n",
       "    <tr>\n",
       "      <th>std</th>\n",
       "      <td>4.128570e-01</td>\n",
       "      <td>6.359437e-01</td>\n",
       "      <td>2.776082e+00</td>\n",
       "      <td>1.530882e+00</td>\n",
       "      <td>2.677911e+00</td>\n",
       "      <td>1.476698e+00</td>\n",
       "      <td>1.039426e+00</td>\n",
       "      <td>3.076621e+00</td>\n",
       "      <td>1.008278e+01</td>\n",
       "      <td>3.663096e-01</td>\n",
       "      <td>8.504473e-02</td>\n",
       "      <td>2.431476e+00</td>\n",
       "      <td>8.910137e-01</td>\n",
       "      <td>NaN</td>\n",
       "      <td>5.074009e-02</td>\n",
       "      <td>1.155316e+01</td>\n",
       "      <td>5.232935e-01</td>\n",
       "      <td>1.478288e-01</td>\n",
       "    </tr>\n",
       "    <tr>\n",
       "      <th>min</th>\n",
       "      <td>1.000000e+00</td>\n",
       "      <td>1.000000e+00</td>\n",
       "      <td>-8.331908e+01</td>\n",
       "      <td>0.000000e+00</td>\n",
       "      <td>-8.342784e+01</td>\n",
       "      <td>0.000000e+00</td>\n",
       "      <td>0.000000e+00</td>\n",
       "      <td>0.000000e+00</td>\n",
       "      <td>-4.750000e+02</td>\n",
       "      <td>-1.000000e+00</td>\n",
       "      <td>-5.000000e-01</td>\n",
       "      <td>-5.000000e+01</td>\n",
       "      <td>-1.529000e+01</td>\n",
       "      <td>NaN</td>\n",
       "      <td>-3.000000e-01</td>\n",
       "      <td>-4.750000e+02</td>\n",
       "      <td>1.000000e+00</td>\n",
       "      <td>1.000000e+00</td>\n",
       "    </tr>\n",
       "    <tr>\n",
       "      <th>25%</th>\n",
       "      <td>2.000000e+00</td>\n",
       "      <td>1.000000e+00</td>\n",
       "      <td>-7.395961e+01</td>\n",
       "      <td>4.069895e+01</td>\n",
       "      <td>-7.396782e+01</td>\n",
       "      <td>4.069878e+01</td>\n",
       "      <td>1.000000e+00</td>\n",
       "      <td>1.100000e+00</td>\n",
       "      <td>6.500000e+00</td>\n",
       "      <td>0.000000e+00</td>\n",
       "      <td>5.000000e-01</td>\n",
       "      <td>0.000000e+00</td>\n",
       "      <td>0.000000e+00</td>\n",
       "      <td>NaN</td>\n",
       "      <td>3.000000e-01</td>\n",
       "      <td>8.160000e+00</td>\n",
       "      <td>1.000000e+00</td>\n",
       "      <td>1.000000e+00</td>\n",
       "    </tr>\n",
       "    <tr>\n",
       "      <th>50%</th>\n",
       "      <td>2.000000e+00</td>\n",
       "      <td>1.000000e+00</td>\n",
       "      <td>-7.394536e+01</td>\n",
       "      <td>4.074674e+01</td>\n",
       "      <td>-7.394504e+01</td>\n",
       "      <td>4.074728e+01</td>\n",
       "      <td>1.000000e+00</td>\n",
       "      <td>1.980000e+00</td>\n",
       "      <td>9.500000e+00</td>\n",
       "      <td>5.000000e-01</td>\n",
       "      <td>5.000000e-01</td>\n",
       "      <td>0.000000e+00</td>\n",
       "      <td>0.000000e+00</td>\n",
       "      <td>NaN</td>\n",
       "      <td>3.000000e-01</td>\n",
       "      <td>1.176000e+01</td>\n",
       "      <td>2.000000e+00</td>\n",
       "      <td>1.000000e+00</td>\n",
       "    </tr>\n",
       "    <tr>\n",
       "      <th>75%</th>\n",
       "      <td>2.000000e+00</td>\n",
       "      <td>1.000000e+00</td>\n",
       "      <td>-7.391748e+01</td>\n",
       "      <td>4.080255e+01</td>\n",
       "      <td>-7.391013e+01</td>\n",
       "      <td>4.079015e+01</td>\n",
       "      <td>1.000000e+00</td>\n",
       "      <td>3.740000e+00</td>\n",
       "      <td>1.550000e+01</td>\n",
       "      <td>5.000000e-01</td>\n",
       "      <td>5.000000e-01</td>\n",
       "      <td>2.000000e+00</td>\n",
       "      <td>0.000000e+00</td>\n",
       "      <td>NaN</td>\n",
       "      <td>3.000000e-01</td>\n",
       "      <td>1.830000e+01</td>\n",
       "      <td>2.000000e+00</td>\n",
       "      <td>1.000000e+00</td>\n",
       "    </tr>\n",
       "    <tr>\n",
       "      <th>max</th>\n",
       "      <td>2.000000e+00</td>\n",
       "      <td>9.900000e+01</td>\n",
       "      <td>0.000000e+00</td>\n",
       "      <td>4.317726e+01</td>\n",
       "      <td>0.000000e+00</td>\n",
       "      <td>4.279934e+01</td>\n",
       "      <td>9.000000e+00</td>\n",
       "      <td>6.031000e+02</td>\n",
       "      <td>5.805000e+02</td>\n",
       "      <td>1.200000e+01</td>\n",
       "      <td>5.000000e-01</td>\n",
       "      <td>3.000000e+02</td>\n",
       "      <td>9.575000e+01</td>\n",
       "      <td>NaN</td>\n",
       "      <td>3.000000e-01</td>\n",
       "      <td>5.813000e+02</td>\n",
       "      <td>5.000000e+00</td>\n",
       "      <td>2.000000e+00</td>\n",
       "    </tr>\n",
       "  </tbody>\n",
       "</table>\n",
       "</div>"
      ],
      "text/plain": [
       "           VendorID    RateCodeID  Pickup_longitude  Pickup_latitude  \\\n",
       "count  1.494926e+06  1.494926e+06      1.494926e+06     1.494926e+06   \n",
       "mean   1.782045e+00  1.097653e+00     -7.383084e+01     4.069114e+01   \n",
       "std    4.128570e-01  6.359437e-01      2.776082e+00     1.530882e+00   \n",
       "min    1.000000e+00  1.000000e+00     -8.331908e+01     0.000000e+00   \n",
       "25%    2.000000e+00  1.000000e+00     -7.395961e+01     4.069895e+01   \n",
       "50%    2.000000e+00  1.000000e+00     -7.394536e+01     4.074674e+01   \n",
       "75%    2.000000e+00  1.000000e+00     -7.391748e+01     4.080255e+01   \n",
       "max    2.000000e+00  9.900000e+01      0.000000e+00     4.317726e+01   \n",
       "\n",
       "       Dropoff_longitude  Dropoff_latitude  Passenger_count  Trip_distance  \\\n",
       "count       1.494926e+06      1.494926e+06     1.494926e+06   1.494926e+06   \n",
       "mean       -7.383728e+01      4.069291e+01     1.370598e+00   2.968141e+00   \n",
       "std         2.677911e+00      1.476698e+00     1.039426e+00   3.076621e+00   \n",
       "min        -8.342784e+01      0.000000e+00     0.000000e+00   0.000000e+00   \n",
       "25%        -7.396782e+01      4.069878e+01     1.000000e+00   1.100000e+00   \n",
       "50%        -7.394504e+01      4.074728e+01     1.000000e+00   1.980000e+00   \n",
       "75%        -7.391013e+01      4.079015e+01     1.000000e+00   3.740000e+00   \n",
       "max         0.000000e+00      4.279934e+01     9.000000e+00   6.031000e+02   \n",
       "\n",
       "        Fare_amount         Extra       MTA_tax    Tip_amount  Tolls_amount  \\\n",
       "count  1.494926e+06  1.494926e+06  1.494926e+06  1.494926e+06  1.494926e+06   \n",
       "mean   1.254320e+01  3.512800e-01  4.866408e-01  1.235727e+00  1.231047e-01   \n",
       "std    1.008278e+01  3.663096e-01  8.504473e-02  2.431476e+00  8.910137e-01   \n",
       "min   -4.750000e+02 -1.000000e+00 -5.000000e-01 -5.000000e+01 -1.529000e+01   \n",
       "25%    6.500000e+00  0.000000e+00  5.000000e-01  0.000000e+00  0.000000e+00   \n",
       "50%    9.500000e+00  5.000000e-01  5.000000e-01  0.000000e+00  0.000000e+00   \n",
       "75%    1.550000e+01  5.000000e-01  5.000000e-01  2.000000e+00  0.000000e+00   \n",
       "max    5.805000e+02  1.200000e+01  5.000000e-01  3.000000e+02  9.575000e+01   \n",
       "\n",
       "       Ehail_fee  improvement_surcharge  Total_amount  Payment_type  \\\n",
       "count        0.0           1.494926e+06  1.494926e+06  1.494926e+06   \n",
       "mean         NaN           2.920991e-01  1.503215e+01  1.540559e+00   \n",
       "std          NaN           5.074009e-02  1.155316e+01  5.232935e-01   \n",
       "min          NaN          -3.000000e-01 -4.750000e+02  1.000000e+00   \n",
       "25%          NaN           3.000000e-01  8.160000e+00  1.000000e+00   \n",
       "50%          NaN           3.000000e-01  1.176000e+01  2.000000e+00   \n",
       "75%          NaN           3.000000e-01  1.830000e+01  2.000000e+00   \n",
       "max          NaN           3.000000e-01  5.813000e+02  5.000000e+00   \n",
       "\n",
       "         Trip_type   \n",
       "count  1.494922e+06  \n",
       "mean   1.022353e+00  \n",
       "std    1.478288e-01  \n",
       "min    1.000000e+00  \n",
       "25%    1.000000e+00  \n",
       "50%    1.000000e+00  \n",
       "75%    1.000000e+00  \n",
       "max    2.000000e+00  "
      ]
     },
     "execution_count": 4,
     "metadata": {},
     "output_type": "execute_result"
    }
   ],
   "source": [
    "datanyc.describe()"
   ]
  },
  {
   "cell_type": "code",
   "execution_count": 5,
   "metadata": {},
   "outputs": [
    {
     "name": "stdout",
     "output_type": "stream",
     "text": [
      "no. of rows:\n"
     ]
    },
    {
     "data": {
      "text/plain": [
       "1494926"
      ]
     },
     "execution_count": 5,
     "metadata": {},
     "output_type": "execute_result"
    }
   ],
   "source": [
    "print (\"no. of rows:\") \n",
    "datanyc.shape[0]"
   ]
  },
  {
   "cell_type": "code",
   "execution_count": 6,
   "metadata": {
    "collapsed": true
   },
   "outputs": [],
   "source": [
    "nrows=datanyc.shape[0]"
   ]
  },
  {
   "cell_type": "code",
   "execution_count": 7,
   "metadata": {},
   "outputs": [
    {
     "name": "stdout",
     "output_type": "stream",
     "text": [
      "no. of columns:\n"
     ]
    },
    {
     "data": {
      "text/plain": [
       "21"
      ]
     },
     "execution_count": 7,
     "metadata": {},
     "output_type": "execute_result"
    }
   ],
   "source": [
    "print (\"no. of columns:\") \n",
    "datanyc.shape[1]"
   ]
  },
  {
   "cell_type": "markdown",
   "metadata": {
    "collapsed": true
   },
   "source": [
    "# -  Question 2:"
   ]
  },
  {
   "cell_type": "code",
   "execution_count": 153,
   "metadata": {
    "collapsed": true
   },
   "outputs": [],
   "source": [
    "import matplotlib.pyplot as plt"
   ]
  },
  {
   "cell_type": "code",
   "execution_count": 154,
   "metadata": {},
   "outputs": [
    {
     "data": {
      "text/plain": [
       "<matplotlib.text.Text at 0x26f78659518>"
      ]
     },
     "execution_count": 154,
     "metadata": {},
     "output_type": "execute_result"
    },
    {
     "data": {
      "image/png": "[encoded data removed]",
      "text/plain": [
       "<matplotlib.figure.Figure at 0x26f7d967470>"
      ]
     },
     "metadata": {},
     "output_type": "display_data"
    }
   ],
   "source": [
    "import matplotlib.pyplot as plt\n",
    "datanyc.Trip_distance.hist(bins=100,color=\"red\")\n",
    "\n",
    "fig=plt.figure\n",
    "plt.xlabel('Trip Distance(in miles)')\n",
    "plt.ylabel('Count of Values')\n",
    "plt.title('Histogram of the Trip Distance')"
   ]
  },
  {
   "cell_type": "markdown",
   "metadata": {
    "collapsed": true
   },
   "source": [
    "-  The above histogram plot is not helpful as the frequency of the first few values on the x axis are high, hence\n",
    "the scale of the graph is not interpretable,\n",
    "Therefore, a log scaling of the y-axis is done."
   ]
  },
  {
   "cell_type": "code",
   "execution_count": 155,
   "metadata": {},
   "outputs": [
    {
     "data": {
      "text/plain": [
       "<matplotlib.text.Text at 0x26f0409a550>"
      ]
     },
     "execution_count": 155,
     "metadata": {},
     "output_type": "execute_result"
    },
    {
     "data": {
      "image/png": "[encoded data removed]",
      "text/plain": [
       "<matplotlib.figure.Figure at 0x26f6ad44240>"
      ]
     },
     "metadata": {},
     "output_type": "display_data"
    }
   ],
   "source": [
    "import matplotlib.pyplot as plt\n",
    "datanyc.Trip_distance.hist(bins=50,color=\"green\")\n",
    "\n",
    "plt.gca().set_yscale('log')\n",
    "fig=plt.figure\n",
    "plt.title('Histogram of Trip Distance (with a log scaled y-axis)')\n",
    "plt.xlabel('Trip Distance(in miles)')\n",
    "plt.ylabel('log scaled Count of Values')"
   ]
  },
  {
   "cell_type": "markdown",
   "metadata": {
    "collapsed": true
   },
   "source": [
    "-  It can be seen that the above data of the trip distances is a highly right skewed structure .\n",
    "-  It is mostly caused due to the lower bound present on the distance that can be travelled which is 0 miles.\n",
    "- In this case when the normality assumption of the error term falls apart, hence a log transformation would fit the \n",
    "residual values along the fitted line without any pattern deviating from 0 when the residual is plotted against fitted value.\n",
    "-  This is not an error as randomness,normal distribution and symmetricity cannot be expected in this type of data.\n",
    "-  This can be considered for a log normal distribution  or a weibull or a gamma distribution as suitable.\n",
    "-  Here log transformation is done after removing the outliers after which it almost follows a normal distribution.\n",
    "-  There are a few outliers which are removed as people wont travel such long distances in a taxi inside the city, which would take hours together in traffic and is practically pointless.\n",
    "-  Logarthmic transformation preserves order. Hence, taking log and doing analysis won't be different from that \n",
    "     without a log.\n",
    "-  But, a log transformation would be highly helpful:\n",
    "        1)considering the fact that normality assumption is made in almost all statistical analysis and concepts.\n",
    "        2)It takes into consideration the positivity of the trip distance values\n",
    "        3)Fits in high variances and observations easily"
   ]
  },
  {
   "cell_type": "code",
   "execution_count": 156,
   "metadata": {
    "collapsed": true
   },
   "outputs": [],
   "source": [
    "datanyc['log_trip_dist']=log(datanyc['Trip_distance']+1)"
   ]
  },
  {
   "cell_type": "markdown",
   "metadata": {},
   "source": [
    "-  1 is added to avoid log(0) errors. \n",
    "-  Though the trip distance should not be 0, for now those errors are taken care of by the log(X+1) transformation.\n",
    "-  Later in this file the complete data cleaning in the further questions would take care of the validity of the Trip_distance data and it will be replaced appropriately."
   ]
  },
  {
   "cell_type": "code",
   "execution_count": 157,
   "metadata": {},
   "outputs": [
    {
     "data": {
      "text/plain": [
       "<matplotlib.axes._subplots.AxesSubplot at 0x26f08331eb8>"
      ]
     },
     "execution_count": 157,
     "metadata": {},
     "output_type": "execute_result"
    },
    {
     "data": {
      "image/png": "[encoded data removed]",
      "text/plain": [
       "<matplotlib.figure.Figure at 0x26f6ad44198>"
      ]
     },
     "metadata": {},
     "output_type": "display_data"
    }
   ],
   "source": [
    "import numpy\n",
    "elements = numpy.array(datanyc['log_trip_dist'])\n",
    "mean = numpy.mean(elements, axis=0)\n",
    "sd = numpy.std(elements, axis=0)\n",
    "plt.xlabel('log of Trip Distance(in miles)')\n",
    "plt.ylabel('Count of Values')\n",
    "plt.title('Histogram of trip distance after the outliers are removed and Log Normal Transformation')\n",
    "datanyc[(datanyc['log_trip_dist']> mean - 2 * sd) & (datanyc['log_trip_dist']< mean + 2 * sd )].log_trip_dist.hist(bins=50)"
   ]
  },
  {
   "cell_type": "markdown",
   "metadata": {},
   "source": [
    "- Outliers removed at 95% confidence which corresponds to a Z value of 2\n",
    "- This is not a good method to be used universally to remove outliers, but the reason for these outliers seem to be due to an error and moreover we are trying to bring the data into a normal distribution.\n",
    "- Also really less proportion of high values, makes the plots go out of scale and difficult to interpret. Hence under these assumptions, I am safely removing the outliers in this method."
   ]
  },
  {
   "cell_type": "markdown",
   "metadata": {},
   "source": [
    "- Every often I use .dtypes and .describe functions to keep a track of the type of data,number of rows, columns and the summary statistics of all the varialbes involved."
   ]
  },
  {
   "cell_type": "code",
   "execution_count": 339,
   "metadata": {},
   "outputs": [
    {
     "data": {
      "text/plain": [
       "VendorID                          int64\n",
       "Store_and_fwd_flag                int64\n",
       "RateCodeID                     category\n",
       "Pickup_longitude                float64\n",
       "Pickup_latitude                 float64\n",
       "Dropoff_longitude               float64\n",
       "Dropoff_latitude                float64\n",
       "Passenger_count                category\n",
       "Trip_distance                   float64\n",
       "Fare_amount                     float64\n",
       "Extra                           float64\n",
       "MTA_tax                         float64\n",
       "Tip_amount                      float64\n",
       "Tolls_amount                    float64\n",
       "improvement_surcharge           float64\n",
       "Total_amount                    float64\n",
       "Payment_type                      int64\n",
       "Trip_type                       float64\n",
       "log_trip_dist                   float64\n",
       "time_pickup              datetime64[ns]\n",
       "time_drop                datetime64[ns]\n",
       "pickup-hr                         int64\n",
       "dropoff-hr                        int64\n",
       "traveltime                      float64\n",
       "traveltimeinhrs                 float64\n",
       "CheckAirport                      int64\n",
       "tippercent                      float64\n",
       "log_Fare                        float64\n",
       "log_Total_amount                float64\n",
       "day_no                            int64\n",
       "avg_speed_mph                   float64\n",
       "week_no                           int64\n",
       "tempxyz                         float64\n",
       "pickup_hr                         int64\n",
       "dtype: object"
      ]
     },
     "execution_count": 339,
     "metadata": {},
     "output_type": "execute_result"
    }
   ],
   "source": [
    "datanyc.dtypes "
   ]
  },
  {
   "cell_type": "markdown",
   "metadata": {
    "collapsed": true
   },
   "source": [
    "# -  Question 3:"
   ]
  },
  {
   "cell_type": "markdown",
   "metadata": {},
   "source": [
    "- <font color='red'>To showcase the error encountered and to explain how it was tackled in the next block of code:</font>"
   ]
  },
  {
   "cell_type": "code",
   "execution_count": 17,
   "metadata": {},
   "outputs": [
    {
     "ename": "TypeError",
     "evalue": "strptime() argument 1 must be str, not Series",
     "output_type": "error",
     "traceback": [
      "\u001b[1;31m---------------------------------------------------------------------------\u001b[0m",
      "\u001b[1;31mTypeError\u001b[0m                                 Traceback (most recent call last)",
      "\u001b[1;32m<ipython-input-17-1c4442a21202>\u001b[0m in \u001b[0;36m<module>\u001b[1;34m()\u001b[0m\n\u001b[0;32m      1\u001b[0m \u001b[1;31m#To showcase the error encountered and to explain how it was tackled in the next block of code\u001b[0m\u001b[1;33m\u001b[0m\u001b[1;33m\u001b[0m\u001b[0m\n\u001b[0;32m      2\u001b[0m \u001b[1;32mimport\u001b[0m \u001b[0mdatetime\u001b[0m\u001b[1;33m\u001b[0m\u001b[0m\n\u001b[1;32m----> 3\u001b[1;33m \u001b[0mdatanyc\u001b[0m\u001b[1;33m[\u001b[0m\u001b[1;34m'time_pickup_temp'\u001b[0m\u001b[1;33m]\u001b[0m\u001b[1;33m=\u001b[0m\u001b[0mdatetime\u001b[0m\u001b[1;33m.\u001b[0m\u001b[0mdatetime\u001b[0m\u001b[1;33m.\u001b[0m\u001b[0mstrptime\u001b[0m\u001b[1;33m(\u001b[0m\u001b[0mdatanyc\u001b[0m\u001b[1;33m.\u001b[0m\u001b[0mlpep_pickup_datetime\u001b[0m\u001b[1;33m,\u001b[0m\u001b[1;34m\"%Y-%m-%d %H:%M:%S\"\u001b[0m\u001b[1;33m)\u001b[0m\u001b[1;33m\u001b[0m\u001b[0m\n\u001b[0m",
      "\u001b[1;31mTypeError\u001b[0m: strptime() argument 1 must be str, not Series"
     ]
    }
   ],
   "source": [
    "\n",
    "#import datetime\n",
    "#datanyc['time_pickup_temp']=datetime.datetime.strptime(datanyc.lpep_pickup_datetime,\"%Y-%m-%d %H:%M:%S\")"
   ]
  },
  {
   "cell_type": "markdown",
   "metadata": {},
   "source": [
    "-  The above code needs a string with the datetime function, but the input is a series. Hence 'series.apply' method is  used.\n",
    "-  The aim of the following 2 lines of code is to convert the given timestamp of the pickup and drop off timstamp of the taxi ride in the excel sheet which is of the 'object' datatype to 'datetime64[ns]' data type. \n",
    "-  This step makes it easy to access each component of the timestamp individually for further analysis."
   ]
  },
  {
   "cell_type": "code",
   "execution_count": 159,
   "metadata": {
    "collapsed": true
   },
   "outputs": [],
   "source": [
    "import datetime\n",
    "datanyc['time_pickup'] = datanyc.lpep_pickup_datetime.apply(lambda x:datetime.datetime.strptime(x,\"%Y-%m-%d %H:%M:%S\"))\n",
    "datanyc['time_drop'] = datanyc.Lpep_dropoff_datetime.apply(lambda x:datetime.datetime.strptime(x,\"%Y-%m-%d %H:%M:%S\"))"
   ]
  },
  {
   "cell_type": "markdown",
   "metadata": {},
   "source": [
    "- The pick up and the drop off hour component is extracted from the given corresponding timestamps after the above conversion."
   ]
  },
  {
   "cell_type": "code",
   "execution_count": 160,
   "metadata": {
    "collapsed": true
   },
   "outputs": [],
   "source": [
    "datanyc['pickup-hr'] = datanyc.time_pickup.apply(lambda x:x.hour)\n",
    "datanyc['dropoff-hr'] = datanyc.time_drop.apply(lambda x:x.hour)"
   ]
  },
  {
   "cell_type": "markdown",
   "metadata": {},
   "source": [
    "- Travel time is the differnce in time between the drop off time and the pick up time of the taxi ride\n",
    "- The  traveltime variable stores the total taxi journey time in minutes which will be used for the preceeding analysis."
   ]
  },
  {
   "cell_type": "code",
   "execution_count": 161,
   "metadata": {
    "collapsed": true
   },
   "outputs": [],
   "source": [
    "datanyc['traveltime'] = ((datanyc.time_drop-datanyc.time_pickup).apply(lambda x:x.total_seconds()/60.))"
   ]
  },
  {
   "cell_type": "code",
   "execution_count": 162,
   "metadata": {},
   "outputs": [
    {
     "data": {
      "text/plain": [
       "(0, 3)"
      ]
     },
     "execution_count": 162,
     "metadata": {},
     "output_type": "execute_result"
    },
    {
     "data": {
      "image/png": "[encoded data removed]",
      "text/plain": [
       "<matplotlib.figure.Figure at 0x26f04064e80>"
      ]
     },
     "metadata": {},
     "output_type": "display_data"
    }
   ],
   "source": [
    "datanyc['traveltimeinhrs']=datanyc['traveltime']/60\n",
    "datanyc.traveltimeinhrs.hist(bins=100)\n",
    "plt.xlabel('Journey Duration(in hrs)')\n",
    "plt.ylabel('Count of Values')\n",
    "plt.title('Histogram of Taxi Travel duration per ride')\n",
    "plt.xlim(0,3) #Remove the outliers from the plot"
   ]
  },
  {
   "cell_type": "markdown",
   "metadata": {
    "collapsed": true
   },
   "source": [
    "       \n",
    "__Proprotion of travel times greater than 2 hrs= 9219/1494926 = hardly 0.6%<br> \n",
    "  Proprotion of travel times greater than 1  hr= 15965/149426 =nearly 1.06%__ \n",
    "       \n",
    "-As can be seen in the above histogram majority of the travel times are less than an hour(98-99%) mostly. \n",
    "-Hence, the pickup hour is assumed to be the corresponding hour of the day over which the mean and median trip distance is grouped.\n"
   ]
  },
  {
   "cell_type": "code",
   "execution_count": 163,
   "metadata": {},
   "outputs": [
    {
     "data": {
      "text/plain": [
       "9219"
      ]
     },
     "execution_count": 163,
     "metadata": {},
     "output_type": "execute_result"
    }
   ],
   "source": [
    "datanyc[datanyc['traveltimeinhrs'] > 2].count() [1]        "
   ]
  },
  {
   "cell_type": "code",
   "execution_count": 164,
   "metadata": {},
   "outputs": [
    {
     "data": {
      "text/plain": [
       "15965"
      ]
     },
     "execution_count": 164,
     "metadata": {},
     "output_type": "execute_result"
    }
   ],
   "source": [
    "datanyc[datanyc['traveltimeinhrs'] > 1].count() [1]  "
   ]
  },
  {
   "cell_type": "markdown",
   "metadata": {},
   "source": [
    "-  min and max operations are performed to see if the hours are mapped on to the 24 hours of the day<br>\n",
    "-  Here the key of the variable 'pick-hr' is that 0 corresponds to mid night 00:00 am and 23 to 11:00 pm"
   ]
  },
  {
   "cell_type": "code",
   "execution_count": 165,
   "metadata": {},
   "outputs": [
    {
     "data": {
      "text/plain": [
       "0"
      ]
     },
     "execution_count": 165,
     "metadata": {},
     "output_type": "execute_result"
    }
   ],
   "source": [
    "min(datanyc['pickup-hr'])"
   ]
  },
  {
   "cell_type": "code",
   "execution_count": 166,
   "metadata": {},
   "outputs": [
    {
     "data": {
      "text/plain": [
       "23"
      ]
     },
     "execution_count": 166,
     "metadata": {},
     "output_type": "execute_result"
    }
   ],
   "source": [
    "max(datanyc['pickup-hr'])"
   ]
  },
  {
   "cell_type": "markdown",
   "metadata": {},
   "source": [
    "> -  <font color=red> __Mean of the trip distance grouped by the hour of the day:__ </font>"
   ]
  },
  {
   "cell_type": "code",
   "execution_count": 167,
   "metadata": {},
   "outputs": [
    {
     "data": {
      "text/plain": [
       "pickup-hr\n",
       "0     3.115276\n",
       "1     3.017347\n",
       "2     3.046176\n",
       "3     3.212945\n",
       "4     3.526555\n",
       "5     4.133474\n",
       "6     4.055149\n",
       "7     3.284394\n",
       "8     3.048450\n",
       "9     2.999105\n",
       "10    2.944482\n",
       "11    2.912015\n",
       "12    2.903065\n",
       "13    2.878294\n",
       "14    2.864304\n",
       "15    2.857040\n",
       "16    2.779852\n",
       "17    2.679114\n",
       "18    2.653222\n",
       "19    2.715597\n",
       "20    2.777052\n",
       "21    2.999189\n",
       "22    3.185394\n",
       "23    3.191538\n",
       "Name: Trip_distance, dtype: float64"
      ]
     },
     "execution_count": 167,
     "metadata": {},
     "output_type": "execute_result"
    }
   ],
   "source": [
    "datanyc['Trip_distance'].groupby(datanyc['pickup-hr']).mean()"
   ]
  },
  {
   "cell_type": "code",
   "execution_count": 168,
   "metadata": {},
   "outputs": [
    {
     "data": {
      "text/plain": [
       "<matplotlib.text.Text at 0x26f08567198>"
      ]
     },
     "execution_count": 168,
     "metadata": {},
     "output_type": "execute_result"
    },
    {
     "data": {
      "image/png": "[encoded data removed]",
      "text/plain": [
       "<matplotlib.figure.Figure at 0x26f0854f828>"
      ]
     },
     "metadata": {},
     "output_type": "display_data"
    }
   ],
   "source": [
    "pickup1=datanyc['Trip_distance'].groupby(datanyc['pickup-hr']).mean().plot()\n",
    "plt.title('Mean of the trip distance grouped by the hour of the day')\n",
    "plt.xlabel('Hour of the day')\n",
    "plt.ylabel('Trip Distance')"
   ]
  },
  {
   "cell_type": "markdown",
   "metadata": {},
   "source": [
    "> -  <font color=red>__Median of the trip distance grouped by the hour of the day:__</font>"
   ]
  },
  {
   "cell_type": "code",
   "execution_count": 169,
   "metadata": {},
   "outputs": [
    {
     "data": {
      "text/plain": [
       "pickup-hr\n",
       "0     2.20\n",
       "1     2.12\n",
       "2     2.14\n",
       "3     2.20\n",
       "4     2.36\n",
       "5     2.90\n",
       "6     2.84\n",
       "7     2.17\n",
       "8     1.98\n",
       "9     1.96\n",
       "10    1.92\n",
       "11    1.88\n",
       "12    1.89\n",
       "13    1.84\n",
       "14    1.83\n",
       "15    1.81\n",
       "16    1.80\n",
       "17    1.78\n",
       "18    1.80\n",
       "19    1.85\n",
       "20    1.90\n",
       "21    2.03\n",
       "22    2.20\n",
       "23    2.22\n",
       "Name: Trip_distance, dtype: float64"
      ]
     },
     "execution_count": 169,
     "metadata": {},
     "output_type": "execute_result"
    }
   ],
   "source": [
    "datanyc['Trip_distance'].groupby(datanyc['pickup-hr']).median()"
   ]
  },
  {
   "cell_type": "code",
   "execution_count": 170,
   "metadata": {},
   "outputs": [
    {
     "data": {
      "text/plain": [
       "<matplotlib.text.Text at 0x26f08487d68>"
      ]
     },
     "execution_count": 170,
     "metadata": {},
     "output_type": "execute_result"
    },
    {
     "data": {
      "image/png": "[encoded data removed]",
      "text/plain": [
       "<matplotlib.figure.Figure at 0x26f085cb7f0>"
      ]
     },
     "metadata": {},
     "output_type": "display_data"
    }
   ],
   "source": [
    "datanyc['Trip_distance'].groupby(datanyc['pickup-hr']).median().plot()\n",
    "plt.title('Median of the trip distance grouped by the hour of the day')\n",
    "plt.xlabel('Hour of the day')\n",
    "plt.ylabel('Trip Distance')"
   ]
  },
  {
   "cell_type": "markdown",
   "metadata": {},
   "source": [
    "> -  <font color=red>__Comparison of the Mean & Median of the trip distance grouped by the hour of the day:__</font>"
   ]
  },
  {
   "cell_type": "code",
   "execution_count": 171,
   "metadata": {},
   "outputs": [
    {
     "data": {
      "text/plain": [
       "<matplotlib.text.Text at 0x26f08a5ebe0>"
      ]
     },
     "execution_count": 171,
     "metadata": {},
     "output_type": "execute_result"
    },
    {
     "data": {
      "image/png": "[encoded data removed]",
      "text/plain": [
       "<matplotlib.figure.Figure at 0x26f08a56278>"
      ]
     },
     "metadata": {},
     "output_type": "display_data"
    }
   ],
   "source": [
    "table_stat = datanyc.pivot_table(index='pickup-hr', values='Trip_distance',aggfunc=('mean','median'))\n",
    "table_stat.plot()\n",
    "plt.title('Mean & Median of the trip distance grouped by the hour of the day')\n",
    "plt.xlabel('Hour of the day')\n",
    "plt.ylabel('Trip Distance')"
   ]
  },
  {
   "cell_type": "code",
   "execution_count": 172,
   "metadata": {},
   "outputs": [
    {
     "name": "stdout",
     "output_type": "stream",
     "text": [
      "The hour of the day is such that 0 is 00:00 am and 23 is 11:00 pm\n"
     ]
    },
    {
     "data": {
      "image/png": "[encoded data removed]",
      "text/plain": [
       "<matplotlib.figure.Figure at 0x26f08b0d278>"
      ]
     },
     "metadata": {},
     "output_type": "display_data"
    }
   ],
   "source": [
    "datanyc.boxplot(column='Trip_distance',by='pickup-hr')\n",
    "plt.ylim(0,5)\n",
    "plt.ylabel('Trip Distance(in miles)')\n",
    "plt.ylabel('Hour of the day ')\n",
    "print(\"The hour of the day is such that 0 is 00:00 am and 23 is 11:00 pm\")"
   ]
  },
  {
   "cell_type": "markdown",
   "metadata": {
    "collapsed": true
   },
   "source": [
    "-  The above graphs suggests that the distance travelled in the morning hours is higher considering the mean as well as the median\n",
    "-  The mean is somewhere above the 50th percentile(median) of the boxplot which suggests  that the trip-distance on an   average is more than the hourly median for every hour of the day though there are more people travelling a distance less than the hourly mean distance on a given day.\n",
    "-  Hence these 2 parameters are to be well understood and  analysed further without considering their effects the same in all the analysis."
   ]
  },
  {
   "cell_type": "markdown",
   "metadata": {
    "collapsed": true
   },
   "source": [
    "> -  <font color=red>__AIRPORT TRIP STATISTICS / INFERENCES:__</font>"
   ]
  },
  {
   "cell_type": "markdown",
   "metadata": {
    "collapsed": true
   },
   "source": [
    "-  I tried to use the 'geopy' module to handle the longitude and the latitude based geographic data.\n",
    "-  I encountered some error in installing the 'pip' modeule for that. \n",
    "-  Hence, I chose an alternate way of analysing the geographic data using the comparison of geographic data as explained below.\n"
   ]
  },
  {
   "cell_type": "code",
   "execution_count": 173,
   "metadata": {},
   "outputs": [
    {
     "name": "stdout",
     "output_type": "stream",
     "text": [
      "Result of rounding off error (in miles): 0.9828432219604408\n"
     ]
    }
   ],
   "source": [
    "from math import sin, cos, sqrt, atan2, radians\n",
    "\n",
    "# approximate radius of earth in km\n",
    "R = 6373.0\n",
    "\n",
    "lat1 = radians(1.99999999)\n",
    "lon1 = radians(1.99999999)\n",
    "lat2 = radians(1.99)\n",
    "lon2 = radians(1.99)\n",
    "\n",
    "dlon = lon2 - lon1\n",
    "dlat = lat2 - lat1\n",
    "\n",
    "a = sin(dlat / 2)**2 + cos(lat1) * cos(lat2) * sin(dlon / 2)**2\n",
    "c = 2 * atan2(sqrt(a), sqrt(1 - a))\n",
    "#distance=(2 * atan2(sqrt(a), sqrt(1 - a)))*(sin(dlat / 2)**2 + cos(lat1) * cos(lat2) * sin(dlon / 2)**2)\n",
    "distance = R * c/1.6\n",
    "\n",
    "print(\"Result of rounding off error (in miles):\", distance)\n"
   ]
  },
  {
   "cell_type": "markdown",
   "metadata": {},
   "source": [
    "- The above set of formulas were obtained from the internet\n",
    "- The above set of code is used to explain an assumption made here and the reasoning for the approximation taking into consideration the real world inaccuracies. \n",
    "- Only 2 decimals of the given(8 decimal places) latitude and longitude are used by rounding them down as it is difficult to have a match of the actual geographical coordinates of the airports to that entered in the data collected due to the fact that due to traffic or randomness or other reasons , the taxi driver cannot end the ride at the exact set of coordinates.\n",
    "- Therefore it is assumed that the latitudes and longitudes are calculated to 2 deimal point accuracies to get more matches and data for analysis and the following is the error that might creep in due to this approximation.\n",
    "- Here around somewhere less than 1 mile is the error which is acceptable considering the fact that there are different terminals in an airport and the other reasons mentioned above"
   ]
  },
  {
   "cell_type": "markdown",
   "metadata": {
    "collapsed": true
   },
   "source": [
    "__Coordinates of 3 famous airports in NYC which are considered for analysis here.__\n",
    "> - LGA : 40.78° , -73.87° \n",
    "> - EWR : 40.69° , -74.17°\n",
    "> - JFK : 40.64° , -73.778° "
   ]
  },
  {
   "cell_type": "code",
   "execution_count": 174,
   "metadata": {
    "collapsed": true
   },
   "outputs": [],
   "source": [
    "k=[]"
   ]
  },
  {
   "cell_type": "code",
   "execution_count": 175,
   "metadata": {
    "collapsed": true
   },
   "outputs": [],
   "source": [
    "#Rounding off to 2 decimal places as discussed above\n",
    "datanyc['Pickup_longitude']=round(datanyc['Pickup_longitude'],2)\n",
    "datanyc['Pickup_latitude']=round(datanyc['Pickup_latitude'],2)\n",
    "datanyc['Dropoff_longitude']=round(datanyc['Dropoff_longitude'],2)\n",
    "datanyc['Dropoff_latitude']=round(datanyc['Dropoff_latitude'],2)"
   ]
  },
  {
   "cell_type": "code",
   "execution_count": 176,
   "metadata": {
    "collapsed": true
   },
   "outputs": [],
   "source": [
    "#This set of code is used to classify a taxi ride as to whether the pick up or drop location of a taxi ride it to or from an airport\n",
    "for index, row in datanyc.iterrows():\n",
    "    if  (((row['Pickup_longitude']==-73.87) & (row['Pickup_latitude']==40.78))  |\n",
    "          ((row['Pickup_longitude']==-74.17) & (row['Pickup_latitude']==40.69)) |\n",
    "                 ((row['Pickup_longitude']==-73.78) & (row['Pickup_latitude']==40.64))  |\n",
    "                    ((row['Dropoff_longitude']==-73.87) & (row['Dropoff_latitude']==40.78))  |\n",
    "                          ((row['Dropoff_longitude']==-74.17) & (row['Dropoff_latitude']==40.69)) |\n",
    "                                 ((row['Dropoff_longitude']==-73.78) & (row['Dropoff_latitude']==40.64))):\n",
    "        k.append(\"airport\")\n",
    "    else:\n",
    "        k.append(\"not airport\") "
   ]
  },
  {
   "cell_type": "code",
   "execution_count": 177,
   "metadata": {
    "collapsed": true
   },
   "outputs": [],
   "source": [
    "datanyc['CheckAirport']=k"
   ]
  },
  {
   "cell_type": "markdown",
   "metadata": {},
   "source": [
    ">  >  <font color=green>__Airport and Non Airport Count statistics:__</font>"
   ]
  },
  {
   "cell_type": "code",
   "execution_count": 178,
   "metadata": {},
   "outputs": [
    {
     "data": {
      "text/plain": [
       "airport           4174\n",
       "not airport    1490752\n",
       "Name: CheckAirport, dtype: int64"
      ]
     },
     "execution_count": 178,
     "metadata": {},
     "output_type": "execute_result"
    }
   ],
   "source": [
    "datanyc['CheckAirport'].value_counts(ascending=True)"
   ]
  },
  {
   "cell_type": "code",
   "execution_count": 179,
   "metadata": {},
   "outputs": [
    {
     "data": {
      "text/plain": [
       "<matplotlib.text.Text at 0x26f08b1ca90>"
      ]
     },
     "execution_count": 179,
     "metadata": {},
     "output_type": "execute_result"
    },
    {
     "data": {
      "image/png": "[encoded data removed]",
      "text/plain": [
       "<matplotlib.figure.Figure at 0x26f08ef87f0>"
      ]
     },
     "metadata": {},
     "output_type": "display_data"
    }
   ],
   "source": [
    "datanyc['CheckAirport'].value_counts(ascending=True).plot(kind='bar',color=\"blue\")\n",
    "plt.gca().set_yscale('log')\n",
    "plt.ylabel('Count of rides in log scale')"
   ]
  },
  {
   "cell_type": "markdown",
   "metadata": {},
   "source": [
    ">  >  <font color=green>__Airport analysis-1:__</font>"
   ]
  },
  {
   "cell_type": "code",
   "execution_count": 180,
   "metadata": {},
   "outputs": [
    {
     "data": {
      "text/html": [
       "<div>\n",
       "<style>\n",
       "    .dataframe thead tr:only-child th {\n",
       "        text-align: right;\n",
       "    }\n",
       "\n",
       "    .dataframe thead th {\n",
       "        text-align: left;\n",
       "    }\n",
       "\n",
       "    .dataframe tbody tr th {\n",
       "        vertical-align: top;\n",
       "    }\n",
       "</style>\n",
       "<table border=\"1\" class=\"dataframe\">\n",
       "  <thead>\n",
       "    <tr style=\"text-align: right;\">\n",
       "      <th>CheckAirport</th>\n",
       "      <th>airport</th>\n",
       "      <th>not airport</th>\n",
       "      <th>All</th>\n",
       "    </tr>\n",
       "    <tr>\n",
       "      <th>Payment_type</th>\n",
       "      <th></th>\n",
       "      <th></th>\n",
       "      <th></th>\n",
       "    </tr>\n",
       "  </thead>\n",
       "  <tbody>\n",
       "    <tr>\n",
       "      <th>1</th>\n",
       "      <td>0.698371</td>\n",
       "      <td>0.468470</td>\n",
       "      <td>0.469112</td>\n",
       "    </tr>\n",
       "    <tr>\n",
       "      <th>2</th>\n",
       "      <td>0.299952</td>\n",
       "      <td>0.524867</td>\n",
       "      <td>0.524239</td>\n",
       "    </tr>\n",
       "    <tr>\n",
       "      <th>3</th>\n",
       "      <td>0.000958</td>\n",
       "      <td>0.003685</td>\n",
       "      <td>0.003678</td>\n",
       "    </tr>\n",
       "    <tr>\n",
       "      <th>4</th>\n",
       "      <td>0.000719</td>\n",
       "      <td>0.002928</td>\n",
       "      <td>0.002922</td>\n",
       "    </tr>\n",
       "    <tr>\n",
       "      <th>5</th>\n",
       "      <td>0.000000</td>\n",
       "      <td>0.000050</td>\n",
       "      <td>0.000050</td>\n",
       "    </tr>\n",
       "    <tr>\n",
       "      <th>All</th>\n",
       "      <td>1.000000</td>\n",
       "      <td>1.000000</td>\n",
       "      <td>1.000000</td>\n",
       "    </tr>\n",
       "  </tbody>\n",
       "</table>\n",
       "</div>"
      ],
      "text/plain": [
       "CheckAirport   airport  not airport       All\n",
       "Payment_type                                 \n",
       "1             0.698371     0.468470  0.469112\n",
       "2             0.299952     0.524867  0.524239\n",
       "3             0.000958     0.003685  0.003678\n",
       "4             0.000719     0.002928  0.002922\n",
       "5             0.000000     0.000050  0.000050\n",
       "All           1.000000     1.000000  1.000000"
      ]
     },
     "execution_count": 180,
     "metadata": {},
     "output_type": "execute_result"
    }
   ],
   "source": [
    "def percConvert(ser):\n",
    "  return ser/float(ser[-1])\n",
    "pd.crosstab(datanyc[\"Payment_type\"],datanyc[\"CheckAirport\"],margins=True).apply(percConvert, axis=0)"
   ]
  },
  {
   "cell_type": "markdown",
   "metadata": {},
   "source": [
    "- Almost all of them prefer payment type 1 or 2, but more people go for payment mode 1 while going to or coming from the airport(72%). \n",
    "- Overall it is better to avail and make it easier to pay through mode 1 for airports and either 1 or 2 in general."
   ]
  },
  {
   "cell_type": "markdown",
   "metadata": {},
   "source": [
    ">  >  <font color=green>__Airport analysis-2:__</font>"
   ]
  },
  {
   "cell_type": "code",
   "execution_count": 185,
   "metadata": {},
   "outputs": [
    {
     "data": {
      "text/html": [
       "<div>\n",
       "<style>\n",
       "    .dataframe thead tr:only-child th {\n",
       "        text-align: right;\n",
       "    }\n",
       "\n",
       "    .dataframe thead th {\n",
       "        text-align: left;\n",
       "    }\n",
       "\n",
       "    .dataframe tbody tr th {\n",
       "        vertical-align: top;\n",
       "    }\n",
       "</style>\n",
       "<table border=\"1\" class=\"dataframe\">\n",
       "  <thead>\n",
       "    <tr style=\"text-align: right;\">\n",
       "      <th>CheckAirport</th>\n",
       "      <th>airport</th>\n",
       "      <th>not airport</th>\n",
       "      <th>All</th>\n",
       "    </tr>\n",
       "    <tr>\n",
       "      <th>RateCodeID</th>\n",
       "      <th></th>\n",
       "      <th></th>\n",
       "      <th></th>\n",
       "    </tr>\n",
       "  </thead>\n",
       "  <tbody>\n",
       "    <tr>\n",
       "      <th>1</th>\n",
       "      <td>3219</td>\n",
       "      <td>1451245</td>\n",
       "      <td>1454464</td>\n",
       "    </tr>\n",
       "    <tr>\n",
       "      <th>2</th>\n",
       "      <td>753</td>\n",
       "      <td>3682</td>\n",
       "      <td>4435</td>\n",
       "    </tr>\n",
       "    <tr>\n",
       "      <th>3</th>\n",
       "      <td>0</td>\n",
       "      <td>1117</td>\n",
       "      <td>1117</td>\n",
       "    </tr>\n",
       "    <tr>\n",
       "      <th>4</th>\n",
       "      <td>0</td>\n",
       "      <td>925</td>\n",
       "      <td>925</td>\n",
       "    </tr>\n",
       "    <tr>\n",
       "      <th>5</th>\n",
       "      <td>202</td>\n",
       "      <td>33741</td>\n",
       "      <td>33943</td>\n",
       "    </tr>\n",
       "    <tr>\n",
       "      <th>6</th>\n",
       "      <td>0</td>\n",
       "      <td>36</td>\n",
       "      <td>36</td>\n",
       "    </tr>\n",
       "    <tr>\n",
       "      <th>99</th>\n",
       "      <td>0</td>\n",
       "      <td>6</td>\n",
       "      <td>6</td>\n",
       "    </tr>\n",
       "    <tr>\n",
       "      <th>All</th>\n",
       "      <td>4174</td>\n",
       "      <td>1490752</td>\n",
       "      <td>1494926</td>\n",
       "    </tr>\n",
       "  </tbody>\n",
       "</table>\n",
       "</div>"
      ],
      "text/plain": [
       "CheckAirport  airport  not airport      All\n",
       "RateCodeID                                 \n",
       "1                3219      1451245  1454464\n",
       "2                 753         3682     4435\n",
       "3                   0         1117     1117\n",
       "4                   0          925      925\n",
       "5                 202        33741    33943\n",
       "6                   0           36       36\n",
       "99                  0            6        6\n",
       "All              4174      1490752  1494926"
      ]
     },
     "execution_count": 185,
     "metadata": {},
     "output_type": "execute_result"
    }
   ],
   "source": [
    "pd.crosstab(datanyc[\"RateCodeID\"],datanyc[\"CheckAirport\"],margins=True)"
   ]
  },
  {
   "cell_type": "markdown",
   "metadata": {},
   "source": [
    "- This suggests that airports predominantly have a RateCodeID of 1/2/5"
   ]
  },
  {
   "cell_type": "markdown",
   "metadata": {},
   "source": [
    ">  >  <font color=green>__Airport analysis-3:__</font>"
   ]
  },
  {
   "cell_type": "code",
   "execution_count": 186,
   "metadata": {},
   "outputs": [
    {
     "data": {
      "text/plain": [
       "<matplotlib.text.Text at 0x26f334cdf98>"
      ]
     },
     "execution_count": 186,
     "metadata": {},
     "output_type": "execute_result"
    },
    {
     "data": {
      "image/png": "[encoded data removed]",
      "text/plain": [
       "<matplotlib.figure.Figure at 0x26f3343c9e8>"
      ]
     },
     "metadata": {},
     "output_type": "display_data"
    }
   ],
   "source": [
    "table1 = datanyc['traveltimeinhrs'].groupby(datanyc['CheckAirport']).mean()\n",
    "table1.plot(kind=\"bar\",color='brown')\n",
    "plt.ylabel('Journey time in hrs')"
   ]
  },
  {
   "cell_type": "markdown",
   "metadata": {},
   "source": [
    "- Statistical tests performed to see if the traveltime significantly varies and if so which is higher/lower between the rides involving the ones that involve airport pickup/drop and other rides "
   ]
  },
  {
   "cell_type": "code",
   "execution_count": 187,
   "metadata": {},
   "outputs": [
    {
     "data": {
      "text/plain": [
       "Ttest_indResult(statistic=15.967250097980742, pvalue=9.1081297971433544e-56)"
      ]
     },
     "execution_count": 187,
     "metadata": {},
     "output_type": "execute_result"
    }
   ],
   "source": [
    "from scipy import stats\n",
    "v1 = datanyc[(datanyc.CheckAirport==\"airport\") ].traveltimeinhrs\n",
    "v2 = datanyc[(datanyc.CheckAirport==\"not airport\") ].traveltimeinhrs\n",
    "stats.ttest_ind(v1,v2,equal_var=False)"
   ]
  },
  {
   "cell_type": "markdown",
   "metadata": {
    "collapsed": true
   },
   "source": [
    "- The above t-test suggests that the mean of travel time for airport pickup and drop and the other rides are different.\n",
    "- As the p value is less that even 0.01, at 99% confidence, the travel time for airport pickup and drop and the other rides are different.\n",
    "- Moreover it can be concluded that in fact the mean traveltime for airport pickup and drop is greater than the other rides as along with a p value less than 0.01, t- statistic is also greater than 0.\n",
    "- This trend could be explained by tha fact that the airports are in general far away from the central part part of the city and also that people usually prefer to go by a taxi irrespective of the distance while going to an airport becasue they carry a lot of luggage and need to reach the airport in time. hence a taxi is better for these aspects than a public transport.\n",
    "- The same way people who are picked up from home usually are tired, have luggage and if it is a company sponsored trip, a taxi is highly preffered over public transports."
   ]
  },
  {
   "cell_type": "markdown",
   "metadata": {
    "collapsed": true
   },
   "source": [
    "- following 2 blocks of data cleaning are useful for further questions"
   ]
  },
  {
   "cell_type": "code",
   "execution_count": 188,
   "metadata": {
    "scrolled": true
   },
   "outputs": [
    {
     "data": {
      "text/plain": [
       "0.33771049592647656"
      ]
     },
     "execution_count": 188,
     "metadata": {},
     "output_type": "execute_result"
    }
   ],
   "source": [
    "datanyc['traveltimeinhrs'].mean()"
   ]
  },
  {
   "cell_type": "code",
   "execution_count": 189,
   "metadata": {
    "collapsed": true
   },
   "outputs": [],
   "source": [
    "logtime_index = datanyc[(datanyc.traveltimeinhrs==0)].index\n",
    "datanyc.loc[logtime_index,'traveltimeinhrs'] = 0.34"
   ]
  },
  {
   "cell_type": "markdown",
   "metadata": {},
   "source": [
    ">  >  <font color=green>__Airport analysis-4:__</font>"
   ]
  },
  {
   "cell_type": "code",
   "execution_count": 190,
   "metadata": {},
   "outputs": [
    {
     "data": {
      "text/plain": [
       "CheckAirport\n",
       "airport        41.906931\n",
       "not airport    12.460981\n",
       "Name: Fare_amount, dtype: float64"
      ]
     },
     "execution_count": 190,
     "metadata": {},
     "output_type": "execute_result"
    }
   ],
   "source": [
    "datanyc['Fare_amount'].groupby(datanyc['CheckAirport']).mean()"
   ]
  },
  {
   "cell_type": "markdown",
   "metadata": {},
   "source": [
    "- After finding such a low value for the non airport trips, I found that there a lot of negative values in the excel sheet in the fare_amount column which seems to be like entry errors as the distance on a rough glance seems proportional to the absolute cost.\n",
    "- Moreover there a lot more of fare amount=0 values which could be due to an error of any promotional offers or discunts maybe.\n",
    "- For the following calculations those errors are neglected as they would be dealt with in the next question  and also because there are only a few of such values."
   ]
  },
  {
   "cell_type": "markdown",
   "metadata": {
    "collapsed": true
   },
   "source": [
    "- These high rates could be attributed to the high fixed fares and surchargs according to \"http://www.nyc.gov/html/tlc/html/passenger/taxicab_rate.shtml\""
   ]
  },
  {
   "cell_type": "code",
   "execution_count": 191,
   "metadata": {},
   "outputs": [
    {
     "data": {
      "text/plain": [
       "12.54319751613129"
      ]
     },
     "execution_count": 191,
     "metadata": {},
     "output_type": "execute_result"
    }
   ],
   "source": [
    "datanyc['Fare_amount'].mean()"
   ]
  },
  {
   "cell_type": "markdown",
   "metadata": {},
   "source": [
    ">  >  <font color=green>__Airport analysis-5:__</font>"
   ]
  },
  {
   "cell_type": "code",
   "execution_count": 192,
   "metadata": {},
   "outputs": [
    {
     "data": {
      "text/plain": [
       "<matplotlib.text.Text at 0x26f363b9eb8>"
      ]
     },
     "execution_count": 192,
     "metadata": {},
     "output_type": "execute_result"
    },
    {
     "data": {
      "image/png": "[encoded data removed]",
      "text/plain": [
       "<matplotlib.figure.Figure at 0x26f333b2f28>"
      ]
     },
     "metadata": {},
     "output_type": "display_data"
    }
   ],
   "source": [
    "t1=datanyc[datanyc['CheckAirport']==\"airport\"].CheckAirport.groupby(datanyc['pickup-hr']).count()\n",
    "t1.plot()\n",
    "plt.ylabel('count of values')\n",
    "plt.xlabel('Hour of the day')\n",
    "plt.title('Airport trip count over the hour of the day')"
   ]
  },
  {
   "cell_type": "markdown",
   "metadata": {
    "collapsed": true
   },
   "source": [
    "- The above plot for airport pickup/drop suggests that the frequency of flight  arrival and departure are high during the early morning as well as in the evenings.\n",
    "- Hence the taxi company should make sure :<br>\n",
    "i)the swift availability of taxis around the airports during that period for immediate response to airport pick up bookings <br>\n",
    "ii)according to further analysis, the origination points of the airport-drop-off can be analysed and swift availbilty of taxis in that vicinity \n",
    "    \n",
    "- The above 2 points must be ensured for:<br>\n",
    "a) customer satisfaction<br>\n",
    "b) generate more revenue before they cancel the trip due to a delay\n"
   ]
  },
  {
   "cell_type": "code",
   "execution_count": 193,
   "metadata": {},
   "outputs": [
    {
     "data": {
      "text/plain": [
       "<matplotlib.text.Text at 0x26f58d6f400>"
      ]
     },
     "execution_count": 193,
     "metadata": {},
     "output_type": "execute_result"
    },
    {
     "data": {
      "image/png": "[encoded data removed]",
      "text/plain": [
       "<matplotlib.figure.Figure at 0x26f32d29208>"
      ]
     },
     "metadata": {},
     "output_type": "display_data"
    }
   ],
   "source": [
    "t2=datanyc[datanyc['CheckAirport']==\"not airport\"].CheckAirport.groupby(datanyc['pickup-hr']).count()\n",
    "t2.plot(color='red')\n",
    "plt.ylabel('count of values')\n",
    "plt.xlabel('Hour of the day')\n",
    "plt.title('Non- Airport trip count over the hour of the day')"
   ]
  },
  {
   "cell_type": "markdown",
   "metadata": {
    "collapsed": true
   },
   "source": [
    "__General analysis not completely relevant to Q3:__\n",
    "- The above plots suggests that the non airport / the regular trend( which can be safely assumed due to the high difference between the non airport and the non airport trips) suggests that the poeple use taxis the highest during the evening to the  night hours.\n",
    "- The lesser frequencey of taxis can be explained by the fact that people are asleep., and the increase towards the mornings, a flat line in the middle of the day and again a increase towards the evening and also assuming the fact that the data has around 25 days/30 days as weekdays, it is safe to assume that the taxi-users are mostly office goers who can afford a taxi\n"
   ]
  },
  {
   "cell_type": "markdown",
   "metadata": {
    "collapsed": true
   },
   "source": [
    "# -Question 4:"
   ]
  },
  {
   "cell_type": "markdown",
   "metadata": {},
   "source": [
    " > -  <font color=red>__4.1-Tip percentage calculation:__</font>"
   ]
  },
  {
   "cell_type": "code",
   "execution_count": 194,
   "metadata": {
    "collapsed": true
   },
   "outputs": [],
   "source": [
    "#'tippercent' is the percentage of tip amount to the total taxi amount paid by the customer\n",
    "datanyc['tippercent']=datanyc['Tip_amount']*100/datanyc['Total_amount'] "
   ]
  },
  {
   "cell_type": "markdown",
   "metadata": {},
   "source": [
    "- The value of ' tippercent would be calculated once more after proper data cleaning and imputing missing values of variables, which might affect the 'tippercent'"
   ]
  },
  {
   "cell_type": "code",
   "execution_count": 195,
   "metadata": {},
   "outputs": [
    {
     "data": {
      "text/html": [
       "<div>\n",
       "<style>\n",
       "    .dataframe thead tr:only-child th {\n",
       "        text-align: right;\n",
       "    }\n",
       "\n",
       "    .dataframe thead th {\n",
       "        text-align: left;\n",
       "    }\n",
       "\n",
       "    .dataframe tbody tr th {\n",
       "        vertical-align: top;\n",
       "    }\n",
       "</style>\n",
       "<table border=\"1\" class=\"dataframe\">\n",
       "  <thead>\n",
       "    <tr style=\"text-align: right;\">\n",
       "      <th></th>\n",
       "      <th>VendorID</th>\n",
       "      <th>RateCodeID</th>\n",
       "      <th>Pickup_longitude</th>\n",
       "      <th>Pickup_latitude</th>\n",
       "      <th>Dropoff_longitude</th>\n",
       "      <th>Dropoff_latitude</th>\n",
       "      <th>Passenger_count</th>\n",
       "      <th>Trip_distance</th>\n",
       "      <th>Fare_amount</th>\n",
       "      <th>Extra</th>\n",
       "      <th>...</th>\n",
       "      <th>improvement_surcharge</th>\n",
       "      <th>Total_amount</th>\n",
       "      <th>Payment_type</th>\n",
       "      <th>Trip_type</th>\n",
       "      <th>log_trip_dist</th>\n",
       "      <th>pickup-hr</th>\n",
       "      <th>dropoff-hr</th>\n",
       "      <th>traveltime</th>\n",
       "      <th>traveltimeinhrs</th>\n",
       "      <th>tippercent</th>\n",
       "    </tr>\n",
       "  </thead>\n",
       "  <tbody>\n",
       "    <tr>\n",
       "      <th>count</th>\n",
       "      <td>1.494926e+06</td>\n",
       "      <td>1.494926e+06</td>\n",
       "      <td>1.494926e+06</td>\n",
       "      <td>1.494926e+06</td>\n",
       "      <td>1.494926e+06</td>\n",
       "      <td>1.494926e+06</td>\n",
       "      <td>1.494926e+06</td>\n",
       "      <td>1.494926e+06</td>\n",
       "      <td>1.494926e+06</td>\n",
       "      <td>1.494926e+06</td>\n",
       "      <td>...</td>\n",
       "      <td>1.494926e+06</td>\n",
       "      <td>1.494926e+06</td>\n",
       "      <td>1.494926e+06</td>\n",
       "      <td>1.494922e+06</td>\n",
       "      <td>1.494926e+06</td>\n",
       "      <td>1.494926e+06</td>\n",
       "      <td>1.494926e+06</td>\n",
       "      <td>1.494926e+06</td>\n",
       "      <td>1.494926e+06</td>\n",
       "      <td>1.490754e+06</td>\n",
       "    </tr>\n",
       "    <tr>\n",
       "      <th>mean</th>\n",
       "      <td>1.782045e+00</td>\n",
       "      <td>1.097653e+00</td>\n",
       "      <td>-7.383072e+01</td>\n",
       "      <td>4.069117e+01</td>\n",
       "      <td>-7.383724e+01</td>\n",
       "      <td>4.069284e+01</td>\n",
       "      <td>1.370598e+00</td>\n",
       "      <td>2.968141e+00</td>\n",
       "      <td>1.254320e+01</td>\n",
       "      <td>3.512800e-01</td>\n",
       "      <td>...</td>\n",
       "      <td>2.920991e-01</td>\n",
       "      <td>1.503215e+01</td>\n",
       "      <td>1.540559e+00</td>\n",
       "      <td>1.022353e+00</td>\n",
       "      <td>1.181077e+00</td>\n",
       "      <td>1.353407e+01</td>\n",
       "      <td>1.347794e+01</td>\n",
       "      <td>2.026263e+01</td>\n",
       "      <td>3.379561e-01</td>\n",
       "      <td>6.653826e+00</td>\n",
       "    </tr>\n",
       "    <tr>\n",
       "      <th>std</th>\n",
       "      <td>4.128570e-01</td>\n",
       "      <td>6.359437e-01</td>\n",
       "      <td>2.776081e+00</td>\n",
       "      <td>1.530894e+00</td>\n",
       "      <td>2.677912e+00</td>\n",
       "      <td>1.476700e+00</td>\n",
       "      <td>1.039426e+00</td>\n",
       "      <td>3.076621e+00</td>\n",
       "      <td>1.008278e+01</td>\n",
       "      <td>3.663096e-01</td>\n",
       "      <td>...</td>\n",
       "      <td>5.074009e-02</td>\n",
       "      <td>1.155316e+01</td>\n",
       "      <td>5.232935e-01</td>\n",
       "      <td>1.478288e-01</td>\n",
       "      <td>5.944146e-01</td>\n",
       "      <td>6.799624e+00</td>\n",
       "      <td>6.892356e+00</td>\n",
       "      <td>9.690527e+01</td>\n",
       "      <td>1.615062e+00</td>\n",
       "      <td>8.875158e+00</td>\n",
       "    </tr>\n",
       "    <tr>\n",
       "      <th>min</th>\n",
       "      <td>1.000000e+00</td>\n",
       "      <td>1.000000e+00</td>\n",
       "      <td>-8.332000e+01</td>\n",
       "      <td>0.000000e+00</td>\n",
       "      <td>-8.343000e+01</td>\n",
       "      <td>0.000000e+00</td>\n",
       "      <td>0.000000e+00</td>\n",
       "      <td>0.000000e+00</td>\n",
       "      <td>-4.750000e+02</td>\n",
       "      <td>-1.000000e+00</td>\n",
       "      <td>...</td>\n",
       "      <td>-3.000000e-01</td>\n",
       "      <td>-4.750000e+02</td>\n",
       "      <td>1.000000e+00</td>\n",
       "      <td>1.000000e+00</td>\n",
       "      <td>0.000000e+00</td>\n",
       "      <td>0.000000e+00</td>\n",
       "      <td>0.000000e+00</td>\n",
       "      <td>0.000000e+00</td>\n",
       "      <td>2.777778e-04</td>\n",
       "      <td>0.000000e+00</td>\n",
       "    </tr>\n",
       "    <tr>\n",
       "      <th>25%</th>\n",
       "      <td>2.000000e+00</td>\n",
       "      <td>1.000000e+00</td>\n",
       "      <td>-7.396000e+01</td>\n",
       "      <td>4.070000e+01</td>\n",
       "      <td>-7.397000e+01</td>\n",
       "      <td>4.070000e+01</td>\n",
       "      <td>1.000000e+00</td>\n",
       "      <td>1.100000e+00</td>\n",
       "      <td>6.500000e+00</td>\n",
       "      <td>0.000000e+00</td>\n",
       "      <td>...</td>\n",
       "      <td>3.000000e-01</td>\n",
       "      <td>8.160000e+00</td>\n",
       "      <td>1.000000e+00</td>\n",
       "      <td>1.000000e+00</td>\n",
       "      <td>7.419373e-01</td>\n",
       "      <td>9.000000e+00</td>\n",
       "      <td>9.000000e+00</td>\n",
       "      <td>6.183333e+00</td>\n",
       "      <td>1.033333e-01</td>\n",
       "      <td>0.000000e+00</td>\n",
       "    </tr>\n",
       "    <tr>\n",
       "      <th>50%</th>\n",
       "      <td>2.000000e+00</td>\n",
       "      <td>1.000000e+00</td>\n",
       "      <td>-7.395000e+01</td>\n",
       "      <td>4.075000e+01</td>\n",
       "      <td>-7.395000e+01</td>\n",
       "      <td>4.075000e+01</td>\n",
       "      <td>1.000000e+00</td>\n",
       "      <td>1.980000e+00</td>\n",
       "      <td>9.500000e+00</td>\n",
       "      <td>5.000000e-01</td>\n",
       "      <td>...</td>\n",
       "      <td>3.000000e-01</td>\n",
       "      <td>1.176000e+01</td>\n",
       "      <td>2.000000e+00</td>\n",
       "      <td>1.000000e+00</td>\n",
       "      <td>1.091923e+00</td>\n",
       "      <td>1.500000e+01</td>\n",
       "      <td>1.500000e+01</td>\n",
       "      <td>1.043333e+01</td>\n",
       "      <td>1.741667e-01</td>\n",
       "      <td>0.000000e+00</td>\n",
       "    </tr>\n",
       "    <tr>\n",
       "      <th>75%</th>\n",
       "      <td>2.000000e+00</td>\n",
       "      <td>1.000000e+00</td>\n",
       "      <td>-7.392000e+01</td>\n",
       "      <td>4.080000e+01</td>\n",
       "      <td>-7.391000e+01</td>\n",
       "      <td>4.079000e+01</td>\n",
       "      <td>1.000000e+00</td>\n",
       "      <td>3.740000e+00</td>\n",
       "      <td>1.550000e+01</td>\n",
       "      <td>5.000000e-01</td>\n",
       "      <td>...</td>\n",
       "      <td>3.000000e-01</td>\n",
       "      <td>1.830000e+01</td>\n",
       "      <td>2.000000e+00</td>\n",
       "      <td>1.000000e+00</td>\n",
       "      <td>1.556037e+00</td>\n",
       "      <td>1.900000e+01</td>\n",
       "      <td>1.900000e+01</td>\n",
       "      <td>1.726667e+01</td>\n",
       "      <td>2.883333e-01</td>\n",
       "      <td>1.666667e+01</td>\n",
       "    </tr>\n",
       "    <tr>\n",
       "      <th>max</th>\n",
       "      <td>2.000000e+00</td>\n",
       "      <td>9.900000e+01</td>\n",
       "      <td>0.000000e+00</td>\n",
       "      <td>4.318000e+01</td>\n",
       "      <td>0.000000e+00</td>\n",
       "      <td>4.280000e+01</td>\n",
       "      <td>9.000000e+00</td>\n",
       "      <td>6.031000e+02</td>\n",
       "      <td>5.805000e+02</td>\n",
       "      <td>1.200000e+01</td>\n",
       "      <td>...</td>\n",
       "      <td>3.000000e-01</td>\n",
       "      <td>5.813000e+02</td>\n",
       "      <td>5.000000e+00</td>\n",
       "      <td>2.000000e+00</td>\n",
       "      <td>6.403740e+00</td>\n",
       "      <td>2.300000e+01</td>\n",
       "      <td>2.300000e+01</td>\n",
       "      <td>1.439900e+03</td>\n",
       "      <td>2.399833e+01</td>\n",
       "      <td>1.000000e+02</td>\n",
       "    </tr>\n",
       "  </tbody>\n",
       "</table>\n",
       "<p>8 rows × 24 columns</p>\n",
       "</div>"
      ],
      "text/plain": [
       "           VendorID    RateCodeID  Pickup_longitude  Pickup_latitude  \\\n",
       "count  1.494926e+06  1.494926e+06      1.494926e+06     1.494926e+06   \n",
       "mean   1.782045e+00  1.097653e+00     -7.383072e+01     4.069117e+01   \n",
       "std    4.128570e-01  6.359437e-01      2.776081e+00     1.530894e+00   \n",
       "min    1.000000e+00  1.000000e+00     -8.332000e+01     0.000000e+00   \n",
       "25%    2.000000e+00  1.000000e+00     -7.396000e+01     4.070000e+01   \n",
       "50%    2.000000e+00  1.000000e+00     -7.395000e+01     4.075000e+01   \n",
       "75%    2.000000e+00  1.000000e+00     -7.392000e+01     4.080000e+01   \n",
       "max    2.000000e+00  9.900000e+01      0.000000e+00     4.318000e+01   \n",
       "\n",
       "       Dropoff_longitude  Dropoff_latitude  Passenger_count  Trip_distance  \\\n",
       "count       1.494926e+06      1.494926e+06     1.494926e+06   1.494926e+06   \n",
       "mean       -7.383724e+01      4.069284e+01     1.370598e+00   2.968141e+00   \n",
       "std         2.677912e+00      1.476700e+00     1.039426e+00   3.076621e+00   \n",
       "min        -8.343000e+01      0.000000e+00     0.000000e+00   0.000000e+00   \n",
       "25%        -7.397000e+01      4.070000e+01     1.000000e+00   1.100000e+00   \n",
       "50%        -7.395000e+01      4.075000e+01     1.000000e+00   1.980000e+00   \n",
       "75%        -7.391000e+01      4.079000e+01     1.000000e+00   3.740000e+00   \n",
       "max         0.000000e+00      4.280000e+01     9.000000e+00   6.031000e+02   \n",
       "\n",
       "        Fare_amount         Extra      ...       improvement_surcharge  \\\n",
       "count  1.494926e+06  1.494926e+06      ...                1.494926e+06   \n",
       "mean   1.254320e+01  3.512800e-01      ...                2.920991e-01   \n",
       "std    1.008278e+01  3.663096e-01      ...                5.074009e-02   \n",
       "min   -4.750000e+02 -1.000000e+00      ...               -3.000000e-01   \n",
       "25%    6.500000e+00  0.000000e+00      ...                3.000000e-01   \n",
       "50%    9.500000e+00  5.000000e-01      ...                3.000000e-01   \n",
       "75%    1.550000e+01  5.000000e-01      ...                3.000000e-01   \n",
       "max    5.805000e+02  1.200000e+01      ...                3.000000e-01   \n",
       "\n",
       "       Total_amount  Payment_type    Trip_type   log_trip_dist     pickup-hr  \\\n",
       "count  1.494926e+06  1.494926e+06  1.494922e+06   1.494926e+06  1.494926e+06   \n",
       "mean   1.503215e+01  1.540559e+00  1.022353e+00   1.181077e+00  1.353407e+01   \n",
       "std    1.155316e+01  5.232935e-01  1.478288e-01   5.944146e-01  6.799624e+00   \n",
       "min   -4.750000e+02  1.000000e+00  1.000000e+00   0.000000e+00  0.000000e+00   \n",
       "25%    8.160000e+00  1.000000e+00  1.000000e+00   7.419373e-01  9.000000e+00   \n",
       "50%    1.176000e+01  2.000000e+00  1.000000e+00   1.091923e+00  1.500000e+01   \n",
       "75%    1.830000e+01  2.000000e+00  1.000000e+00   1.556037e+00  1.900000e+01   \n",
       "max    5.813000e+02  5.000000e+00  2.000000e+00   6.403740e+00  2.300000e+01   \n",
       "\n",
       "         dropoff-hr    traveltime  traveltimeinhrs    tippercent  \n",
       "count  1.494926e+06  1.494926e+06     1.494926e+06  1.490754e+06  \n",
       "mean   1.347794e+01  2.026263e+01     3.379561e-01  6.653826e+00  \n",
       "std    6.892356e+00  9.690527e+01     1.615062e+00  8.875158e+00  \n",
       "min    0.000000e+00  0.000000e+00     2.777778e-04  0.000000e+00  \n",
       "25%    9.000000e+00  6.183333e+00     1.033333e-01  0.000000e+00  \n",
       "50%    1.500000e+01  1.043333e+01     1.741667e-01  0.000000e+00  \n",
       "75%    1.900000e+01  1.726667e+01     2.883333e-01  1.666667e+01  \n",
       "max    2.300000e+01  1.439900e+03     2.399833e+01  1.000000e+02  \n",
       "\n",
       "[8 rows x 24 columns]"
      ]
     },
     "execution_count": 195,
     "metadata": {},
     "output_type": "execute_result"
    }
   ],
   "source": [
    "datanyc.describe()"
   ]
  },
  {
   "cell_type": "markdown",
   "metadata": {
    "collapsed": true
   },
   "source": [
    "- Sidenote: (sugestion- couldn't do due to time constraint)- More analysis could be done to see the viability of the ride sharing based on the latitude anf longitude of the pickup and the drop off location and the  number of passengers travelling as was one of the 5 th quesion options"
   ]
  },
  {
   "cell_type": "code",
   "execution_count": 197,
   "metadata": {
    "collapsed": true
   },
   "outputs": [],
   "source": [
    "datacap=datanyc \n",
    "#To have a checkpoint of the table in the case of any error causing the original table to be altered undesirably"
   ]
  },
  {
   "cell_type": "markdown",
   "metadata": {
    "collapsed": true
   },
   "source": [
    "\n",
    "- The nature of variables are checked and are converted to the appropriate data type \n",
    "- The columns are deleted if it is empty or not needed for the regression model to be built the distribution of the categorical variables are analysed.\n"
   ]
  },
  {
   "cell_type": "markdown",
   "metadata": {},
   "source": [
    "> -  <font color=red>__4.2-Preparing the data for the model:__</font>"
   ]
  },
  {
   "cell_type": "markdown",
   "metadata": {},
   "source": [
    ">  >   -  <font color=red>__4.2.1-Data Cleaning:__</font>"
   ]
  },
  {
   "cell_type": "markdown",
   "metadata": {},
   "source": [
    ">  >  >   -  <font color=red>__4.2.1.1Data Reduction by deleting columns__</font>"
   ]
  },
  {
   "cell_type": "code",
   "execution_count": 199,
   "metadata": {},
   "outputs": [
    {
     "data": {
      "text/plain": [
       "0"
      ]
     },
     "execution_count": 199,
     "metadata": {},
     "output_type": "execute_result"
    }
   ],
   "source": [
    "datacap.Ehail_fee.count()"
   ]
  },
  {
   "cell_type": "code",
   "execution_count": 200,
   "metadata": {
    "collapsed": true
   },
   "outputs": [],
   "source": [
    "del datacap['Ehail_fee'] #Empty column"
   ]
  },
  {
   "cell_type": "code",
   "execution_count": 201,
   "metadata": {
    "collapsed": true
   },
   "outputs": [],
   "source": [
    "#These columns are deleted because they are not needed as they are converted to 'time_pickup' and 'time_drop' respectively\n",
    "del datacap['lpep_pickup_datetime']\n",
    "del datacap['Lpep_dropoff_datetime']"
   ]
  },
  {
   "cell_type": "markdown",
   "metadata": {
    "collapsed": true
   },
   "source": [
    "- Checking the data in hand after some data reduction \n",
    "- Initial 24 columns became 21 (more columns can be removed as they won't be further needed in the model, but they migh be useful for imputing or analyzing other data.)"
   ]
  },
  {
   "cell_type": "code",
   "execution_count": 354,
   "metadata": {},
   "outputs": [
    {
     "data": {
      "text/plain": [
       "VendorID                          int64\n",
       "Store_and_fwd_flag                int64\n",
       "RateCodeID                        int64\n",
       "Pickup_longitude                float64\n",
       "Pickup_latitude                 float64\n",
       "Dropoff_longitude               float64\n",
       "Dropoff_latitude                float64\n",
       "Passenger_count                   int64\n",
       "Trip_distance                   float64\n",
       "Fare_amount                     float64\n",
       "Extra                           float64\n",
       "MTA_tax                         float64\n",
       "Tip_amount                      float64\n",
       "Tolls_amount                    float64\n",
       "improvement_surcharge           float64\n",
       "Total_amount                    float64\n",
       "Payment_type                      int64\n",
       "Trip_type                       float64\n",
       "log_trip_dist                   float64\n",
       "time_pickup              datetime64[ns]\n",
       "time_drop                datetime64[ns]\n",
       "pickup-hr                         int64\n",
       "dropoff-hr                        int64\n",
       "traveltime                      float64\n",
       "traveltimeinhrs                 float64\n",
       "CheckAirport                      int64\n",
       "tippercent                      float64\n",
       "log_Fare                        float64\n",
       "log_Total_amount                float64\n",
       "day_no                            int64\n",
       "avg_speed_mph                   float64\n",
       "week_no                           int64\n",
       "tempxyz                         float64\n",
       "pickup_hr                         int64\n",
       "dtype: object"
      ]
     },
     "execution_count": 354,
     "metadata": {},
     "output_type": "execute_result"
    }
   ],
   "source": [
    "datacap.dtypes "
   ]
  },
  {
   "cell_type": "markdown",
   "metadata": {},
   "source": [
    ">  >  >  -  <font color=red>__4.2.1.2-a)Ensuring and correcting the data types of the variables as and how needed for building the model<br>\n",
    "b)Analysis of these Categorical variables' values/distributions__</font>"
   ]
  },
  {
   "cell_type": "markdown",
   "metadata": {},
   "source": [
    "\n",
    "- <font color='green'>Converting all categorical values like'VendorID','Store_and_fwd_flag','RateCodeID','Payment_type','Passenger_type' to the data type 'category' from the other data types which treat them like continuous variables and arithmetically manipulated undesirably.<br>\n",
    "- Some analysis of the distribution of the distribution of these categorical variables were done to see if any __outliers__ or __possible errors__ or __anomalies__ are present</font>"
   ]
  },
  {
   "cell_type": "code",
   "execution_count": 203,
   "metadata": {},
   "outputs": [
    {
     "data": {
      "text/plain": [
       "<matplotlib.text.Text at 0x26f5731bdd8>"
      ]
     },
     "execution_count": 203,
     "metadata": {},
     "output_type": "execute_result"
    },
    {
     "data": {
      "image/png": "[encoded data removed]",
      "text/plain": [
       "<matplotlib.figure.Figure at 0x26f334bc908>"
      ]
     },
     "metadata": {},
     "output_type": "display_data"
    }
   ],
   "source": [
    "datacap['VendorID'].value_counts(ascending=True).plot(kind='bar')\n",
    "plt.ylabel('count of values')\n",
    "plt.xlabel('Vendor ID')"
   ]
  },
  {
   "cell_type": "markdown",
   "metadata": {
    "collapsed": true
   },
   "source": [
    "datacap['VendorID']=datacap['VendorID'].astype('category')"
   ]
  },
  {
   "cell_type": "code",
   "execution_count": 205,
   "metadata": {},
   "outputs": [
    {
     "data": {
      "text/plain": [
       "Y       8734\n",
       "N    1486192\n",
       "Name: Store_and_fwd_flag, dtype: int64"
      ]
     },
     "execution_count": 205,
     "metadata": {},
     "output_type": "execute_result"
    }
   ],
   "source": [
    "datacap['Store_and_fwd_flag'].value_counts(ascending=True) "
   ]
  },
  {
   "cell_type": "markdown",
   "metadata": {},
   "source": [
    "- Due to high number of 'N' there might be an error in the entry of \"Y\". For now error is not considered."
   ]
  },
  {
   "cell_type": "code",
   "execution_count": 206,
   "metadata": {
    "collapsed": true
   },
   "outputs": [],
   "source": [
    "datacap['Store_and_fwd_flag']=datacap['Store_and_fwd_flag'].astype('category')"
   ]
  },
  {
   "cell_type": "code",
   "execution_count": 207,
   "metadata": {},
   "outputs": [
    {
     "data": {
      "text/plain": [
       "99          6\n",
       "6          36\n",
       "4         925\n",
       "3        1117\n",
       "2        4435\n",
       "5       33943\n",
       "1     1454464\n",
       "Name: RateCodeID, dtype: int64"
      ]
     },
     "execution_count": 207,
     "metadata": {},
     "output_type": "execute_result"
    }
   ],
   "source": [
    "datacap['RateCodeID'].value_counts(ascending=True)"
   ]
  },
  {
   "cell_type": "code",
   "execution_count": 208,
   "metadata": {
    "collapsed": true
   },
   "outputs": [],
   "source": [
    "datacap['RateCodeID']=datacap['RateCodeID'].astype('category')"
   ]
  },
  {
   "cell_type": "code",
   "execution_count": 337,
   "metadata": {
    "collapsed": true
   },
   "outputs": [],
   "source": [
    "datacap['Passenger_count']=datacap['Passenger_count'].astype('category')"
   ]
  },
  {
   "cell_type": "code",
   "execution_count": 338,
   "metadata": {},
   "outputs": [
    {
     "data": {
      "text/plain": [
       "7         15\n",
       "9         16\n",
       "8         30\n",
       "4       9769\n",
       "6      22091\n",
       "3      33812\n",
       "5      57907\n",
       "2     115014\n",
       "1    1256272\n",
       "Name: Passenger_count, dtype: int64"
      ]
     },
     "execution_count": 338,
     "metadata": {},
     "output_type": "execute_result"
    }
   ],
   "source": [
    "datacap['Passenger_count'].value_counts(ascending=True)"
   ]
  },
  {
   "cell_type": "code",
   "execution_count": 210,
   "metadata": {
    "collapsed": true
   },
   "outputs": [],
   "source": [
    "datacap['Payment_type']=datacap['Payment_type'].astype('category')"
   ]
  },
  {
   "cell_type": "code",
   "execution_count": 211,
   "metadata": {},
   "outputs": [
    {
     "data": {
      "text/plain": [
       "5        74\n",
       "4      4368\n",
       "3      5498\n",
       "1    701287\n",
       "2    783699\n",
       "Name: Payment_type, dtype: int64"
      ]
     },
     "execution_count": 211,
     "metadata": {},
     "output_type": "execute_result"
    }
   ],
   "source": [
    "datacap['Payment_type'].value_counts(ascending=True)"
   ]
  },
  {
   "cell_type": "markdown",
   "metadata": {
    "collapsed": true
   },
   "source": [
    "\n",
    ">  >  -  <font color=red>__4.2.2-Data Imputation of the empty fields and the out-of-place values.__</font>\n"
   ]
  },
  {
   "cell_type": "code",
   "execution_count": 333,
   "metadata": {},
   "outputs": [
    {
     "name": "stdout",
     "output_type": "stream",
     "text": [
      "Missing values per column:\n",
      "VendorID                 0\n",
      "Store_and_fwd_flag       0\n",
      "RateCodeID               0\n",
      "Pickup_longitude         0\n",
      "Pickup_latitude          0\n",
      "Dropoff_longitude        0\n",
      "Dropoff_latitude         0\n",
      "Passenger_count          0\n",
      "Trip_distance            0\n",
      "Fare_amount              0\n",
      "Extra                    0\n",
      "MTA_tax                  0\n",
      "Tip_amount               0\n",
      "Tolls_amount             0\n",
      "improvement_surcharge    0\n",
      "Total_amount             0\n",
      "Payment_type             0\n",
      "Trip_type                4\n",
      "log_trip_dist            0\n",
      "time_pickup              0\n",
      "time_drop                0\n",
      "pickup-hr                0\n",
      "dropoff-hr               0\n",
      "traveltime               0\n",
      "traveltimeinhrs          0\n",
      "CheckAirport             0\n",
      "tippercent               0\n",
      "log_Fare                 0\n",
      "log_Total_amount         0\n",
      "day_no                   0\n",
      "avg_speed_mph            0\n",
      "week_no                  0\n",
      "tempxyz                  0\n",
      "pickup_hr                0\n",
      "dtype: int64\n"
     ]
    }
   ],
   "source": [
    "#Column wise finding the missing elements\n",
    "def num_missing(x):\n",
    "  return sum(x.isnull())\n",
    "\n",
    "#on applying it per column:\n",
    "print (\"Missing values per column:\")\n",
    "print (datacap.apply(num_missing, axis=0)) #axis=0 defines that function is to be applied on each column\n"
   ]
  },
  {
   "cell_type": "markdown",
   "metadata": {},
   "source": [
    "- Trip_type is predominanltly 1, hence as it would not be useful for the model, it can be dropped or filled with the mode, which is again 1 in which case too, it won't be a significant constributor to the mode.\n",
    "- High percentage of missing values are there in 'tip_percent' variable which will be dealt with in the further parts."
   ]
  },
  {
   "cell_type": "code",
   "execution_count": 355,
   "metadata": {},
   "outputs": [
    {
     "data": {
      "text/html": [
       "<div>\n",
       "<style>\n",
       "    .dataframe thead tr:only-child th {\n",
       "        text-align: right;\n",
       "    }\n",
       "\n",
       "    .dataframe thead th {\n",
       "        text-align: left;\n",
       "    }\n",
       "\n",
       "    .dataframe tbody tr th {\n",
       "        vertical-align: top;\n",
       "    }\n",
       "</style>\n",
       "<table border=\"1\" class=\"dataframe\">\n",
       "  <thead>\n",
       "    <tr style=\"text-align: right;\">\n",
       "      <th></th>\n",
       "      <th>VendorID</th>\n",
       "      <th>Store_and_fwd_flag</th>\n",
       "      <th>RateCodeID</th>\n",
       "      <th>Pickup_longitude</th>\n",
       "      <th>Pickup_latitude</th>\n",
       "      <th>Dropoff_longitude</th>\n",
       "      <th>Dropoff_latitude</th>\n",
       "      <th>Passenger_count</th>\n",
       "      <th>Trip_distance</th>\n",
       "      <th>Fare_amount</th>\n",
       "      <th>...</th>\n",
       "      <th>traveltimeinhrs</th>\n",
       "      <th>CheckAirport</th>\n",
       "      <th>tippercent</th>\n",
       "      <th>log_Fare</th>\n",
       "      <th>log_Total_amount</th>\n",
       "      <th>day_no</th>\n",
       "      <th>avg_speed_mph</th>\n",
       "      <th>week_no</th>\n",
       "      <th>tempxyz</th>\n",
       "      <th>pickup_hr</th>\n",
       "    </tr>\n",
       "  </thead>\n",
       "  <tbody>\n",
       "    <tr>\n",
       "      <th>count</th>\n",
       "      <td>1.494926e+06</td>\n",
       "      <td>1.494926e+06</td>\n",
       "      <td>1.494926e+06</td>\n",
       "      <td>1.494926e+06</td>\n",
       "      <td>1.494926e+06</td>\n",
       "      <td>1.494926e+06</td>\n",
       "      <td>1.494926e+06</td>\n",
       "      <td>1.494926e+06</td>\n",
       "      <td>1.494926e+06</td>\n",
       "      <td>1.494926e+06</td>\n",
       "      <td>...</td>\n",
       "      <td>1.494926e+06</td>\n",
       "      <td>1.494926e+06</td>\n",
       "      <td>1.494926e+06</td>\n",
       "      <td>1.494926e+06</td>\n",
       "      <td>1.494926e+06</td>\n",
       "      <td>1.494926e+06</td>\n",
       "      <td>1.494926e+06</td>\n",
       "      <td>1.494926e+06</td>\n",
       "      <td>1.494926e+06</td>\n",
       "      <td>1.494926e+06</td>\n",
       "    </tr>\n",
       "    <tr>\n",
       "      <th>mean</th>\n",
       "      <td>7.820447e-01</td>\n",
       "      <td>5.842430e-03</td>\n",
       "      <td>9.728375e-02</td>\n",
       "      <td>-7.383072e+01</td>\n",
       "      <td>4.069117e+01</td>\n",
       "      <td>-7.383724e+01</td>\n",
       "      <td>4.069284e+01</td>\n",
       "      <td>3.708919e-01</td>\n",
       "      <td>3.009465e+00</td>\n",
       "      <td>1.261867e+01</td>\n",
       "      <td>...</td>\n",
       "      <td>3.379561e-01</td>\n",
       "      <td>9.972079e-01</td>\n",
       "      <td>6.630361e+00</td>\n",
       "      <td>2.437155e+00</td>\n",
       "      <td>2.616736e+00</td>\n",
       "      <td>2.175485e+00</td>\n",
       "      <td>3.495843e+01</td>\n",
       "      <td>1.759515e+00</td>\n",
       "      <td>1.281094e+01</td>\n",
       "      <td>1.353407e+01</td>\n",
       "    </tr>\n",
       "    <tr>\n",
       "      <th>std</th>\n",
       "      <td>4.128570e-01</td>\n",
       "      <td>7.621220e-02</td>\n",
       "      <td>6.050574e-01</td>\n",
       "      <td>2.776081e+00</td>\n",
       "      <td>1.530894e+00</td>\n",
       "      <td>2.677912e+00</td>\n",
       "      <td>1.476700e+00</td>\n",
       "      <td>1.039180e+00</td>\n",
       "      <td>3.056558e+00</td>\n",
       "      <td>1.001491e+01</td>\n",
       "      <td>...</td>\n",
       "      <td>1.615062e+00</td>\n",
       "      <td>5.276663e-02</td>\n",
       "      <td>8.832509e+00</td>\n",
       "      <td>5.616652e-01</td>\n",
       "      <td>5.390890e-01</td>\n",
       "      <td>1.966505e+00</td>\n",
       "      <td>3.632977e+02</td>\n",
       "      <td>1.251876e+00</td>\n",
       "      <td>5.902603e+00</td>\n",
       "      <td>6.799624e+00</td>\n",
       "    </tr>\n",
       "    <tr>\n",
       "      <th>min</th>\n",
       "      <td>0.000000e+00</td>\n",
       "      <td>0.000000e+00</td>\n",
       "      <td>0.000000e+00</td>\n",
       "      <td>-8.332000e+01</td>\n",
       "      <td>0.000000e+00</td>\n",
       "      <td>-8.343000e+01</td>\n",
       "      <td>0.000000e+00</td>\n",
       "      <td>0.000000e+00</td>\n",
       "      <td>1.000000e-02</td>\n",
       "      <td>2.500000e+00</td>\n",
       "      <td>...</td>\n",
       "      <td>2.777778e-04</td>\n",
       "      <td>0.000000e+00</td>\n",
       "      <td>0.000000e+00</td>\n",
       "      <td>1.252763e+00</td>\n",
       "      <td>1.252763e+00</td>\n",
       "      <td>-1.000000e+00</td>\n",
       "      <td>4.170866e-04</td>\n",
       "      <td>0.000000e+00</td>\n",
       "      <td>0.000000e+00</td>\n",
       "      <td>0.000000e+00</td>\n",
       "    </tr>\n",
       "    <tr>\n",
       "      <th>25%</th>\n",
       "      <td>1.000000e+00</td>\n",
       "      <td>0.000000e+00</td>\n",
       "      <td>0.000000e+00</td>\n",
       "      <td>-7.396000e+01</td>\n",
       "      <td>4.070000e+01</td>\n",
       "      <td>-7.397000e+01</td>\n",
       "      <td>4.070000e+01</td>\n",
       "      <td>0.000000e+00</td>\n",
       "      <td>1.120000e+00</td>\n",
       "      <td>6.500000e+00</td>\n",
       "      <td>...</td>\n",
       "      <td>1.033333e-01</td>\n",
       "      <td>1.000000e+00</td>\n",
       "      <td>0.000000e+00</td>\n",
       "      <td>2.014903e+00</td>\n",
       "      <td>2.218116e+00</td>\n",
       "      <td>0.000000e+00</td>\n",
       "      <td>9.442623e+00</td>\n",
       "      <td>1.000000e+00</td>\n",
       "      <td>9.300000e+00</td>\n",
       "      <td>9.000000e+00</td>\n",
       "    </tr>\n",
       "    <tr>\n",
       "      <th>50%</th>\n",
       "      <td>1.000000e+00</td>\n",
       "      <td>0.000000e+00</td>\n",
       "      <td>0.000000e+00</td>\n",
       "      <td>-7.395000e+01</td>\n",
       "      <td>4.075000e+01</td>\n",
       "      <td>-7.395000e+01</td>\n",
       "      <td>4.075000e+01</td>\n",
       "      <td>0.000000e+00</td>\n",
       "      <td>2.030000e+00</td>\n",
       "      <td>9.500000e+00</td>\n",
       "      <td>...</td>\n",
       "      <td>1.741667e-01</td>\n",
       "      <td>1.000000e+00</td>\n",
       "      <td>0.000000e+00</td>\n",
       "      <td>2.351375e+00</td>\n",
       "      <td>2.546315e+00</td>\n",
       "      <td>2.000000e+00</td>\n",
       "      <td>1.188785e+01</td>\n",
       "      <td>2.000000e+00</td>\n",
       "      <td>1.175510e+01</td>\n",
       "      <td>1.500000e+01</td>\n",
       "    </tr>\n",
       "    <tr>\n",
       "      <th>75%</th>\n",
       "      <td>1.000000e+00</td>\n",
       "      <td>0.000000e+00</td>\n",
       "      <td>0.000000e+00</td>\n",
       "      <td>-7.392000e+01</td>\n",
       "      <td>4.080000e+01</td>\n",
       "      <td>-7.391000e+01</td>\n",
       "      <td>4.079000e+01</td>\n",
       "      <td>0.000000e+00</td>\n",
       "      <td>3.740000e+00</td>\n",
       "      <td>1.550000e+01</td>\n",
       "      <td>...</td>\n",
       "      <td>2.883333e-01</td>\n",
       "      <td>1.000000e+00</td>\n",
       "      <td>1.666667e+01</td>\n",
       "      <td>2.803360e+00</td>\n",
       "      <td>2.960105e+00</td>\n",
       "      <td>4.000000e+00</td>\n",
       "      <td>1.530314e+01</td>\n",
       "      <td>3.000000e+00</td>\n",
       "      <td>1.503686e+01</td>\n",
       "      <td>1.900000e+01</td>\n",
       "    </tr>\n",
       "    <tr>\n",
       "      <th>max</th>\n",
       "      <td>1.000000e+00</td>\n",
       "      <td>1.000000e+00</td>\n",
       "      <td>6.000000e+00</td>\n",
       "      <td>0.000000e+00</td>\n",
       "      <td>4.318000e+01</td>\n",
       "      <td>0.000000e+00</td>\n",
       "      <td>4.280000e+01</td>\n",
       "      <td>8.000000e+00</td>\n",
       "      <td>6.031000e+02</td>\n",
       "      <td>5.805000e+02</td>\n",
       "      <td>...</td>\n",
       "      <td>2.399833e+01</td>\n",
       "      <td>1.000000e+00</td>\n",
       "      <td>9.891197e+01</td>\n",
       "      <td>6.365611e+00</td>\n",
       "      <td>6.366986e+00</td>\n",
       "      <td>5.000000e+00</td>\n",
       "      <td>2.026800e+05</td>\n",
       "      <td>4.000000e+00</td>\n",
       "      <td>5.000000e+01</td>\n",
       "      <td>2.300000e+01</td>\n",
       "    </tr>\n",
       "  </tbody>\n",
       "</table>\n",
       "<p>8 rows × 32 columns</p>\n",
       "</div>"
      ],
      "text/plain": [
       "           VendorID  Store_and_fwd_flag    RateCodeID  Pickup_longitude  \\\n",
       "count  1.494926e+06        1.494926e+06  1.494926e+06      1.494926e+06   \n",
       "mean   7.820447e-01        5.842430e-03  9.728375e-02     -7.383072e+01   \n",
       "std    4.128570e-01        7.621220e-02  6.050574e-01      2.776081e+00   \n",
       "min    0.000000e+00        0.000000e+00  0.000000e+00     -8.332000e+01   \n",
       "25%    1.000000e+00        0.000000e+00  0.000000e+00     -7.396000e+01   \n",
       "50%    1.000000e+00        0.000000e+00  0.000000e+00     -7.395000e+01   \n",
       "75%    1.000000e+00        0.000000e+00  0.000000e+00     -7.392000e+01   \n",
       "max    1.000000e+00        1.000000e+00  6.000000e+00      0.000000e+00   \n",
       "\n",
       "       Pickup_latitude  Dropoff_longitude  Dropoff_latitude  Passenger_count  \\\n",
       "count     1.494926e+06       1.494926e+06      1.494926e+06     1.494926e+06   \n",
       "mean      4.069117e+01      -7.383724e+01      4.069284e+01     3.708919e-01   \n",
       "std       1.530894e+00       2.677912e+00      1.476700e+00     1.039180e+00   \n",
       "min       0.000000e+00      -8.343000e+01      0.000000e+00     0.000000e+00   \n",
       "25%       4.070000e+01      -7.397000e+01      4.070000e+01     0.000000e+00   \n",
       "50%       4.075000e+01      -7.395000e+01      4.075000e+01     0.000000e+00   \n",
       "75%       4.080000e+01      -7.391000e+01      4.079000e+01     0.000000e+00   \n",
       "max       4.318000e+01       0.000000e+00      4.280000e+01     8.000000e+00   \n",
       "\n",
       "       Trip_distance   Fare_amount      ...       traveltimeinhrs  \\\n",
       "count   1.494926e+06  1.494926e+06      ...          1.494926e+06   \n",
       "mean    3.009465e+00  1.261867e+01      ...          3.379561e-01   \n",
       "std     3.056558e+00  1.001491e+01      ...          1.615062e+00   \n",
       "min     1.000000e-02  2.500000e+00      ...          2.777778e-04   \n",
       "25%     1.120000e+00  6.500000e+00      ...          1.033333e-01   \n",
       "50%     2.030000e+00  9.500000e+00      ...          1.741667e-01   \n",
       "75%     3.740000e+00  1.550000e+01      ...          2.883333e-01   \n",
       "max     6.031000e+02  5.805000e+02      ...          2.399833e+01   \n",
       "\n",
       "       CheckAirport    tippercent      log_Fare  log_Total_amount  \\\n",
       "count  1.494926e+06  1.494926e+06  1.494926e+06      1.494926e+06   \n",
       "mean   9.972079e-01  6.630361e+00  2.437155e+00      2.616736e+00   \n",
       "std    5.276663e-02  8.832509e+00  5.616652e-01      5.390890e-01   \n",
       "min    0.000000e+00  0.000000e+00  1.252763e+00      1.252763e+00   \n",
       "25%    1.000000e+00  0.000000e+00  2.014903e+00      2.218116e+00   \n",
       "50%    1.000000e+00  0.000000e+00  2.351375e+00      2.546315e+00   \n",
       "75%    1.000000e+00  1.666667e+01  2.803360e+00      2.960105e+00   \n",
       "max    1.000000e+00  9.891197e+01  6.365611e+00      6.366986e+00   \n",
       "\n",
       "             day_no  avg_speed_mph       week_no       tempxyz     pickup_hr  \n",
       "count  1.494926e+06   1.494926e+06  1.494926e+06  1.494926e+06  1.494926e+06  \n",
       "mean   2.175485e+00   3.495843e+01  1.759515e+00  1.281094e+01  1.353407e+01  \n",
       "std    1.966505e+00   3.632977e+02  1.251876e+00  5.902603e+00  6.799624e+00  \n",
       "min   -1.000000e+00   4.170866e-04  0.000000e+00  0.000000e+00  0.000000e+00  \n",
       "25%    0.000000e+00   9.442623e+00  1.000000e+00  9.300000e+00  9.000000e+00  \n",
       "50%    2.000000e+00   1.188785e+01  2.000000e+00  1.175510e+01  1.500000e+01  \n",
       "75%    4.000000e+00   1.530314e+01  3.000000e+00  1.503686e+01  1.900000e+01  \n",
       "max    5.000000e+00   2.026800e+05  4.000000e+00  5.000000e+01  2.300000e+01  \n",
       "\n",
       "[8 rows x 32 columns]"
      ]
     },
     "execution_count": 355,
     "metadata": {},
     "output_type": "execute_result"
    }
   ],
   "source": [
    "datacap.describe()"
   ]
  },
  {
   "cell_type": "markdown",
   "metadata": {},
   "source": [
    ">  >  >  -  <font color=red>__4.2.2.1-Passenger count value imputation of all the fields were passenger count=0 __</font>"
   ]
  },
  {
   "cell_type": "code",
   "execution_count": 215,
   "metadata": {},
   "outputs": [
    {
     "data": {
      "text/plain": [
       "7         15\n",
       "9         16\n",
       "8         30\n",
       "0        440\n",
       "4       9769\n",
       "6      22091\n",
       "3      33812\n",
       "5      57907\n",
       "2     115014\n",
       "1    1255832\n",
       "Name: Passenger_count, dtype: int64"
      ]
     },
     "execution_count": 215,
     "metadata": {},
     "output_type": "execute_result"
    }
   ],
   "source": [
    "datacap['Passenger_count'].value_counts(ascending=True) #Passenger_count==0 is not possible"
   ]
  },
  {
   "cell_type": "markdown",
   "metadata": {},
   "source": [
    "- As Passenger_count is a categorical variable, mode can be used to impute missing values\n",
    "- Mode=1, clearly from the above block of code"
   ]
  },
  {
   "cell_type": "code",
   "execution_count": 344,
   "metadata": {
    "collapsed": true
   },
   "outputs": [],
   "source": [
    "passenger_index = datacap[(datacap.Passenger_count==0)].index \n",
    "datacap.loc[passenger_index, 'Passenger_count'] = 1"
   ]
  },
  {
   "cell_type": "code",
   "execution_count": 345,
   "metadata": {},
   "outputs": [
    {
     "data": {
      "text/plain": [
       "7         15\n",
       "9         16\n",
       "8         30\n",
       "4       9769\n",
       "6      22091\n",
       "3      33812\n",
       "5      57907\n",
       "2     115014\n",
       "1    1256272\n",
       "Name: Passenger_count, dtype: int64"
      ]
     },
     "execution_count": 345,
     "metadata": {},
     "output_type": "execute_result"
    }
   ],
   "source": [
    "datacap['Passenger_count'].value_counts(ascending=True)"
   ]
  },
  {
   "cell_type": "code",
   "execution_count": 221,
   "metadata": {},
   "outputs": [
    {
     "data": {
      "text/html": [
       "<div>\n",
       "<style>\n",
       "    .dataframe thead tr:only-child th {\n",
       "        text-align: right;\n",
       "    }\n",
       "\n",
       "    .dataframe thead th {\n",
       "        text-align: left;\n",
       "    }\n",
       "\n",
       "    .dataframe tbody tr th {\n",
       "        vertical-align: top;\n",
       "    }\n",
       "</style>\n",
       "<table border=\"1\" class=\"dataframe\">\n",
       "  <thead>\n",
       "    <tr style=\"text-align: right;\">\n",
       "      <th></th>\n",
       "      <th>Pickup_longitude</th>\n",
       "      <th>Pickup_latitude</th>\n",
       "      <th>Dropoff_longitude</th>\n",
       "      <th>Dropoff_latitude</th>\n",
       "      <th>Passenger_count</th>\n",
       "      <th>Trip_distance</th>\n",
       "      <th>Fare_amount</th>\n",
       "      <th>Extra</th>\n",
       "      <th>MTA_tax</th>\n",
       "      <th>Tip_amount</th>\n",
       "      <th>Tolls_amount</th>\n",
       "      <th>improvement_surcharge</th>\n",
       "      <th>Total_amount</th>\n",
       "      <th>Trip_type</th>\n",
       "      <th>log_trip_dist</th>\n",
       "      <th>pickup-hr</th>\n",
       "      <th>dropoff-hr</th>\n",
       "      <th>traveltime</th>\n",
       "      <th>traveltimeinhrs</th>\n",
       "      <th>tippercent</th>\n",
       "    </tr>\n",
       "  </thead>\n",
       "  <tbody>\n",
       "    <tr>\n",
       "      <th>count</th>\n",
       "      <td>1.494926e+06</td>\n",
       "      <td>1.494926e+06</td>\n",
       "      <td>1.494926e+06</td>\n",
       "      <td>1.494926e+06</td>\n",
       "      <td>1.494926e+06</td>\n",
       "      <td>1.494926e+06</td>\n",
       "      <td>1.494926e+06</td>\n",
       "      <td>1.494926e+06</td>\n",
       "      <td>1.494926e+06</td>\n",
       "      <td>1.494926e+06</td>\n",
       "      <td>1.494926e+06</td>\n",
       "      <td>1.494926e+06</td>\n",
       "      <td>1.494926e+06</td>\n",
       "      <td>1.494922e+06</td>\n",
       "      <td>1.494926e+06</td>\n",
       "      <td>1.494926e+06</td>\n",
       "      <td>1.494926e+06</td>\n",
       "      <td>1.494926e+06</td>\n",
       "      <td>1.494926e+06</td>\n",
       "      <td>1.490754e+06</td>\n",
       "    </tr>\n",
       "    <tr>\n",
       "      <th>mean</th>\n",
       "      <td>-7.383072e+01</td>\n",
       "      <td>4.069117e+01</td>\n",
       "      <td>-7.383724e+01</td>\n",
       "      <td>4.069284e+01</td>\n",
       "      <td>1.370892e+00</td>\n",
       "      <td>2.968141e+00</td>\n",
       "      <td>1.254320e+01</td>\n",
       "      <td>3.512800e-01</td>\n",
       "      <td>4.866408e-01</td>\n",
       "      <td>1.235727e+00</td>\n",
       "      <td>1.231047e-01</td>\n",
       "      <td>2.920991e-01</td>\n",
       "      <td>1.503215e+01</td>\n",
       "      <td>1.022353e+00</td>\n",
       "      <td>1.181077e+00</td>\n",
       "      <td>1.353407e+01</td>\n",
       "      <td>1.347794e+01</td>\n",
       "      <td>2.026263e+01</td>\n",
       "      <td>3.379561e-01</td>\n",
       "      <td>6.653826e+00</td>\n",
       "    </tr>\n",
       "    <tr>\n",
       "      <th>std</th>\n",
       "      <td>2.776081e+00</td>\n",
       "      <td>1.530894e+00</td>\n",
       "      <td>2.677912e+00</td>\n",
       "      <td>1.476700e+00</td>\n",
       "      <td>1.039180e+00</td>\n",
       "      <td>3.076621e+00</td>\n",
       "      <td>1.008278e+01</td>\n",
       "      <td>3.663096e-01</td>\n",
       "      <td>8.504473e-02</td>\n",
       "      <td>2.431476e+00</td>\n",
       "      <td>8.910137e-01</td>\n",
       "      <td>5.074009e-02</td>\n",
       "      <td>1.155316e+01</td>\n",
       "      <td>1.478288e-01</td>\n",
       "      <td>5.944146e-01</td>\n",
       "      <td>6.799624e+00</td>\n",
       "      <td>6.892356e+00</td>\n",
       "      <td>9.690527e+01</td>\n",
       "      <td>1.615062e+00</td>\n",
       "      <td>8.875158e+00</td>\n",
       "    </tr>\n",
       "    <tr>\n",
       "      <th>min</th>\n",
       "      <td>-8.332000e+01</td>\n",
       "      <td>0.000000e+00</td>\n",
       "      <td>-8.343000e+01</td>\n",
       "      <td>0.000000e+00</td>\n",
       "      <td>1.000000e+00</td>\n",
       "      <td>0.000000e+00</td>\n",
       "      <td>-4.750000e+02</td>\n",
       "      <td>-1.000000e+00</td>\n",
       "      <td>-5.000000e-01</td>\n",
       "      <td>-5.000000e+01</td>\n",
       "      <td>-1.529000e+01</td>\n",
       "      <td>-3.000000e-01</td>\n",
       "      <td>-4.750000e+02</td>\n",
       "      <td>1.000000e+00</td>\n",
       "      <td>0.000000e+00</td>\n",
       "      <td>0.000000e+00</td>\n",
       "      <td>0.000000e+00</td>\n",
       "      <td>0.000000e+00</td>\n",
       "      <td>2.777778e-04</td>\n",
       "      <td>0.000000e+00</td>\n",
       "    </tr>\n",
       "    <tr>\n",
       "      <th>25%</th>\n",
       "      <td>-7.396000e+01</td>\n",
       "      <td>4.070000e+01</td>\n",
       "      <td>-7.397000e+01</td>\n",
       "      <td>4.070000e+01</td>\n",
       "      <td>1.000000e+00</td>\n",
       "      <td>1.100000e+00</td>\n",
       "      <td>6.500000e+00</td>\n",
       "      <td>0.000000e+00</td>\n",
       "      <td>5.000000e-01</td>\n",
       "      <td>0.000000e+00</td>\n",
       "      <td>0.000000e+00</td>\n",
       "      <td>3.000000e-01</td>\n",
       "      <td>8.160000e+00</td>\n",
       "      <td>1.000000e+00</td>\n",
       "      <td>7.419373e-01</td>\n",
       "      <td>9.000000e+00</td>\n",
       "      <td>9.000000e+00</td>\n",
       "      <td>6.183333e+00</td>\n",
       "      <td>1.033333e-01</td>\n",
       "      <td>0.000000e+00</td>\n",
       "    </tr>\n",
       "    <tr>\n",
       "      <th>50%</th>\n",
       "      <td>-7.395000e+01</td>\n",
       "      <td>4.075000e+01</td>\n",
       "      <td>-7.395000e+01</td>\n",
       "      <td>4.075000e+01</td>\n",
       "      <td>1.000000e+00</td>\n",
       "      <td>1.980000e+00</td>\n",
       "      <td>9.500000e+00</td>\n",
       "      <td>5.000000e-01</td>\n",
       "      <td>5.000000e-01</td>\n",
       "      <td>0.000000e+00</td>\n",
       "      <td>0.000000e+00</td>\n",
       "      <td>3.000000e-01</td>\n",
       "      <td>1.176000e+01</td>\n",
       "      <td>1.000000e+00</td>\n",
       "      <td>1.091923e+00</td>\n",
       "      <td>1.500000e+01</td>\n",
       "      <td>1.500000e+01</td>\n",
       "      <td>1.043333e+01</td>\n",
       "      <td>1.741667e-01</td>\n",
       "      <td>0.000000e+00</td>\n",
       "    </tr>\n",
       "    <tr>\n",
       "      <th>75%</th>\n",
       "      <td>-7.392000e+01</td>\n",
       "      <td>4.080000e+01</td>\n",
       "      <td>-7.391000e+01</td>\n",
       "      <td>4.079000e+01</td>\n",
       "      <td>1.000000e+00</td>\n",
       "      <td>3.740000e+00</td>\n",
       "      <td>1.550000e+01</td>\n",
       "      <td>5.000000e-01</td>\n",
       "      <td>5.000000e-01</td>\n",
       "      <td>2.000000e+00</td>\n",
       "      <td>0.000000e+00</td>\n",
       "      <td>3.000000e-01</td>\n",
       "      <td>1.830000e+01</td>\n",
       "      <td>1.000000e+00</td>\n",
       "      <td>1.556037e+00</td>\n",
       "      <td>1.900000e+01</td>\n",
       "      <td>1.900000e+01</td>\n",
       "      <td>1.726667e+01</td>\n",
       "      <td>2.883333e-01</td>\n",
       "      <td>1.666667e+01</td>\n",
       "    </tr>\n",
       "    <tr>\n",
       "      <th>max</th>\n",
       "      <td>0.000000e+00</td>\n",
       "      <td>4.318000e+01</td>\n",
       "      <td>0.000000e+00</td>\n",
       "      <td>4.280000e+01</td>\n",
       "      <td>9.000000e+00</td>\n",
       "      <td>6.031000e+02</td>\n",
       "      <td>5.805000e+02</td>\n",
       "      <td>1.200000e+01</td>\n",
       "      <td>5.000000e-01</td>\n",
       "      <td>3.000000e+02</td>\n",
       "      <td>9.575000e+01</td>\n",
       "      <td>3.000000e-01</td>\n",
       "      <td>5.813000e+02</td>\n",
       "      <td>2.000000e+00</td>\n",
       "      <td>6.403740e+00</td>\n",
       "      <td>2.300000e+01</td>\n",
       "      <td>2.300000e+01</td>\n",
       "      <td>1.439900e+03</td>\n",
       "      <td>2.399833e+01</td>\n",
       "      <td>1.000000e+02</td>\n",
       "    </tr>\n",
       "  </tbody>\n",
       "</table>\n",
       "</div>"
      ],
      "text/plain": [
       "       Pickup_longitude  Pickup_latitude  Dropoff_longitude  Dropoff_latitude  \\\n",
       "count      1.494926e+06     1.494926e+06       1.494926e+06      1.494926e+06   \n",
       "mean      -7.383072e+01     4.069117e+01      -7.383724e+01      4.069284e+01   \n",
       "std        2.776081e+00     1.530894e+00       2.677912e+00      1.476700e+00   \n",
       "min       -8.332000e+01     0.000000e+00      -8.343000e+01      0.000000e+00   \n",
       "25%       -7.396000e+01     4.070000e+01      -7.397000e+01      4.070000e+01   \n",
       "50%       -7.395000e+01     4.075000e+01      -7.395000e+01      4.075000e+01   \n",
       "75%       -7.392000e+01     4.080000e+01      -7.391000e+01      4.079000e+01   \n",
       "max        0.000000e+00     4.318000e+01       0.000000e+00      4.280000e+01   \n",
       "\n",
       "       Passenger_count  Trip_distance   Fare_amount         Extra  \\\n",
       "count     1.494926e+06   1.494926e+06  1.494926e+06  1.494926e+06   \n",
       "mean      1.370892e+00   2.968141e+00  1.254320e+01  3.512800e-01   \n",
       "std       1.039180e+00   3.076621e+00  1.008278e+01  3.663096e-01   \n",
       "min       1.000000e+00   0.000000e+00 -4.750000e+02 -1.000000e+00   \n",
       "25%       1.000000e+00   1.100000e+00  6.500000e+00  0.000000e+00   \n",
       "50%       1.000000e+00   1.980000e+00  9.500000e+00  5.000000e-01   \n",
       "75%       1.000000e+00   3.740000e+00  1.550000e+01  5.000000e-01   \n",
       "max       9.000000e+00   6.031000e+02  5.805000e+02  1.200000e+01   \n",
       "\n",
       "            MTA_tax    Tip_amount  Tolls_amount  improvement_surcharge  \\\n",
       "count  1.494926e+06  1.494926e+06  1.494926e+06           1.494926e+06   \n",
       "mean   4.866408e-01  1.235727e+00  1.231047e-01           2.920991e-01   \n",
       "std    8.504473e-02  2.431476e+00  8.910137e-01           5.074009e-02   \n",
       "min   -5.000000e-01 -5.000000e+01 -1.529000e+01          -3.000000e-01   \n",
       "25%    5.000000e-01  0.000000e+00  0.000000e+00           3.000000e-01   \n",
       "50%    5.000000e-01  0.000000e+00  0.000000e+00           3.000000e-01   \n",
       "75%    5.000000e-01  2.000000e+00  0.000000e+00           3.000000e-01   \n",
       "max    5.000000e-01  3.000000e+02  9.575000e+01           3.000000e-01   \n",
       "\n",
       "       Total_amount    Trip_type   log_trip_dist     pickup-hr    dropoff-hr  \\\n",
       "count  1.494926e+06  1.494922e+06   1.494926e+06  1.494926e+06  1.494926e+06   \n",
       "mean   1.503215e+01  1.022353e+00   1.181077e+00  1.353407e+01  1.347794e+01   \n",
       "std    1.155316e+01  1.478288e-01   5.944146e-01  6.799624e+00  6.892356e+00   \n",
       "min   -4.750000e+02  1.000000e+00   0.000000e+00  0.000000e+00  0.000000e+00   \n",
       "25%    8.160000e+00  1.000000e+00   7.419373e-01  9.000000e+00  9.000000e+00   \n",
       "50%    1.176000e+01  1.000000e+00   1.091923e+00  1.500000e+01  1.500000e+01   \n",
       "75%    1.830000e+01  1.000000e+00   1.556037e+00  1.900000e+01  1.900000e+01   \n",
       "max    5.813000e+02  2.000000e+00   6.403740e+00  2.300000e+01  2.300000e+01   \n",
       "\n",
       "         traveltime  traveltimeinhrs    tippercent  \n",
       "count  1.494926e+06     1.494926e+06  1.490754e+06  \n",
       "mean   2.026263e+01     3.379561e-01  6.653826e+00  \n",
       "std    9.690527e+01     1.615062e+00  8.875158e+00  \n",
       "min    0.000000e+00     2.777778e-04  0.000000e+00  \n",
       "25%    6.183333e+00     1.033333e-01  0.000000e+00  \n",
       "50%    1.043333e+01     1.741667e-01  0.000000e+00  \n",
       "75%    1.726667e+01     2.883333e-01  1.666667e+01  \n",
       "max    1.439900e+03     2.399833e+01  1.000000e+02  "
      ]
     },
     "execution_count": 221,
     "metadata": {},
     "output_type": "execute_result"
    }
   ],
   "source": [
    "datacap.describe()"
   ]
  },
  {
   "cell_type": "markdown",
   "metadata": {},
   "source": [
    ">  >  >  -  <font color=red>__4.2.2.2-Replacing all negative money related variables:__</font>"
   ]
  },
  {
   "cell_type": "markdown",
   "metadata": {
    "collapsed": true
   },
   "source": [
    "- The above table suggests the presenece of negative quantities for Fare_amount,MTA_tax,Tip_amount,Total_amount, improvement_surcharge,Tolls_amount .\n",
    "- Hence, assuming they were errors during entry, first they are converted  to their absolute positive values and then the varibility of the different payments involved are analyzed"
   ]
  },
  {
   "cell_type": "code",
   "execution_count": 222,
   "metadata": {
    "collapsed": true
   },
   "outputs": [],
   "source": [
    "datacap.Fare_amount = datacap.Fare_amount.abs()\n",
    "datacap.MTA_tax = datacap.MTA_tax.abs()\n",
    "datacap.Tip_amount = datacap.Tip_amount.abs()    \n",
    "datacap.Total_amount = datacap.Total_amount.abs()\n",
    "datacap.improvement_surcharge = datacap.improvement_surcharge.abs()\n",
    "datacap.Tolls_amount = datacap.Tolls_amount.abs()"
   ]
  },
  {
   "cell_type": "markdown",
   "metadata": {
    "collapsed": true
   },
   "source": [
    "- <font color='green'>Though there are better methods for missing value imputations like using algorithms and packages like \"MICE\" and \"randomForest\" in R language which predicts each missing value using predictive algorithms using all other variables,which can be imported from R to excel to python, due to time constraints, I am simply imputing values using mean,median and mode values.</font>"
   ]
  },
  {
   "cell_type": "markdown",
   "metadata": {
    "collapsed": true
   },
   "source": [
    ">  >  >  -  <font color=red>__4.2.2.3-Imputing missing values of 'Trip_distance'__</font>"
   ]
  },
  {
   "cell_type": "code",
   "execution_count": 224,
   "metadata": {},
   "outputs": [
    {
     "data": {
      "text/plain": [
       "20592"
      ]
     },
     "execution_count": 224,
     "metadata": {},
     "output_type": "execute_result"
    }
   ],
   "source": [
    "datacap[datacap['Trip_distance']==0].count()[1]"
   ]
  },
  {
   "cell_type": "code",
   "execution_count": 225,
   "metadata": {},
   "outputs": [
    {
     "data": {
      "text/plain": [
       "2.9681408511189864"
      ]
     },
     "execution_count": 225,
     "metadata": {},
     "output_type": "execute_result"
    }
   ],
   "source": [
    "datacap.Trip_distance.mean()"
   ]
  },
  {
   "cell_type": "code",
   "execution_count": 226,
   "metadata": {
    "collapsed": true
   },
   "outputs": [],
   "source": [
    "dist_index = datacap[(datacap.Trip_distance==0)].index\n",
    "datacap.loc[dist_index,'Trip_distance'] = 3"
   ]
  },
  {
   "cell_type": "markdown",
   "metadata": {},
   "source": [
    "- In all the cases the mean of the corresponding fields need to be calculated from the correct set of entries.\n",
    "- Here the mean includes all 0 terms also.\n",
    "- Due to time constraints, I have imputed with the mean value as such in all the cases  in this challenge."
   ]
  },
  {
   "cell_type": "code",
   "execution_count": 356,
   "metadata": {
    "collapsed": true
   },
   "outputs": [],
   "source": [
    "datacap['log_trip_dist']=log(datacap['Trip_distance']+1) "
   ]
  },
  {
   "cell_type": "markdown",
   "metadata": {
    "collapsed": true
   },
   "source": [
    "- log_trip_dist is re-calculated after Question 1 as the Trip_distance variable is imputed which will change the values of 'log_trip_dist'\n"
   ]
  },
  {
   "cell_type": "markdown",
   "metadata": {
    "collapsed": true
   },
   "source": [
    ">  >  >  -  <font color=red>__4.2.2.4-Imputing certain values of 'Fare_amount' based on available information__</font>"
   ]
  },
  {
   "cell_type": "markdown",
   "metadata": {
    "collapsed": true
   },
   "source": [
    "- According to \"http://www.nyc.gov/html/tlc/html/passenger/taxicab_rate.shtml\", minimum  fare is 2.5,\n",
    "- Hence all fare_amounts will be replaced by it's mean and hence the corresponding total_amount increases by the same.\n",
    "\n"
   ]
  },
  {
   "cell_type": "code",
   "execution_count": 229,
   "metadata": {},
   "outputs": [
    {
     "data": {
      "text/plain": [
       "12.57644524879498"
      ]
     },
     "execution_count": 229,
     "metadata": {},
     "output_type": "execute_result"
    }
   ],
   "source": [
    "datacap['Fare_amount'].mean()"
   ]
  },
  {
   "cell_type": "code",
   "execution_count": 230,
   "metadata": {
    "collapsed": true
   },
   "outputs": [],
   "source": [
    "Fare_index = datacap[(datacap.Fare_amount<2.5)].index\n",
    "datacap.loc[Fare_index,'Fare_amount'] = 12.58\n",
    "datacap.loc[Fare_index,'Total_amount'] =datacap.loc[Fare_index,'Total_amount'] + 12.58"
   ]
  },
  {
   "cell_type": "markdown",
   "metadata": {
    "collapsed": true
   },
   "source": [
    "\n",
    "\n",
    "- As the Fare_amount and Total_amount distributions are right skewed and almost all values are above 0, taking a log transformation yields a log distribution ( in which 1 is added to avoid the divide by 0 error  i.e., Y=log(X+1) ) which apart from being normal, giving a better predictive model,and also it can compensate for the replacement of Fare_Amount=0 imputed by the mean value.\n",
    "- Hence a new column for the log of the Fare_amount  and Total_amount is created for a good regression model."
   ]
  },
  {
   "cell_type": "code",
   "execution_count": 238,
   "metadata": {
    "scrolled": true
   },
   "outputs": [
    {
     "name": "stdout",
     "output_type": "stream",
     "text": [
      "Missing values per column:\n",
      "VendorID                 0\n",
      "Store_and_fwd_flag       0\n",
      "RateCodeID               0\n",
      "Pickup_longitude         0\n",
      "Pickup_latitude          0\n",
      "Dropoff_longitude        0\n",
      "Dropoff_latitude         0\n",
      "Passenger_count          0\n",
      "Trip_distance            0\n",
      "Fare_amount              0\n",
      "Extra                    0\n",
      "MTA_tax                  0\n",
      "Tip_amount               0\n",
      "Tolls_amount             0\n",
      "improvement_surcharge    0\n",
      "Total_amount             0\n",
      "Payment_type             0\n",
      "Trip_type                4\n",
      "log_trip_dist            0\n",
      "time_pickup              0\n",
      "time_drop                0\n",
      "pickup-hr                0\n",
      "dropoff-hr               0\n",
      "traveltime               0\n",
      "traveltimeinhrs          0\n",
      "CheckAirport             0\n",
      "tippercent               0\n",
      "log_Fare                 0\n",
      "log_Total_amount         0\n",
      "dtype: int64\n"
     ]
    }
   ],
   "source": [
    "#Finding the number of missing values column wise\n",
    "def num_missing(x):\n",
    "  return sum(x.isnull())\n",
    "\n",
    "#Applying per column:\n",
    "print (\"Missing values per column:\")\n",
    "print (datacap.apply(num_missing, axis=0)) #axis=0 defines that function is to be applied on each column\n"
   ]
  },
  {
   "cell_type": "markdown",
   "metadata": {},
   "source": [
    "- 'tip_percent' earlier had quite a few missing values, which have been filled properly after imputing the missing values of  'Total_amount' value which earlier caused the missing values in the 'tip_percent\"column"
   ]
  },
  {
   "cell_type": "markdown",
   "metadata": {},
   "source": [
    ">  >  -  <font color=red>__4.2.3-Distribution analysis and Transformations__</font>\n",
    "<br>_(dealt with in the earlier sections too)_"
   ]
  },
  {
   "cell_type": "markdown",
   "metadata": {},
   "source": [
    "- As tip percentage is closely related to the Fare_amount and the Total_amount, their distributions are checked before  using them as a predictor and log transforms are taken"
   ]
  },
  {
   "cell_type": "code",
   "execution_count": 232,
   "metadata": {},
   "outputs": [
    {
     "data": {
      "text/plain": [
       "<matplotlib.text.Text at 0x26f26a48e80>"
      ]
     },
     "execution_count": 232,
     "metadata": {},
     "output_type": "execute_result"
    },
    {
     "data": {
      "image/png": "[encoded data removed]",
      "text/plain": [
       "<matplotlib.figure.Figure at 0x26f2696a080>"
      ]
     },
     "metadata": {},
     "output_type": "display_data"
    }
   ],
   "source": [
    "datacap.Fare_amount.hist(bins=50)\n",
    "plt.gca().set_yscale('log')\n",
    "plt.title('Fare amount histogram')\n",
    "plt.xlabel('Fare amount')"
   ]
  },
  {
   "cell_type": "code",
   "execution_count": 233,
   "metadata": {},
   "outputs": [
    {
     "data": {
      "text/plain": [
       "1494926"
      ]
     },
     "execution_count": 233,
     "metadata": {},
     "output_type": "execute_result"
    }
   ],
   "source": [
    "datacap[datacap['Fare_amount']>0].count()[1]"
   ]
  },
  {
   "cell_type": "code",
   "execution_count": 234,
   "metadata": {},
   "outputs": [
    {
     "data": {
      "text/plain": [
       "<matplotlib.text.Text at 0x26f3c742128>"
      ]
     },
     "execution_count": 234,
     "metadata": {},
     "output_type": "execute_result"
    },
    {
     "data": {
      "image/png": "[encoded data removed]",
      "text/plain": [
       "<matplotlib.figure.Figure at 0x26f3c71c518>"
      ]
     },
     "metadata": {},
     "output_type": "display_data"
    }
   ],
   "source": [
    "datacap.Total_amount.hist(bins=50)\n",
    "plt.gca().set_yscale('log')\n",
    "plt.title('Total amount histogram')\n",
    "plt.xlabel('Total amount')"
   ]
  },
  {
   "cell_type": "code",
   "execution_count": 235,
   "metadata": {
    "scrolled": true
   },
   "outputs": [
    {
     "data": {
      "text/plain": [
       "1494926"
      ]
     },
     "execution_count": 235,
     "metadata": {},
     "output_type": "execute_result"
    }
   ],
   "source": [
    "datacap[datacap['Total_amount']>0].count()[1]"
   ]
  },
  {
   "cell_type": "code",
   "execution_count": 236,
   "metadata": {
    "collapsed": true
   },
   "outputs": [],
   "source": [
    "datacap['log_Fare']=np.log(datacap['Fare_amount']+1)\n",
    "datacap['log_Total_amount']=np.log(datacap['Total_amount']+1)"
   ]
  },
  {
   "cell_type": "code",
   "execution_count": 357,
   "metadata": {
    "collapsed": true
   },
   "outputs": [],
   "source": [
    "datacap['tippercent']=datacap['Tip_amount']*100/datacap['Total_amount']\n",
    "#tippercent re-calculated after the associated variables that make up the tippercent variables ahve been cleaned."
   ]
  },
  {
   "cell_type": "markdown",
   "metadata": {
    "collapsed": true
   },
   "source": [
    ">  >  - <font color='red'>__4.2.4-Cheking for correlation of variables__</font>"
   ]
  },
  {
   "cell_type": "code",
   "execution_count": 239,
   "metadata": {
    "scrolled": true
   },
   "outputs": [
    {
     "data": {
      "text/html": [
       "<div>\n",
       "<style>\n",
       "    .dataframe thead tr:only-child th {\n",
       "        text-align: right;\n",
       "    }\n",
       "\n",
       "    .dataframe thead th {\n",
       "        text-align: left;\n",
       "    }\n",
       "\n",
       "    .dataframe tbody tr th {\n",
       "        vertical-align: top;\n",
       "    }\n",
       "</style>\n",
       "<table border=\"1\" class=\"dataframe\">\n",
       "  <thead>\n",
       "    <tr style=\"text-align: right;\">\n",
       "      <th></th>\n",
       "      <th>Pickup_longitude</th>\n",
       "      <th>Pickup_latitude</th>\n",
       "      <th>Dropoff_longitude</th>\n",
       "      <th>Dropoff_latitude</th>\n",
       "      <th>Passenger_count</th>\n",
       "      <th>Trip_distance</th>\n",
       "      <th>Fare_amount</th>\n",
       "      <th>Extra</th>\n",
       "      <th>MTA_tax</th>\n",
       "      <th>Tip_amount</th>\n",
       "      <th>...</th>\n",
       "      <th>Total_amount</th>\n",
       "      <th>Trip_type</th>\n",
       "      <th>log_trip_dist</th>\n",
       "      <th>pickup-hr</th>\n",
       "      <th>dropoff-hr</th>\n",
       "      <th>traveltime</th>\n",
       "      <th>traveltimeinhrs</th>\n",
       "      <th>tippercent</th>\n",
       "      <th>log_Fare</th>\n",
       "      <th>log_Total_amount</th>\n",
       "    </tr>\n",
       "  </thead>\n",
       "  <tbody>\n",
       "    <tr>\n",
       "      <th>Pickup_longitude</th>\n",
       "      <td>1.000000</td>\n",
       "      <td>-0.999023</td>\n",
       "      <td>0.256744</td>\n",
       "      <td>-0.255719</td>\n",
       "      <td>-0.005722</td>\n",
       "      <td>-0.002927</td>\n",
       "      <td>0.005337</td>\n",
       "      <td>-0.015308</td>\n",
       "      <td>-0.083430</td>\n",
       "      <td>0.001907</td>\n",
       "      <td>...</td>\n",
       "      <td>0.003637</td>\n",
       "      <td>0.071023</td>\n",
       "      <td>-0.000177</td>\n",
       "      <td>-0.004704</td>\n",
       "      <td>-0.004614</td>\n",
       "      <td>-0.002356</td>\n",
       "      <td>-0.002028</td>\n",
       "      <td>-0.004146</td>\n",
       "      <td>-0.000238</td>\n",
       "      <td>-0.001296</td>\n",
       "    </tr>\n",
       "    <tr>\n",
       "      <th>Pickup_latitude</th>\n",
       "      <td>-0.999023</td>\n",
       "      <td>1.000000</td>\n",
       "      <td>-0.256327</td>\n",
       "      <td>0.257001</td>\n",
       "      <td>0.004678</td>\n",
       "      <td>0.001212</td>\n",
       "      <td>-0.007768</td>\n",
       "      <td>0.012485</td>\n",
       "      <td>0.077946</td>\n",
       "      <td>-0.007055</td>\n",
       "      <td>...</td>\n",
       "      <td>-0.006857</td>\n",
       "      <td>-0.065485</td>\n",
       "      <td>-0.002714</td>\n",
       "      <td>0.004101</td>\n",
       "      <td>0.004272</td>\n",
       "      <td>0.001726</td>\n",
       "      <td>0.001398</td>\n",
       "      <td>-0.003136</td>\n",
       "      <td>-0.003132</td>\n",
       "      <td>-0.003314</td>\n",
       "    </tr>\n",
       "    <tr>\n",
       "      <th>Dropoff_longitude</th>\n",
       "      <td>0.256744</td>\n",
       "      <td>-0.256327</td>\n",
       "      <td>1.000000</td>\n",
       "      <td>-0.998925</td>\n",
       "      <td>-0.003948</td>\n",
       "      <td>0.005827</td>\n",
       "      <td>0.008002</td>\n",
       "      <td>-0.007431</td>\n",
       "      <td>-0.029633</td>\n",
       "      <td>-0.012076</td>\n",
       "      <td>...</td>\n",
       "      <td>0.004282</td>\n",
       "      <td>-0.003314</td>\n",
       "      <td>0.010927</td>\n",
       "      <td>-0.002652</td>\n",
       "      <td>-0.001987</td>\n",
       "      <td>-0.000279</td>\n",
       "      <td>0.002873</td>\n",
       "      <td>-0.019594</td>\n",
       "      <td>0.002473</td>\n",
       "      <td>-0.000604</td>\n",
       "    </tr>\n",
       "    <tr>\n",
       "      <th>Dropoff_latitude</th>\n",
       "      <td>-0.255719</td>\n",
       "      <td>0.257001</td>\n",
       "      <td>-0.998925</td>\n",
       "      <td>1.000000</td>\n",
       "      <td>0.002957</td>\n",
       "      <td>-0.008375</td>\n",
       "      <td>-0.011338</td>\n",
       "      <td>0.004874</td>\n",
       "      <td>0.024147</td>\n",
       "      <td>0.006152</td>\n",
       "      <td>...</td>\n",
       "      <td>-0.008547</td>\n",
       "      <td>0.009085</td>\n",
       "      <td>-0.014984</td>\n",
       "      <td>0.001765</td>\n",
       "      <td>0.001359</td>\n",
       "      <td>-0.000491</td>\n",
       "      <td>-0.003640</td>\n",
       "      <td>0.011431</td>\n",
       "      <td>-0.007134</td>\n",
       "      <td>-0.005400</td>\n",
       "    </tr>\n",
       "    <tr>\n",
       "      <th>Passenger_count</th>\n",
       "      <td>-0.005722</td>\n",
       "      <td>0.004678</td>\n",
       "      <td>-0.003948</td>\n",
       "      <td>0.002957</td>\n",
       "      <td>1.000000</td>\n",
       "      <td>0.011124</td>\n",
       "      <td>0.011860</td>\n",
       "      <td>0.019340</td>\n",
       "      <td>0.003374</td>\n",
       "      <td>0.004701</td>\n",
       "      <td>...</td>\n",
       "      <td>0.012609</td>\n",
       "      <td>-0.003535</td>\n",
       "      <td>0.012175</td>\n",
       "      <td>0.009700</td>\n",
       "      <td>0.008263</td>\n",
       "      <td>0.005079</td>\n",
       "      <td>0.005062</td>\n",
       "      <td>0.001529</td>\n",
       "      <td>0.013512</td>\n",
       "      <td>0.014576</td>\n",
       "    </tr>\n",
       "    <tr>\n",
       "      <th>Trip_distance</th>\n",
       "      <td>-0.002927</td>\n",
       "      <td>0.001212</td>\n",
       "      <td>0.005827</td>\n",
       "      <td>-0.008375</td>\n",
       "      <td>0.011124</td>\n",
       "      <td>1.000000</td>\n",
       "      <td>0.853511</td>\n",
       "      <td>-0.044036</td>\n",
       "      <td>-0.061114</td>\n",
       "      <td>0.393834</td>\n",
       "      <td>...</td>\n",
       "      <td>0.851105</td>\n",
       "      <td>0.047141</td>\n",
       "      <td>0.901600</td>\n",
       "      <td>-0.034888</td>\n",
       "      <td>-0.040752</td>\n",
       "      <td>0.085604</td>\n",
       "      <td>0.085624</td>\n",
       "      <td>0.095702</td>\n",
       "      <td>0.828687</td>\n",
       "      <td>0.826129</td>\n",
       "    </tr>\n",
       "    <tr>\n",
       "      <th>Fare_amount</th>\n",
       "      <td>0.005337</td>\n",
       "      <td>-0.007768</td>\n",
       "      <td>0.008002</td>\n",
       "      <td>-0.011338</td>\n",
       "      <td>0.011860</td>\n",
       "      <td>0.853511</td>\n",
       "      <td>1.000000</td>\n",
       "      <td>-0.061150</td>\n",
       "      <td>-0.129696</td>\n",
       "      <td>0.399303</td>\n",
       "      <td>...</td>\n",
       "      <td>0.975996</td>\n",
       "      <td>0.112428</td>\n",
       "      <td>0.808017</td>\n",
       "      <td>-0.019351</td>\n",
       "      <td>-0.021931</td>\n",
       "      <td>0.090401</td>\n",
       "      <td>0.090463</td>\n",
       "      <td>0.084448</td>\n",
       "      <td>0.885879</td>\n",
       "      <td>0.876345</td>\n",
       "    </tr>\n",
       "    <tr>\n",
       "      <th>Extra</th>\n",
       "      <td>-0.015308</td>\n",
       "      <td>0.012485</td>\n",
       "      <td>-0.007431</td>\n",
       "      <td>0.004874</td>\n",
       "      <td>0.019340</td>\n",
       "      <td>-0.044036</td>\n",
       "      <td>-0.061150</td>\n",
       "      <td>1.000000</td>\n",
       "      <td>0.144298</td>\n",
       "      <td>-0.006638</td>\n",
       "      <td>...</td>\n",
       "      <td>-0.024191</td>\n",
       "      <td>-0.143177</td>\n",
       "      <td>-0.038285</td>\n",
       "      <td>0.252673</td>\n",
       "      <td>0.233883</td>\n",
       "      <td>-0.003088</td>\n",
       "      <td>-0.003127</td>\n",
       "      <td>0.016543</td>\n",
       "      <td>-0.053674</td>\n",
       "      <td>0.010363</td>\n",
       "    </tr>\n",
       "    <tr>\n",
       "      <th>MTA_tax</th>\n",
       "      <td>-0.083430</td>\n",
       "      <td>0.077946</td>\n",
       "      <td>-0.029633</td>\n",
       "      <td>0.024147</td>\n",
       "      <td>0.003374</td>\n",
       "      <td>-0.061114</td>\n",
       "      <td>-0.129696</td>\n",
       "      <td>0.144298</td>\n",
       "      <td>1.000000</td>\n",
       "      <td>0.011602</td>\n",
       "      <td>...</td>\n",
       "      <td>-0.098131</td>\n",
       "      <td>-0.966658</td>\n",
       "      <td>-0.048178</td>\n",
       "      <td>0.024149</td>\n",
       "      <td>0.022753</td>\n",
       "      <td>-0.005950</td>\n",
       "      <td>-0.006173</td>\n",
       "      <td>0.072478</td>\n",
       "      <td>-0.105300</td>\n",
       "      <td>-0.067943</td>\n",
       "    </tr>\n",
       "    <tr>\n",
       "      <th>Tip_amount</th>\n",
       "      <td>0.001907</td>\n",
       "      <td>-0.007055</td>\n",
       "      <td>-0.012076</td>\n",
       "      <td>0.006152</td>\n",
       "      <td>0.004701</td>\n",
       "      <td>0.393834</td>\n",
       "      <td>0.399303</td>\n",
       "      <td>-0.006638</td>\n",
       "      <td>0.011602</td>\n",
       "      <td>1.000000</td>\n",
       "      <td>...</td>\n",
       "      <td>0.574887</td>\n",
       "      <td>-0.018687</td>\n",
       "      <td>0.377853</td>\n",
       "      <td>0.000411</td>\n",
       "      <td>-0.001387</td>\n",
       "      <td>0.024743</td>\n",
       "      <td>0.024685</td>\n",
       "      <td>0.720087</td>\n",
       "      <td>0.375885</td>\n",
       "      <td>0.516971</td>\n",
       "    </tr>\n",
       "    <tr>\n",
       "      <th>Tolls_amount</th>\n",
       "      <td>-0.003853</td>\n",
       "      <td>0.005632</td>\n",
       "      <td>0.001918</td>\n",
       "      <td>-0.001420</td>\n",
       "      <td>0.007885</td>\n",
       "      <td>0.320958</td>\n",
       "      <td>0.284527</td>\n",
       "      <td>-0.033028</td>\n",
       "      <td>-0.030844</td>\n",
       "      <td>0.189387</td>\n",
       "      <td>...</td>\n",
       "      <td>0.364738</td>\n",
       "      <td>0.003758</td>\n",
       "      <td>0.254303</td>\n",
       "      <td>-0.010242</td>\n",
       "      <td>-0.008817</td>\n",
       "      <td>0.023236</td>\n",
       "      <td>0.023254</td>\n",
       "      <td>0.043109</td>\n",
       "      <td>0.236194</td>\n",
       "      <td>0.286454</td>\n",
       "    </tr>\n",
       "    <tr>\n",
       "      <th>improvement_surcharge</th>\n",
       "      <td>-0.082110</td>\n",
       "      <td>0.076714</td>\n",
       "      <td>-0.030990</td>\n",
       "      <td>0.025357</td>\n",
       "      <td>0.004057</td>\n",
       "      <td>-0.046358</td>\n",
       "      <td>-0.110053</td>\n",
       "      <td>0.142996</td>\n",
       "      <td>0.960866</td>\n",
       "      <td>0.020035</td>\n",
       "      <td>...</td>\n",
       "      <td>-0.077217</td>\n",
       "      <td>-0.972239</td>\n",
       "      <td>-0.040624</td>\n",
       "      <td>0.023059</td>\n",
       "      <td>0.021954</td>\n",
       "      <td>-0.004761</td>\n",
       "      <td>-0.004951</td>\n",
       "      <td>0.071754</td>\n",
       "      <td>-0.091927</td>\n",
       "      <td>-0.054487</td>\n",
       "    </tr>\n",
       "    <tr>\n",
       "      <th>Total_amount</th>\n",
       "      <td>0.003637</td>\n",
       "      <td>-0.006857</td>\n",
       "      <td>0.004282</td>\n",
       "      <td>-0.008547</td>\n",
       "      <td>0.012609</td>\n",
       "      <td>0.851105</td>\n",
       "      <td>0.975996</td>\n",
       "      <td>-0.024191</td>\n",
       "      <td>-0.098131</td>\n",
       "      <td>0.574887</td>\n",
       "      <td>...</td>\n",
       "      <td>1.000000</td>\n",
       "      <td>0.079664</td>\n",
       "      <td>0.803089</td>\n",
       "      <td>-0.009265</td>\n",
       "      <td>-0.012399</td>\n",
       "      <td>0.085766</td>\n",
       "      <td>0.085805</td>\n",
       "      <td>0.230792</td>\n",
       "      <td>0.868106</td>\n",
       "      <td>0.896034</td>\n",
       "    </tr>\n",
       "    <tr>\n",
       "      <th>Trip_type</th>\n",
       "      <td>0.071023</td>\n",
       "      <td>-0.065485</td>\n",
       "      <td>-0.003314</td>\n",
       "      <td>0.009085</td>\n",
       "      <td>-0.003535</td>\n",
       "      <td>0.047141</td>\n",
       "      <td>0.112428</td>\n",
       "      <td>-0.143177</td>\n",
       "      <td>-0.966658</td>\n",
       "      <td>-0.018687</td>\n",
       "      <td>...</td>\n",
       "      <td>0.079664</td>\n",
       "      <td>1.000000</td>\n",
       "      <td>0.040538</td>\n",
       "      <td>-0.023757</td>\n",
       "      <td>-0.022752</td>\n",
       "      <td>0.004975</td>\n",
       "      <td>0.005060</td>\n",
       "      <td>-0.070797</td>\n",
       "      <td>0.094443</td>\n",
       "      <td>0.057158</td>\n",
       "    </tr>\n",
       "    <tr>\n",
       "      <th>log_trip_dist</th>\n",
       "      <td>-0.000177</td>\n",
       "      <td>-0.002714</td>\n",
       "      <td>0.010927</td>\n",
       "      <td>-0.014984</td>\n",
       "      <td>0.012175</td>\n",
       "      <td>0.901600</td>\n",
       "      <td>0.808017</td>\n",
       "      <td>-0.038285</td>\n",
       "      <td>-0.048178</td>\n",
       "      <td>0.377853</td>\n",
       "      <td>...</td>\n",
       "      <td>0.803089</td>\n",
       "      <td>0.040538</td>\n",
       "      <td>1.000000</td>\n",
       "      <td>-0.034972</td>\n",
       "      <td>-0.041671</td>\n",
       "      <td>0.088031</td>\n",
       "      <td>0.088080</td>\n",
       "      <td>0.119671</td>\n",
       "      <td>0.923563</td>\n",
       "      <td>0.912065</td>\n",
       "    </tr>\n",
       "    <tr>\n",
       "      <th>pickup-hr</th>\n",
       "      <td>-0.004704</td>\n",
       "      <td>0.004101</td>\n",
       "      <td>-0.002652</td>\n",
       "      <td>0.001765</td>\n",
       "      <td>0.009700</td>\n",
       "      <td>-0.034888</td>\n",
       "      <td>-0.019351</td>\n",
       "      <td>0.252673</td>\n",
       "      <td>0.024149</td>\n",
       "      <td>0.000411</td>\n",
       "      <td>...</td>\n",
       "      <td>-0.009265</td>\n",
       "      <td>-0.023757</td>\n",
       "      <td>-0.034972</td>\n",
       "      <td>1.000000</td>\n",
       "      <td>0.934082</td>\n",
       "      <td>-0.003807</td>\n",
       "      <td>-0.003840</td>\n",
       "      <td>0.011919</td>\n",
       "      <td>-0.018202</td>\n",
       "      <td>-0.001185</td>\n",
       "    </tr>\n",
       "    <tr>\n",
       "      <th>dropoff-hr</th>\n",
       "      <td>-0.004614</td>\n",
       "      <td>0.004272</td>\n",
       "      <td>-0.001987</td>\n",
       "      <td>0.001359</td>\n",
       "      <td>0.008263</td>\n",
       "      <td>-0.040752</td>\n",
       "      <td>-0.021931</td>\n",
       "      <td>0.233883</td>\n",
       "      <td>0.022753</td>\n",
       "      <td>-0.001387</td>\n",
       "      <td>...</td>\n",
       "      <td>-0.012399</td>\n",
       "      <td>-0.022752</td>\n",
       "      <td>-0.041671</td>\n",
       "      <td>0.934082</td>\n",
       "      <td>1.000000</td>\n",
       "      <td>-0.016316</td>\n",
       "      <td>-0.016347</td>\n",
       "      <td>0.010601</td>\n",
       "      <td>-0.021917</td>\n",
       "      <td>-0.005744</td>\n",
       "    </tr>\n",
       "    <tr>\n",
       "      <th>traveltime</th>\n",
       "      <td>-0.002356</td>\n",
       "      <td>0.001726</td>\n",
       "      <td>-0.000279</td>\n",
       "      <td>-0.000491</td>\n",
       "      <td>0.005079</td>\n",
       "      <td>0.085604</td>\n",
       "      <td>0.090401</td>\n",
       "      <td>-0.003088</td>\n",
       "      <td>-0.005950</td>\n",
       "      <td>0.024743</td>\n",
       "      <td>...</td>\n",
       "      <td>0.085766</td>\n",
       "      <td>0.004975</td>\n",
       "      <td>0.088031</td>\n",
       "      <td>-0.003807</td>\n",
       "      <td>-0.016316</td>\n",
       "      <td>1.000000</td>\n",
       "      <td>0.999984</td>\n",
       "      <td>-0.011146</td>\n",
       "      <td>0.094667</td>\n",
       "      <td>0.089452</td>\n",
       "    </tr>\n",
       "    <tr>\n",
       "      <th>traveltimeinhrs</th>\n",
       "      <td>-0.002028</td>\n",
       "      <td>0.001398</td>\n",
       "      <td>0.002873</td>\n",
       "      <td>-0.003640</td>\n",
       "      <td>0.005062</td>\n",
       "      <td>0.085624</td>\n",
       "      <td>0.090463</td>\n",
       "      <td>-0.003127</td>\n",
       "      <td>-0.006173</td>\n",
       "      <td>0.024685</td>\n",
       "      <td>...</td>\n",
       "      <td>0.085805</td>\n",
       "      <td>0.005060</td>\n",
       "      <td>0.088080</td>\n",
       "      <td>-0.003840</td>\n",
       "      <td>-0.016347</td>\n",
       "      <td>0.999984</td>\n",
       "      <td>1.000000</td>\n",
       "      <td>-0.011240</td>\n",
       "      <td>0.094667</td>\n",
       "      <td>0.089437</td>\n",
       "    </tr>\n",
       "    <tr>\n",
       "      <th>tippercent</th>\n",
       "      <td>-0.004146</td>\n",
       "      <td>-0.003136</td>\n",
       "      <td>-0.019594</td>\n",
       "      <td>0.011431</td>\n",
       "      <td>0.001529</td>\n",
       "      <td>0.095702</td>\n",
       "      <td>0.084448</td>\n",
       "      <td>0.016543</td>\n",
       "      <td>0.072478</td>\n",
       "      <td>0.720087</td>\n",
       "      <td>...</td>\n",
       "      <td>0.230792</td>\n",
       "      <td>-0.070797</td>\n",
       "      <td>0.119671</td>\n",
       "      <td>0.011919</td>\n",
       "      <td>0.010601</td>\n",
       "      <td>-0.011146</td>\n",
       "      <td>-0.011240</td>\n",
       "      <td>1.000000</td>\n",
       "      <td>0.106758</td>\n",
       "      <td>0.286640</td>\n",
       "    </tr>\n",
       "    <tr>\n",
       "      <th>log_Fare</th>\n",
       "      <td>-0.000238</td>\n",
       "      <td>-0.003132</td>\n",
       "      <td>0.002473</td>\n",
       "      <td>-0.007134</td>\n",
       "      <td>0.013512</td>\n",
       "      <td>0.828687</td>\n",
       "      <td>0.885879</td>\n",
       "      <td>-0.053674</td>\n",
       "      <td>-0.105300</td>\n",
       "      <td>0.375885</td>\n",
       "      <td>...</td>\n",
       "      <td>0.868106</td>\n",
       "      <td>0.094443</td>\n",
       "      <td>0.923563</td>\n",
       "      <td>-0.018202</td>\n",
       "      <td>-0.021917</td>\n",
       "      <td>0.094667</td>\n",
       "      <td>0.094667</td>\n",
       "      <td>0.106758</td>\n",
       "      <td>1.000000</td>\n",
       "      <td>0.977237</td>\n",
       "    </tr>\n",
       "    <tr>\n",
       "      <th>log_Total_amount</th>\n",
       "      <td>-0.001296</td>\n",
       "      <td>-0.003314</td>\n",
       "      <td>-0.000604</td>\n",
       "      <td>-0.005400</td>\n",
       "      <td>0.014576</td>\n",
       "      <td>0.826129</td>\n",
       "      <td>0.876345</td>\n",
       "      <td>0.010363</td>\n",
       "      <td>-0.067943</td>\n",
       "      <td>0.516971</td>\n",
       "      <td>...</td>\n",
       "      <td>0.896034</td>\n",
       "      <td>0.057158</td>\n",
       "      <td>0.912065</td>\n",
       "      <td>-0.001185</td>\n",
       "      <td>-0.005744</td>\n",
       "      <td>0.089452</td>\n",
       "      <td>0.089437</td>\n",
       "      <td>0.286640</td>\n",
       "      <td>0.977237</td>\n",
       "      <td>1.000000</td>\n",
       "    </tr>\n",
       "  </tbody>\n",
       "</table>\n",
       "<p>22 rows × 22 columns</p>\n",
       "</div>"
      ],
      "text/plain": [
       "                       Pickup_longitude  Pickup_latitude  Dropoff_longitude  \\\n",
       "Pickup_longitude               1.000000        -0.999023           0.256744   \n",
       "Pickup_latitude               -0.999023         1.000000          -0.256327   \n",
       "Dropoff_longitude              0.256744        -0.256327           1.000000   \n",
       "Dropoff_latitude              -0.255719         0.257001          -0.998925   \n",
       "Passenger_count               -0.005722         0.004678          -0.003948   \n",
       "Trip_distance                 -0.002927         0.001212           0.005827   \n",
       "Fare_amount                    0.005337        -0.007768           0.008002   \n",
       "Extra                         -0.015308         0.012485          -0.007431   \n",
       "MTA_tax                       -0.083430         0.077946          -0.029633   \n",
       "Tip_amount                     0.001907        -0.007055          -0.012076   \n",
       "Tolls_amount                  -0.003853         0.005632           0.001918   \n",
       "improvement_surcharge         -0.082110         0.076714          -0.030990   \n",
       "Total_amount                   0.003637        -0.006857           0.004282   \n",
       "Trip_type                      0.071023        -0.065485          -0.003314   \n",
       "log_trip_dist                 -0.000177        -0.002714           0.010927   \n",
       "pickup-hr                     -0.004704         0.004101          -0.002652   \n",
       "dropoff-hr                    -0.004614         0.004272          -0.001987   \n",
       "traveltime                    -0.002356         0.001726          -0.000279   \n",
       "traveltimeinhrs               -0.002028         0.001398           0.002873   \n",
       "tippercent                    -0.004146        -0.003136          -0.019594   \n",
       "log_Fare                      -0.000238        -0.003132           0.002473   \n",
       "log_Total_amount              -0.001296        -0.003314          -0.000604   \n",
       "\n",
       "                       Dropoff_latitude  Passenger_count  Trip_distance  \\\n",
       "Pickup_longitude              -0.255719        -0.005722      -0.002927   \n",
       "Pickup_latitude                0.257001         0.004678       0.001212   \n",
       "Dropoff_longitude             -0.998925        -0.003948       0.005827   \n",
       "Dropoff_latitude               1.000000         0.002957      -0.008375   \n",
       "Passenger_count                0.002957         1.000000       0.011124   \n",
       "Trip_distance                 -0.008375         0.011124       1.000000   \n",
       "Fare_amount                   -0.011338         0.011860       0.853511   \n",
       "Extra                          0.004874         0.019340      -0.044036   \n",
       "MTA_tax                        0.024147         0.003374      -0.061114   \n",
       "Tip_amount                     0.006152         0.004701       0.393834   \n",
       "Tolls_amount                  -0.001420         0.007885       0.320958   \n",
       "improvement_surcharge          0.025357         0.004057      -0.046358   \n",
       "Total_amount                  -0.008547         0.012609       0.851105   \n",
       "Trip_type                      0.009085        -0.003535       0.047141   \n",
       "log_trip_dist                 -0.014984         0.012175       0.901600   \n",
       "pickup-hr                      0.001765         0.009700      -0.034888   \n",
       "dropoff-hr                     0.001359         0.008263      -0.040752   \n",
       "traveltime                    -0.000491         0.005079       0.085604   \n",
       "traveltimeinhrs               -0.003640         0.005062       0.085624   \n",
       "tippercent                     0.011431         0.001529       0.095702   \n",
       "log_Fare                      -0.007134         0.013512       0.828687   \n",
       "log_Total_amount              -0.005400         0.014576       0.826129   \n",
       "\n",
       "                       Fare_amount     Extra   MTA_tax  Tip_amount  \\\n",
       "Pickup_longitude          0.005337 -0.015308 -0.083430    0.001907   \n",
       "Pickup_latitude          -0.007768  0.012485  0.077946   -0.007055   \n",
       "Dropoff_longitude         0.008002 -0.007431 -0.029633   -0.012076   \n",
       "Dropoff_latitude         -0.011338  0.004874  0.024147    0.006152   \n",
       "Passenger_count           0.011860  0.019340  0.003374    0.004701   \n",
       "Trip_distance             0.853511 -0.044036 -0.061114    0.393834   \n",
       "Fare_amount               1.000000 -0.061150 -0.129696    0.399303   \n",
       "Extra                    -0.061150  1.000000  0.144298   -0.006638   \n",
       "MTA_tax                  -0.129696  0.144298  1.000000    0.011602   \n",
       "Tip_amount                0.399303 -0.006638  0.011602    1.000000   \n",
       "Tolls_amount              0.284527 -0.033028 -0.030844    0.189387   \n",
       "improvement_surcharge    -0.110053  0.142996  0.960866    0.020035   \n",
       "Total_amount              0.975996 -0.024191 -0.098131    0.574887   \n",
       "Trip_type                 0.112428 -0.143177 -0.966658   -0.018687   \n",
       "log_trip_dist             0.808017 -0.038285 -0.048178    0.377853   \n",
       "pickup-hr                -0.019351  0.252673  0.024149    0.000411   \n",
       "dropoff-hr               -0.021931  0.233883  0.022753   -0.001387   \n",
       "traveltime                0.090401 -0.003088 -0.005950    0.024743   \n",
       "traveltimeinhrs           0.090463 -0.003127 -0.006173    0.024685   \n",
       "tippercent                0.084448  0.016543  0.072478    0.720087   \n",
       "log_Fare                  0.885879 -0.053674 -0.105300    0.375885   \n",
       "log_Total_amount          0.876345  0.010363 -0.067943    0.516971   \n",
       "\n",
       "                             ...         Total_amount  Trip_type   \\\n",
       "Pickup_longitude             ...             0.003637    0.071023   \n",
       "Pickup_latitude              ...            -0.006857   -0.065485   \n",
       "Dropoff_longitude            ...             0.004282   -0.003314   \n",
       "Dropoff_latitude             ...            -0.008547    0.009085   \n",
       "Passenger_count              ...             0.012609   -0.003535   \n",
       "Trip_distance                ...             0.851105    0.047141   \n",
       "Fare_amount                  ...             0.975996    0.112428   \n",
       "Extra                        ...            -0.024191   -0.143177   \n",
       "MTA_tax                      ...            -0.098131   -0.966658   \n",
       "Tip_amount                   ...             0.574887   -0.018687   \n",
       "Tolls_amount                 ...             0.364738    0.003758   \n",
       "improvement_surcharge        ...            -0.077217   -0.972239   \n",
       "Total_amount                 ...             1.000000    0.079664   \n",
       "Trip_type                    ...             0.079664    1.000000   \n",
       "log_trip_dist                ...             0.803089    0.040538   \n",
       "pickup-hr                    ...            -0.009265   -0.023757   \n",
       "dropoff-hr                   ...            -0.012399   -0.022752   \n",
       "traveltime                   ...             0.085766    0.004975   \n",
       "traveltimeinhrs              ...             0.085805    0.005060   \n",
       "tippercent                   ...             0.230792   -0.070797   \n",
       "log_Fare                     ...             0.868106    0.094443   \n",
       "log_Total_amount             ...             0.896034    0.057158   \n",
       "\n",
       "                       log_trip_dist  pickup-hr  dropoff-hr  traveltime  \\\n",
       "Pickup_longitude           -0.000177  -0.004704   -0.004614   -0.002356   \n",
       "Pickup_latitude            -0.002714   0.004101    0.004272    0.001726   \n",
       "Dropoff_longitude           0.010927  -0.002652   -0.001987   -0.000279   \n",
       "Dropoff_latitude           -0.014984   0.001765    0.001359   -0.000491   \n",
       "Passenger_count             0.012175   0.009700    0.008263    0.005079   \n",
       "Trip_distance               0.901600  -0.034888   -0.040752    0.085604   \n",
       "Fare_amount                 0.808017  -0.019351   -0.021931    0.090401   \n",
       "Extra                      -0.038285   0.252673    0.233883   -0.003088   \n",
       "MTA_tax                    -0.048178   0.024149    0.022753   -0.005950   \n",
       "Tip_amount                  0.377853   0.000411   -0.001387    0.024743   \n",
       "Tolls_amount                0.254303  -0.010242   -0.008817    0.023236   \n",
       "improvement_surcharge      -0.040624   0.023059    0.021954   -0.004761   \n",
       "Total_amount                0.803089  -0.009265   -0.012399    0.085766   \n",
       "Trip_type                   0.040538  -0.023757   -0.022752    0.004975   \n",
       "log_trip_dist               1.000000  -0.034972   -0.041671    0.088031   \n",
       "pickup-hr                  -0.034972   1.000000    0.934082   -0.003807   \n",
       "dropoff-hr                 -0.041671   0.934082    1.000000   -0.016316   \n",
       "traveltime                  0.088031  -0.003807   -0.016316    1.000000   \n",
       "traveltimeinhrs             0.088080  -0.003840   -0.016347    0.999984   \n",
       "tippercent                  0.119671   0.011919    0.010601   -0.011146   \n",
       "log_Fare                    0.923563  -0.018202   -0.021917    0.094667   \n",
       "log_Total_amount            0.912065  -0.001185   -0.005744    0.089452   \n",
       "\n",
       "                       traveltimeinhrs  tippercent  log_Fare  log_Total_amount  \n",
       "Pickup_longitude             -0.002028   -0.004146 -0.000238         -0.001296  \n",
       "Pickup_latitude               0.001398   -0.003136 -0.003132         -0.003314  \n",
       "Dropoff_longitude             0.002873   -0.019594  0.002473         -0.000604  \n",
       "Dropoff_latitude             -0.003640    0.011431 -0.007134         -0.005400  \n",
       "Passenger_count               0.005062    0.001529  0.013512          0.014576  \n",
       "Trip_distance                 0.085624    0.095702  0.828687          0.826129  \n",
       "Fare_amount                   0.090463    0.084448  0.885879          0.876345  \n",
       "Extra                        -0.003127    0.016543 -0.053674          0.010363  \n",
       "MTA_tax                      -0.006173    0.072478 -0.105300         -0.067943  \n",
       "Tip_amount                    0.024685    0.720087  0.375885          0.516971  \n",
       "Tolls_amount                  0.023254    0.043109  0.236194          0.286454  \n",
       "improvement_surcharge        -0.004951    0.071754 -0.091927         -0.054487  \n",
       "Total_amount                  0.085805    0.230792  0.868106          0.896034  \n",
       "Trip_type                     0.005060   -0.070797  0.094443          0.057158  \n",
       "log_trip_dist                 0.088080    0.119671  0.923563          0.912065  \n",
       "pickup-hr                    -0.003840    0.011919 -0.018202         -0.001185  \n",
       "dropoff-hr                   -0.016347    0.010601 -0.021917         -0.005744  \n",
       "traveltime                    0.999984   -0.011146  0.094667          0.089452  \n",
       "traveltimeinhrs               1.000000   -0.011240  0.094667          0.089437  \n",
       "tippercent                   -0.011240    1.000000  0.106758          0.286640  \n",
       "log_Fare                      0.094667    0.106758  1.000000          0.977237  \n",
       "log_Total_amount              0.089437    0.286640  0.977237          1.000000  \n",
       "\n",
       "[22 rows x 22 columns]"
      ]
     },
     "execution_count": 239,
     "metadata": {},
     "output_type": "execute_result"
    }
   ],
   "source": [
    "datacap.corr()"
   ]
  },
  {
   "cell_type": "markdown",
   "metadata": {
    "collapsed": true
   },
   "source": [
    "- I performed the above correlation for 2 purposes:\n",
    "1. To see if any auto collinearity would arise, due to high correlation between any 2 variables as was expected 'Fare_amount' is having high correlation with 'Trip_dist' and ' Total_amount' as they are proportional by nature.<br>These variables need to be treated after checking for high values of the 'Variance Inflation Factor(VIF)' after running the regression model\n",
    "<br>\n",
    "2. To check is passenger count has any correlation with any of the  above variables, so that I can use a pivot table to better impute a missing value rather than just a mean or a mode. <br>But as the passenger count is poorly correlated with all the variables, I am going to fill all the passenger count=0 which are impractical with , the median(categorical varibale cant take a decimal mean if means is not an integer) of all passenger count assuming they are random errors. "
   ]
  },
  {
   "cell_type": "code",
   "execution_count": 241,
   "metadata": {},
   "outputs": [
    {
     "data": {
      "text/plain": [
       "<matplotlib.text.Text at 0x26f397c6d68>"
      ]
     },
     "execution_count": 241,
     "metadata": {},
     "output_type": "execute_result"
    },
    {
     "data": {
      "image/png": "[encoded data removed]",
      "text/plain": [
       "<matplotlib.figure.Figure at 0x26f3b13f940>"
      ]
     },
     "metadata": {},
     "output_type": "display_data"
    }
   ],
   "source": [
    "plt.scatter(datacap.Fare_amount,datacap.Total_amount)\n",
    "plt.ylabel('Fare amount')\n",
    "plt.xlabel('Total amount')\n",
    "plt.title('Correlation scatter plot')"
   ]
  },
  {
   "cell_type": "code",
   "execution_count": 242,
   "metadata": {},
   "outputs": [
    {
     "data": {
      "text/plain": [
       "<matplotlib.text.Text at 0x26f3aada4e0>"
      ]
     },
     "execution_count": 242,
     "metadata": {},
     "output_type": "execute_result"
    },
    {
     "data": {
      "image/png": "[encoded data removed]",
      "text/plain": [
       "<matplotlib.figure.Figure at 0x26f083995c0>"
      ]
     },
     "metadata": {},
     "output_type": "display_data"
    }
   ],
   "source": [
    "plt.scatter(datacap.Fare_amount,datacap.Trip_distance)\n",
    "plt.ylim(0,150)\n",
    "plt.ylabel('Fare amount')\n",
    "plt.xlabel('Trip Distance')\n",
    "plt.title('Correlation scatter plot')"
   ]
  },
  {
   "cell_type": "markdown",
   "metadata": {
    "collapsed": true
   },
   "source": [
    "- There are a lot of columns of derived variables which might act as a good predictor.\n",
    "- The variables were derived either during the course of solving the earlier equations or derived as it was deemed useful for\n",
    "- The regression model o ftip_percent ot be built"
   ]
  },
  {
   "cell_type": "markdown",
   "metadata": {
    "collapsed": true
   },
   "source": [
    ">  >  - <font color='red'>__4.2.5-Feature Engineering__</font> <br> _(dealt with in the earlier sections too)_"
   ]
  },
  {
   "cell_type": "code",
   "execution_count": 243,
   "metadata": {
    "collapsed": true
   },
   "outputs": [],
   "source": [
    "import datetime as dt\n",
    "datacap['day_no'] = datacap.time_drop.apply(lambda x:x.isocalendar()[2])-dt.datetime(2015,9,1).isocalendar()[2]"
   ]
  },
  {
   "cell_type": "markdown",
   "metadata": {},
   "source": [
    "- 'day_no' is a variable that contains the day of the month .\n",
    "- Including it as a predictor is a good idea as the trend of giving tips might show a trend like in the initial days, when people might get their salary, they might be gracious in giving tips.\n",
    "- Also, one can find out the trend if people are giving a higher tip on certain days as a ratio of the total fare.\n",
    "\n",
    " "
   ]
  },
  {
   "cell_type": "markdown",
   "metadata": {},
   "source": [
    "- More derived varibles have been added through the course of this challenge which might deem useful like [avg_speed_mph, CheckAirport ,traveltimeinhrs ,pickup-hr(indicating the hour of the day) etc] "
   ]
  },
  {
   "cell_type": "markdown",
   "metadata": {},
   "source": [
    " __</font color='blue'>Further Steps that can be done:</font>__\n",
    "\n",
    "- After Feature Engineering further feature selection needs to be done to elmiminate overfitting, model simplification for ease of use and further analysis by other team members of the project or other people,improves accuracy and avoiding 'overfitting' by using reduced number of useful predictors in the model.\n",
    "\n",
    "- Binning of variables instead of continuous variables might be helpful at times, like  using 'week_no' instead of 'day_no' of the month can be usedful\n",
    "\n",
    "- Including a derived variable that  a column with binary values to indicate whether a tip was given or not\n",
    "\n",
    "- Indexing binary variables to filter out more than one sub category of data at a time"
   ]
  },
  {
   "cell_type": "markdown",
   "metadata": {
    "collapsed": true
   },
   "source": [
    ">  >  - <font color='red'>__4.2.6-Analysis of tips percentage data__</font>"
   ]
  },
  {
   "cell_type": "code",
   "execution_count": 245,
   "metadata": {},
   "outputs": [
    {
     "data": {
      "text/plain": [
       "<matplotlib.text.Text at 0x26f26a0f908>"
      ]
     },
     "execution_count": 245,
     "metadata": {},
     "output_type": "execute_result"
    },
    {
     "data": {
      "image/png": "[encoded data removed]",
      "text/plain": [
       "<matplotlib.figure.Figure at 0x26f20427400>"
      ]
     },
     "metadata": {},
     "output_type": "display_data"
    }
   ],
   "source": [
    "datacap.tippercent.hist(bins=50,color=\"red\")\n",
    "plt.title('Tip percentage as a function of total amount histogram')\n",
    "plt.xlabel('Tip percentage')"
   ]
  },
  {
   "cell_type": "code",
   "execution_count": 246,
   "metadata": {},
   "outputs": [
    {
     "name": "stdout",
     "output_type": "stream",
     "text": [
      "Number of trips where no tip was given: 892156\n",
      "Number of trips where tip was given: 602770\n"
     ]
    }
   ],
   "source": [
    "print(\"Number of trips where no tip was given:\",datacap.tippercent[datacap.tippercent==0].count())\n",
    "print(\"Number of trips where tip was given:\",datacap.tippercent[datacap.tippercent>0].count())"
   ]
  },
  {
   "cell_type": "code",
   "execution_count": 247,
   "metadata": {},
   "outputs": [
    {
     "data": {
      "text/plain": [
       "<matplotlib.text.Text at 0x26f3c4264a8>"
      ]
     },
     "execution_count": 247,
     "metadata": {},
     "output_type": "execute_result"
    },
    {
     "data": {
      "image/png": "[encoded data removed]",
      "text/plain": [
       "<matplotlib.figure.Figure at 0x26f3ddcd9b0>"
      ]
     },
     "metadata": {},
     "output_type": "display_data"
    }
   ],
   "source": [
    "plt.scatter(datacap.Fare_amount,datacap.tippercent,color=\"brown\")\n",
    "plt.title('Trend analysis of tip% with Total trip amount')\n",
    "plt.xlabel('Total Trip cost')\n",
    "plt.ylabel('Tip Percentage compared to the Total fare')"
   ]
  },
  {
   "cell_type": "code",
   "execution_count": 294,
   "metadata": {},
   "outputs": [
    {
     "data": {
      "text/plain": [
       "<matplotlib.axes._subplots.AxesSubplot at 0x26f35d69d68>"
      ]
     },
     "execution_count": 294,
     "metadata": {},
     "output_type": "execute_result"
    },
    {
     "data": {
      "image/png": "[encoded data removed]",
      "text/plain": [
       "<matplotlib.figure.Figure at 0x26f0f376780>"
      ]
     },
     "metadata": {},
     "output_type": "display_data"
    }
   ],
   "source": [
    "datacap['tippercent'].groupby(datacap['Payment_type']).mean().plot(kind='bar')"
   ]
  },
  {
   "cell_type": "markdown",
   "metadata": {},
   "source": [
    "- It is clearly visible that the payment type is an important indicator to see if a taxi driver gets a tip or not"
   ]
  },
  {
   "cell_type": "markdown",
   "metadata": {},
   "source": [
    ">  - <font color='red'>__4.3 - The Predictive model:__</font>"
   ]
  },
  {
   "cell_type": "markdown",
   "metadata": {},
   "source": [
    "- The predictive model (using Random Forest Regressor):<br>\n",
    "<font color='blue'>__[This module is to be executed at the last as the changes and additions made in/of the predictors \n",
    " in the 5th question might be useful for the model]__</font>"
   ]
  },
  {
   "cell_type": "markdown",
   "metadata": {},
   "source": [
    ">  >  - <font color='red'>__4.3.1-Label Encoding__</font>"
   ]
  },
  {
   "cell_type": "code",
   "execution_count": 347,
   "metadata": {},
   "outputs": [
    {
     "name": "stdout",
     "output_type": "stream",
     "text": [
      "VendorID                          int64\n",
      "Store_and_fwd_flag                int64\n",
      "RateCodeID                     category\n",
      "Pickup_longitude                float64\n",
      "Pickup_latitude                 float64\n",
      "Dropoff_longitude               float64\n",
      "Dropoff_latitude                float64\n",
      "Passenger_count                category\n",
      "Trip_distance                   float64\n",
      "Fare_amount                     float64\n",
      "Extra                           float64\n",
      "MTA_tax                         float64\n",
      "Tip_amount                      float64\n",
      "Tolls_amount                    float64\n",
      "improvement_surcharge           float64\n",
      "Total_amount                    float64\n",
      "Payment_type                      int64\n",
      "Trip_type                       float64\n",
      "log_trip_dist                   float64\n",
      "time_pickup              datetime64[ns]\n",
      "time_drop                datetime64[ns]\n",
      "pickup-hr                         int64\n",
      "dropoff-hr                        int64\n",
      "traveltime                      float64\n",
      "traveltimeinhrs                 float64\n",
      "CheckAirport                      int64\n",
      "tippercent                      float64\n",
      "log_Fare                        float64\n",
      "log_Total_amount                float64\n",
      "day_no                            int64\n",
      "avg_speed_mph                   float64\n",
      "week_no                           int64\n",
      "tempxyz                         float64\n",
      "pickup_hr                         int64\n",
      "dtype: object\n",
      "VendorID                          int64\n",
      "Store_and_fwd_flag                int64\n",
      "RateCodeID                     category\n",
      "Pickup_longitude                float64\n",
      "Pickup_latitude                 float64\n",
      "Dropoff_longitude               float64\n",
      "Dropoff_latitude                float64\n",
      "Passenger_count                category\n",
      "Trip_distance                   float64\n",
      "Fare_amount                     float64\n",
      "Extra                           float64\n",
      "MTA_tax                         float64\n",
      "Tip_amount                      float64\n",
      "Tolls_amount                    float64\n",
      "improvement_surcharge           float64\n",
      "Total_amount                    float64\n",
      "Payment_type                      int64\n",
      "Trip_type                       float64\n",
      "log_trip_dist                   float64\n",
      "time_pickup              datetime64[ns]\n",
      "time_drop                datetime64[ns]\n",
      "pickup-hr                         int64\n",
      "dropoff-hr                        int64\n",
      "traveltime                      float64\n",
      "traveltimeinhrs                 float64\n",
      "CheckAirport                      int64\n",
      "tippercent                      float64\n",
      "log_Fare                        float64\n",
      "log_Total_amount                float64\n",
      "day_no                            int64\n",
      "avg_speed_mph                   float64\n",
      "week_no                           int64\n",
      "tempxyz                         float64\n",
      "pickup_hr                         int64\n",
      "dtype: object\n",
      "VendorID                          int64\n",
      "Store_and_fwd_flag                int64\n",
      "RateCodeID                        int64\n",
      "Pickup_longitude                float64\n",
      "Pickup_latitude                 float64\n",
      "Dropoff_longitude               float64\n",
      "Dropoff_latitude                float64\n",
      "Passenger_count                category\n",
      "Trip_distance                   float64\n",
      "Fare_amount                     float64\n",
      "Extra                           float64\n",
      "MTA_tax                         float64\n",
      "Tip_amount                      float64\n",
      "Tolls_amount                    float64\n",
      "improvement_surcharge           float64\n",
      "Total_amount                    float64\n",
      "Payment_type                      int64\n",
      "Trip_type                       float64\n",
      "log_trip_dist                   float64\n",
      "time_pickup              datetime64[ns]\n",
      "time_drop                datetime64[ns]\n",
      "pickup-hr                         int64\n",
      "dropoff-hr                        int64\n",
      "traveltime                      float64\n",
      "traveltimeinhrs                 float64\n",
      "CheckAirport                      int64\n",
      "tippercent                      float64\n",
      "log_Fare                        float64\n",
      "log_Total_amount                float64\n",
      "day_no                            int64\n",
      "avg_speed_mph                   float64\n",
      "week_no                           int64\n",
      "tempxyz                         float64\n",
      "pickup_hr                         int64\n",
      "dtype: object\n",
      "VendorID                          int64\n",
      "Store_and_fwd_flag                int64\n",
      "RateCodeID                        int64\n",
      "Pickup_longitude                float64\n",
      "Pickup_latitude                 float64\n",
      "Dropoff_longitude               float64\n",
      "Dropoff_latitude                float64\n",
      "Passenger_count                category\n",
      "Trip_distance                   float64\n",
      "Fare_amount                     float64\n",
      "Extra                           float64\n",
      "MTA_tax                         float64\n",
      "Tip_amount                      float64\n",
      "Tolls_amount                    float64\n",
      "improvement_surcharge           float64\n",
      "Total_amount                    float64\n",
      "Payment_type                      int64\n",
      "Trip_type                       float64\n",
      "log_trip_dist                   float64\n",
      "time_pickup              datetime64[ns]\n",
      "time_drop                datetime64[ns]\n",
      "pickup-hr                         int64\n",
      "dropoff-hr                        int64\n",
      "traveltime                      float64\n",
      "traveltimeinhrs                 float64\n",
      "CheckAirport                      int64\n",
      "tippercent                      float64\n",
      "log_Fare                        float64\n",
      "log_Total_amount                float64\n",
      "day_no                            int64\n",
      "avg_speed_mph                   float64\n",
      "week_no                           int64\n",
      "tempxyz                         float64\n",
      "pickup_hr                         int64\n",
      "dtype: object\n",
      "VendorID                          int64\n",
      "Store_and_fwd_flag                int64\n",
      "RateCodeID                        int64\n",
      "Pickup_longitude                float64\n",
      "Pickup_latitude                 float64\n",
      "Dropoff_longitude               float64\n",
      "Dropoff_latitude                float64\n",
      "Passenger_count                category\n",
      "Trip_distance                   float64\n",
      "Fare_amount                     float64\n",
      "Extra                           float64\n",
      "MTA_tax                         float64\n",
      "Tip_amount                      float64\n",
      "Tolls_amount                    float64\n",
      "improvement_surcharge           float64\n",
      "Total_amount                    float64\n",
      "Payment_type                      int64\n",
      "Trip_type                       float64\n",
      "log_trip_dist                   float64\n",
      "time_pickup              datetime64[ns]\n",
      "time_drop                datetime64[ns]\n",
      "pickup-hr                         int64\n",
      "dropoff-hr                        int64\n",
      "traveltime                      float64\n",
      "traveltimeinhrs                 float64\n",
      "CheckAirport                      int64\n",
      "tippercent                      float64\n",
      "log_Fare                        float64\n",
      "log_Total_amount                float64\n",
      "day_no                            int64\n",
      "avg_speed_mph                   float64\n",
      "week_no                           int64\n",
      "tempxyz                         float64\n",
      "pickup_hr                         int64\n",
      "dtype: object\n",
      "VendorID                          int64\n",
      "Store_and_fwd_flag                int64\n",
      "RateCodeID                        int64\n",
      "Pickup_longitude                float64\n",
      "Pickup_latitude                 float64\n",
      "Dropoff_longitude               float64\n",
      "Dropoff_latitude                float64\n",
      "Passenger_count                   int64\n",
      "Trip_distance                   float64\n",
      "Fare_amount                     float64\n",
      "Extra                           float64\n",
      "MTA_tax                         float64\n",
      "Tip_amount                      float64\n",
      "Tolls_amount                    float64\n",
      "improvement_surcharge           float64\n",
      "Total_amount                    float64\n",
      "Payment_type                      int64\n",
      "Trip_type                       float64\n",
      "log_trip_dist                   float64\n",
      "time_pickup              datetime64[ns]\n",
      "time_drop                datetime64[ns]\n",
      "pickup-hr                         int64\n",
      "dropoff-hr                        int64\n",
      "traveltime                      float64\n",
      "traveltimeinhrs                 float64\n",
      "CheckAirport                      int64\n",
      "tippercent                      float64\n",
      "log_Fare                        float64\n",
      "log_Total_amount                float64\n",
      "day_no                            int64\n",
      "avg_speed_mph                   float64\n",
      "week_no                           int64\n",
      "tempxyz                         float64\n",
      "pickup_hr                         int64\n",
      "dtype: object\n"
     ]
    }
   ],
   "source": [
    "#For encoding all categorical variables to integers.\n",
    "from sklearn.preprocessing import LabelEncoder\n",
    "var_lab = ['VendorID','Store_and_fwd_flag','RateCodeID','Payment_type','CheckAirport','Passenger_count']\n",
    "le = LabelEncoder()\n",
    "for i in var_lab:\n",
    "    datacap[i] = le.fit_transform(datacap[i])\n",
    "    print( datacap.dtypes)"
   ]
  },
  {
   "cell_type": "code",
   "execution_count": 348,
   "metadata": {},
   "outputs": [],
   "source": [
    "from sklearn import linear_model\n",
    "from sklearn.cross_validation import KFold   #For K-fold cross validation\n",
    "from sklearn.tree import  export_graphviz\n",
    "from sklearn import metrics\n",
    "from sklearn import ensemble\n",
    "from sklearn import tree"
   ]
  },
  {
   "cell_type": "markdown",
   "metadata": {},
   "source": [
    ">  >  - <font color='red'>__4.3.2-Model Fitting (RandomForestRegressor) :__</font>"
   ]
  },
  {
   "cell_type": "code",
   "execution_count": 349,
   "metadata": {},
   "outputs": [
    {
     "name": "stdout",
     "output_type": "stream",
     "text": [
      "Accuracy : 0.0124490875241\n"
     ]
    }
   ],
   "source": [
    "data=datacap\n",
    "model = ensemble.RandomForestRegressor(n_estimators=100) \n",
    "outcome = 'tippercent'\n",
    "predictors = ['VendorID','Store_and_fwd_flag','RateCodeID','Passenger_count',\n",
    "              'log_trip_dist','log_Fare','Extra','MTA_tax','Tolls_amount',\n",
    "              'improvement_surcharge','log_Total_amount','Payment_type','pickup-hr',\n",
    "              'traveltimeinhrs','avg_speed_mph','day_no','CheckAirport']\n",
    "model.fit(data[predictors],data[outcome])\n",
    "\n",
    "predictions = model.predict(data[predictors])\n",
    "  #Print accuracy\n",
    " \n",
    "print(\"Accuracy :\",metrics.mean_squared_error(data[outcome].values,predictions))"
   ]
  },
  {
   "cell_type": "markdown",
   "metadata": {},
   "source": [
    "- Mean Square Error is used as the metric to asses the model fitted. The valuse of 0.0125 implies the model is a good one."
   ]
  },
  {
   "cell_type": "markdown",
   "metadata": {
    "collapsed": true
   },
   "source": [
    " >  >  - <font color='red'>__4.3.3- K-Fold Cross-Validation (5 folds used):__</font>"
   ]
  },
  {
   "cell_type": "code",
   "execution_count": 350,
   "metadata": {},
   "outputs": [
    {
     "name": "stdout",
     "output_type": "stream",
     "text": [
      "Cross-Validation Score : 99.861%\n"
     ]
    }
   ],
   "source": [
    "\n",
    "kf = KFold(data.shape[0], n_folds=5)\n",
    "error = []\n",
    "for train, test in kf:\n",
    "    # Training data is fitered out (contains 4 folds or 4/5th of the entire data)\n",
    "    train_predictors = (data[predictors].iloc[train])\n",
    "    \n",
    "    # ALgorithm is trained with the help of targets.\n",
    "    train_target = data[outcome].iloc[train]\n",
    "    \n",
    "    # The target data and predictors data(1fold or 1/5th of the model) are training the model\n",
    "    model.fit(train_predictors, train_target)\n",
    "    \n",
    "    #Error appended from every run of cross validation\n",
    "    error.append(   model.score (data[predictors].iloc[test], data[outcome].iloc[test])  )\n",
    " \n",
    "print(\"Cross-Validation Score : %s\" % \"{0:.3%}\".format(np.mean(error)))\n"
   ]
  },
  {
   "cell_type": "markdown",
   "metadata": {
    "collapsed": true
   },
   "source": [
    "- High K-Fold cross validation scores suggest that this model fits the data well.\n",
    "- This indicates that the average of the test scores of the"
   ]
  },
  {
   "cell_type": "markdown",
   "metadata": {
    "collapsed": true
   },
   "source": [
    ">  >  - <font color='red'>__4.3.4-Feature Importance:__</font>"
   ]
  },
  {
   "cell_type": "code",
   "execution_count": 351,
   "metadata": {},
   "outputs": [
    {
     "data": {
      "image/png": "[encoded data removed]",
      "text/plain": [
       "<matplotlib.figure.Figure at 0x26f18f71588>"
      ]
     },
     "metadata": {},
     "output_type": "display_data"
    }
   ],
   "source": [
    "feature_imp = pd.Series(model.feature_importances_,predictors).sort_values(ascending=False)\n",
    "feature_imp.plot(kind='bar',title='Feature Importance')\n",
    "plt.ylabel('Importance of the predictor')\n",
    "plt.show()"
   ]
  },
  {
   "cell_type": "markdown",
   "metadata": {},
   "source": [
    "- As can be seen from the above Feature importance plot, Payment_type seems to play a major role and an importance feature  to be slected along with Total_amount(log value column) and Fare_amount(log value column)"
   ]
  },
  {
   "cell_type": "markdown",
   "metadata": {
    "collapsed": true
   },
   "source": [
    "\n",
    ">  - <font color='red'>__4.4- Improvements and betterments that can be done to the model :__</font> <br>\n",
    "\n",
    "1. Further feature selection and reducing the number of predictors need to be done (I could not do it due to time constraints (computational time is really high for each run) and also because this model already gives a really high cross validation score).\n",
    "\n",
    "2. Moreover, as was seen earlier, payment type affects the tippercent so much that it might deem all the other variables ineffective. That effect needs to be considered in the model\n",
    "\n",
    "3. Interaction terms and higher power terms  can be analysed.\n",
    "\n",
    "4. Regression diagnostics can be done for checking collinearity, heteroscedasticiy, non linearity , non constant variance, outliers and leverage point.\n",
    "\n",
    "5. The codes can be made more concise wherever recursion or or grouping of similar functions are possible to make the overall  project more robust and repeatable. As I encountered syntax errors for a long time I manually executed certain repetable loops.\n",
    "\n",
    "6. This above Random Forest Regressor model was pretty basic with respect to the control one has over the model. It acted like a toolbox with only certain parameters that can be changed. Yet, it has the advantage of giving Feature_Imprtance scores.\n",
    "\n",
    "7. With more time, the accuracy of more models and with Feature selection considering the Bias-Variance tradeoff and not selecting too less or too much features and the results can be compared to obtain the best model of the lot.\n",
    "\n",
    "8. More data from the internet: NYC taxi related and in general about the geography and transportaion regulations in NYC about the various terms that make up the Total_amount and more constraints like the tariffs for various departure and arrival destinations etc can be put to good use to better clean and impute the data.\n",
    "\n",
    "9. As almost all the important variables are involving the money paid to the taxi driver, they can be combined or a new derived variable created to reduce the overlap, redundancy, reduce the model complexity and overfitting."
   ]
  },
  {
   "cell_type": "markdown",
   "metadata": {
    "collapsed": true
   },
   "source": [
    "# -Question 5 :"
   ]
  },
  {
   "cell_type": "markdown",
   "metadata": {},
   "source": [
    ">  - __<font color='red'>5.1-Derived variable representing the average speed over the course of a trip</font>__"
   ]
  },
  {
   "cell_type": "code",
   "execution_count": 295,
   "metadata": {
    "collapsed": true
   },
   "outputs": [],
   "source": [
    "datacap['avg_speed_mph']=datacap['Trip_distance']/datacap['traveltimeinhrs']"
   ]
  },
  {
   "cell_type": "markdown",
   "metadata": {},
   "source": [
    ">  - <font color='red'>__5.2-Analysis of average trip speeds over the weeks of September 2015:__</font>"
   ]
  },
  {
   "cell_type": "code",
   "execution_count": 296,
   "metadata": {
    "collapsed": true
   },
   "outputs": [],
   "source": [
    "import datetime as dt\n",
    "datacap['week_no'] = datacap.time_pickup.apply(lambda x:x.isocalendar()[1])-dt.datetime(2015,9,1).isocalendar()[1]"
   ]
  },
  {
   "cell_type": "markdown",
   "metadata": {},
   "source": [
    "- week number is extracted form the difference between the data from the excel sheet and the week number corresponding to the 1st of september from the data is availale in the excel sheetof the second element of the isocalender()  which is the week number in a year."
   ]
  },
  {
   "cell_type": "code",
   "execution_count": 358,
   "metadata": {},
   "outputs": [
    {
     "data": {
      "text/plain": [
       "week_no\n",
       "0    36.299618\n",
       "1    34.036481\n",
       "2    35.039831\n",
       "3    34.335323\n",
       "4    35.837056\n",
       "Name: avg_speed_mph, dtype: float64"
      ]
     },
     "execution_count": 358,
     "metadata": {},
     "output_type": "execute_result"
    }
   ],
   "source": [
    "datacap['avg_speed_mph'].groupby(datacap['week_no']).mean()"
   ]
  },
  {
   "cell_type": "code",
   "execution_count": 298,
   "metadata": {},
   "outputs": [
    {
     "data": {
      "text/plain": [
       "<matplotlib.text.Text at 0x26f39522f28>"
      ]
     },
     "execution_count": 298,
     "metadata": {},
     "output_type": "execute_result"
    },
    {
     "data": {
      "image/png": "[encoded data removed]",
      "text/plain": [
       "<matplotlib.figure.Figure at 0x26f0f4a6518>"
      ]
     },
     "metadata": {},
     "output_type": "display_data"
    }
   ],
   "source": [
    "datacap.avg_speed_mph.hist(bins=50,color=\"green\")\n",
    "plt.gca().set_yscale('log')\n",
    "plt.title('Average taxi speed over a trip histogram')\n",
    "plt.xlabel('Average speed in mph')"
   ]
  },
  {
   "cell_type": "markdown",
   "metadata": {},
   "source": [
    "- The following plot shows that there are some outliers that may be weigh in to change the mean of the speeds to a huge margin,\n",
    "- Hence, the outliers are removed and then the mean is calculated.\n",
    "- These outliers might be due to the insufficient analysis of the distance and the time component data that madeup the speed related variable(derived variable) ealier.\n",
    "- Outliers are removed if they fall out of the 2 sigma limits (hence capturing 95% data)"
   ]
  },
  {
   "cell_type": "code",
   "execution_count": 299,
   "metadata": {},
   "outputs": [
    {
     "data": {
      "text/plain": [
       "(0, 50)"
      ]
     },
     "execution_count": 299,
     "metadata": {},
     "output_type": "execute_result"
    },
    {
     "data": {
      "image/png": "[encoded data removed]",
      "text/plain": [
       "<matplotlib.figure.Figure at 0x26f3952abe0>"
      ]
     },
     "metadata": {},
     "output_type": "display_data"
    }
   ],
   "source": [
    "import numpy\n",
    "elements = numpy.array(datacap['avg_speed_mph'])\n",
    "mean = numpy.mean(elements, axis=0)\n",
    "sd = numpy.std(elements, axis=0)\n",
    "plt.xlabel('avg speed in mph')\n",
    "plt.ylabel('Count of Values')\n",
    "datacap[ (datacap['avg_speed_mph']< 50)].avg_speed_mph.hist(bins=50)\n",
    "plt.xlim(0,50)"
   ]
  },
  {
   "cell_type": "code",
   "execution_count": 300,
   "metadata": {},
   "outputs": [
    {
     "data": {
      "text/plain": [
       "12.982572029447514"
      ]
     },
     "execution_count": 300,
     "metadata": {},
     "output_type": "execute_result"
    }
   ],
   "source": [
    "l=[]\n",
    "l.append(datacap[(datacap['avg_speed_mph']<50 )].avg_speed_mph)\n",
    "np.mean(l) #list needs np as it is a 1 D array"
   ]
  },
  {
   "cell_type": "code",
   "execution_count": 301,
   "metadata": {
    "collapsed": true
   },
   "outputs": [],
   "source": [
    "datacap['tempxyz']=0 "
   ]
  },
  {
   "cell_type": "markdown",
   "metadata": {},
   "source": [
    "- 'tempxyz is the column that has the same values as the 'avg_speed_mph' variable except for outliers which will be 0 so that they do not affect the mean calculation."
   ]
  },
  {
   "cell_type": "code",
   "execution_count": 302,
   "metadata": {
    "collapsed": true
   },
   "outputs": [],
   "source": [
    "travel_hrs = datacap[ (datacap['avg_speed_mph']< 50 )].index\n",
    "\n",
    "datacap.loc[travel_hrs,'tempxyz']=datacap.loc[travel_hrs,'avg_speed_mph']"
   ]
  },
  {
   "cell_type": "markdown",
   "metadata": {},
   "source": [
    "- Speed limits are around 25 to 30 mph. But 50mph is kept as the upper limit to not truncate data unnecessarily"
   ]
  },
  {
   "cell_type": "code",
   "execution_count": 303,
   "metadata": {},
   "outputs": [
    {
     "data": {
      "text/html": [
       "<div>\n",
       "<style>\n",
       "    .dataframe thead tr:only-child th {\n",
       "        text-align: right;\n",
       "    }\n",
       "\n",
       "    .dataframe thead th {\n",
       "        text-align: left;\n",
       "    }\n",
       "\n",
       "    .dataframe tbody tr th {\n",
       "        vertical-align: top;\n",
       "    }\n",
       "</style>\n",
       "<table border=\"1\" class=\"dataframe\">\n",
       "  <thead>\n",
       "    <tr style=\"text-align: right;\">\n",
       "      <th></th>\n",
       "      <th>Pickup_longitude</th>\n",
       "      <th>Pickup_latitude</th>\n",
       "      <th>Dropoff_longitude</th>\n",
       "      <th>Dropoff_latitude</th>\n",
       "      <th>Passenger_count</th>\n",
       "      <th>Trip_distance</th>\n",
       "      <th>Fare_amount</th>\n",
       "      <th>Extra</th>\n",
       "      <th>MTA_tax</th>\n",
       "      <th>Tip_amount</th>\n",
       "      <th>...</th>\n",
       "      <th>dropoff-hr</th>\n",
       "      <th>traveltime</th>\n",
       "      <th>traveltimeinhrs</th>\n",
       "      <th>tippercent</th>\n",
       "      <th>log_Fare</th>\n",
       "      <th>log_Total_amount</th>\n",
       "      <th>day_no</th>\n",
       "      <th>avg_speed_mph</th>\n",
       "      <th>week_no</th>\n",
       "      <th>tempxyz</th>\n",
       "    </tr>\n",
       "  </thead>\n",
       "  <tbody>\n",
       "    <tr>\n",
       "      <th>count</th>\n",
       "      <td>1.494926e+06</td>\n",
       "      <td>1.494926e+06</td>\n",
       "      <td>1.494926e+06</td>\n",
       "      <td>1.494926e+06</td>\n",
       "      <td>1.494926e+06</td>\n",
       "      <td>1.494926e+06</td>\n",
       "      <td>1.494926e+06</td>\n",
       "      <td>1.494926e+06</td>\n",
       "      <td>1.494926e+06</td>\n",
       "      <td>1.494926e+06</td>\n",
       "      <td>...</td>\n",
       "      <td>1.494926e+06</td>\n",
       "      <td>1.494926e+06</td>\n",
       "      <td>1.494926e+06</td>\n",
       "      <td>1.494926e+06</td>\n",
       "      <td>1.494926e+06</td>\n",
       "      <td>1.494926e+06</td>\n",
       "      <td>1.494926e+06</td>\n",
       "      <td>1.494926e+06</td>\n",
       "      <td>1.494926e+06</td>\n",
       "      <td>1.494926e+06</td>\n",
       "    </tr>\n",
       "    <tr>\n",
       "      <th>mean</th>\n",
       "      <td>-7.383072e+01</td>\n",
       "      <td>4.069117e+01</td>\n",
       "      <td>-7.383724e+01</td>\n",
       "      <td>4.069284e+01</td>\n",
       "      <td>1.370892e+00</td>\n",
       "      <td>3.009465e+00</td>\n",
       "      <td>1.261867e+01</td>\n",
       "      <td>3.512800e-01</td>\n",
       "      <td>4.881038e-01</td>\n",
       "      <td>1.235904e+00</td>\n",
       "      <td>...</td>\n",
       "      <td>1.347794e+01</td>\n",
       "      <td>2.026263e+01</td>\n",
       "      <td>3.379561e-01</td>\n",
       "      <td>6.630361e+00</td>\n",
       "      <td>2.437155e+00</td>\n",
       "      <td>2.616736e+00</td>\n",
       "      <td>2.175485e+00</td>\n",
       "      <td>3.495843e+01</td>\n",
       "      <td>1.759515e+00</td>\n",
       "      <td>1.281094e+01</td>\n",
       "    </tr>\n",
       "    <tr>\n",
       "      <th>std</th>\n",
       "      <td>2.776081e+00</td>\n",
       "      <td>1.530894e+00</td>\n",
       "      <td>2.677912e+00</td>\n",
       "      <td>1.476700e+00</td>\n",
       "      <td>1.039180e+00</td>\n",
       "      <td>3.056558e+00</td>\n",
       "      <td>1.001491e+01</td>\n",
       "      <td>3.663096e-01</td>\n",
       "      <td>7.620108e-02</td>\n",
       "      <td>2.431386e+00</td>\n",
       "      <td>...</td>\n",
       "      <td>6.892356e+00</td>\n",
       "      <td>9.690527e+01</td>\n",
       "      <td>1.615062e+00</td>\n",
       "      <td>8.832509e+00</td>\n",
       "      <td>5.616652e-01</td>\n",
       "      <td>5.390890e-01</td>\n",
       "      <td>1.966505e+00</td>\n",
       "      <td>3.632977e+02</td>\n",
       "      <td>1.251876e+00</td>\n",
       "      <td>5.902603e+00</td>\n",
       "    </tr>\n",
       "    <tr>\n",
       "      <th>min</th>\n",
       "      <td>-8.332000e+01</td>\n",
       "      <td>0.000000e+00</td>\n",
       "      <td>-8.343000e+01</td>\n",
       "      <td>0.000000e+00</td>\n",
       "      <td>1.000000e+00</td>\n",
       "      <td>1.000000e-02</td>\n",
       "      <td>2.500000e+00</td>\n",
       "      <td>-1.000000e+00</td>\n",
       "      <td>0.000000e+00</td>\n",
       "      <td>0.000000e+00</td>\n",
       "      <td>...</td>\n",
       "      <td>0.000000e+00</td>\n",
       "      <td>0.000000e+00</td>\n",
       "      <td>2.777778e-04</td>\n",
       "      <td>0.000000e+00</td>\n",
       "      <td>1.252763e+00</td>\n",
       "      <td>1.252763e+00</td>\n",
       "      <td>-1.000000e+00</td>\n",
       "      <td>4.170866e-04</td>\n",
       "      <td>0.000000e+00</td>\n",
       "      <td>0.000000e+00</td>\n",
       "    </tr>\n",
       "    <tr>\n",
       "      <th>25%</th>\n",
       "      <td>-7.396000e+01</td>\n",
       "      <td>4.070000e+01</td>\n",
       "      <td>-7.397000e+01</td>\n",
       "      <td>4.070000e+01</td>\n",
       "      <td>1.000000e+00</td>\n",
       "      <td>1.120000e+00</td>\n",
       "      <td>6.500000e+00</td>\n",
       "      <td>0.000000e+00</td>\n",
       "      <td>5.000000e-01</td>\n",
       "      <td>0.000000e+00</td>\n",
       "      <td>...</td>\n",
       "      <td>9.000000e+00</td>\n",
       "      <td>6.183333e+00</td>\n",
       "      <td>1.033333e-01</td>\n",
       "      <td>0.000000e+00</td>\n",
       "      <td>2.014903e+00</td>\n",
       "      <td>2.218116e+00</td>\n",
       "      <td>0.000000e+00</td>\n",
       "      <td>9.442623e+00</td>\n",
       "      <td>1.000000e+00</td>\n",
       "      <td>9.300000e+00</td>\n",
       "    </tr>\n",
       "    <tr>\n",
       "      <th>50%</th>\n",
       "      <td>-7.395000e+01</td>\n",
       "      <td>4.075000e+01</td>\n",
       "      <td>-7.395000e+01</td>\n",
       "      <td>4.075000e+01</td>\n",
       "      <td>1.000000e+00</td>\n",
       "      <td>2.030000e+00</td>\n",
       "      <td>9.500000e+00</td>\n",
       "      <td>5.000000e-01</td>\n",
       "      <td>5.000000e-01</td>\n",
       "      <td>0.000000e+00</td>\n",
       "      <td>...</td>\n",
       "      <td>1.500000e+01</td>\n",
       "      <td>1.043333e+01</td>\n",
       "      <td>1.741667e-01</td>\n",
       "      <td>0.000000e+00</td>\n",
       "      <td>2.351375e+00</td>\n",
       "      <td>2.546315e+00</td>\n",
       "      <td>2.000000e+00</td>\n",
       "      <td>1.188785e+01</td>\n",
       "      <td>2.000000e+00</td>\n",
       "      <td>1.175510e+01</td>\n",
       "    </tr>\n",
       "    <tr>\n",
       "      <th>75%</th>\n",
       "      <td>-7.392000e+01</td>\n",
       "      <td>4.080000e+01</td>\n",
       "      <td>-7.391000e+01</td>\n",
       "      <td>4.079000e+01</td>\n",
       "      <td>1.000000e+00</td>\n",
       "      <td>3.740000e+00</td>\n",
       "      <td>1.550000e+01</td>\n",
       "      <td>5.000000e-01</td>\n",
       "      <td>5.000000e-01</td>\n",
       "      <td>2.000000e+00</td>\n",
       "      <td>...</td>\n",
       "      <td>1.900000e+01</td>\n",
       "      <td>1.726667e+01</td>\n",
       "      <td>2.883333e-01</td>\n",
       "      <td>1.666667e+01</td>\n",
       "      <td>2.803360e+00</td>\n",
       "      <td>2.960105e+00</td>\n",
       "      <td>4.000000e+00</td>\n",
       "      <td>1.530314e+01</td>\n",
       "      <td>3.000000e+00</td>\n",
       "      <td>1.503686e+01</td>\n",
       "    </tr>\n",
       "    <tr>\n",
       "      <th>max</th>\n",
       "      <td>0.000000e+00</td>\n",
       "      <td>4.318000e+01</td>\n",
       "      <td>0.000000e+00</td>\n",
       "      <td>4.280000e+01</td>\n",
       "      <td>9.000000e+00</td>\n",
       "      <td>6.031000e+02</td>\n",
       "      <td>5.805000e+02</td>\n",
       "      <td>1.200000e+01</td>\n",
       "      <td>5.000000e-01</td>\n",
       "      <td>3.000000e+02</td>\n",
       "      <td>...</td>\n",
       "      <td>2.300000e+01</td>\n",
       "      <td>1.439900e+03</td>\n",
       "      <td>2.399833e+01</td>\n",
       "      <td>9.891197e+01</td>\n",
       "      <td>6.365611e+00</td>\n",
       "      <td>6.366986e+00</td>\n",
       "      <td>5.000000e+00</td>\n",
       "      <td>2.026800e+05</td>\n",
       "      <td>4.000000e+00</td>\n",
       "      <td>5.000000e+01</td>\n",
       "    </tr>\n",
       "  </tbody>\n",
       "</table>\n",
       "<p>8 rows × 26 columns</p>\n",
       "</div>"
      ],
      "text/plain": [
       "       Pickup_longitude  Pickup_latitude  Dropoff_longitude  Dropoff_latitude  \\\n",
       "count      1.494926e+06     1.494926e+06       1.494926e+06      1.494926e+06   \n",
       "mean      -7.383072e+01     4.069117e+01      -7.383724e+01      4.069284e+01   \n",
       "std        2.776081e+00     1.530894e+00       2.677912e+00      1.476700e+00   \n",
       "min       -8.332000e+01     0.000000e+00      -8.343000e+01      0.000000e+00   \n",
       "25%       -7.396000e+01     4.070000e+01      -7.397000e+01      4.070000e+01   \n",
       "50%       -7.395000e+01     4.075000e+01      -7.395000e+01      4.075000e+01   \n",
       "75%       -7.392000e+01     4.080000e+01      -7.391000e+01      4.079000e+01   \n",
       "max        0.000000e+00     4.318000e+01       0.000000e+00      4.280000e+01   \n",
       "\n",
       "       Passenger_count  Trip_distance   Fare_amount         Extra  \\\n",
       "count     1.494926e+06   1.494926e+06  1.494926e+06  1.494926e+06   \n",
       "mean      1.370892e+00   3.009465e+00  1.261867e+01  3.512800e-01   \n",
       "std       1.039180e+00   3.056558e+00  1.001491e+01  3.663096e-01   \n",
       "min       1.000000e+00   1.000000e-02  2.500000e+00 -1.000000e+00   \n",
       "25%       1.000000e+00   1.120000e+00  6.500000e+00  0.000000e+00   \n",
       "50%       1.000000e+00   2.030000e+00  9.500000e+00  5.000000e-01   \n",
       "75%       1.000000e+00   3.740000e+00  1.550000e+01  5.000000e-01   \n",
       "max       9.000000e+00   6.031000e+02  5.805000e+02  1.200000e+01   \n",
       "\n",
       "            MTA_tax    Tip_amount      ...         dropoff-hr    traveltime  \\\n",
       "count  1.494926e+06  1.494926e+06      ...       1.494926e+06  1.494926e+06   \n",
       "mean   4.881038e-01  1.235904e+00      ...       1.347794e+01  2.026263e+01   \n",
       "std    7.620108e-02  2.431386e+00      ...       6.892356e+00  9.690527e+01   \n",
       "min    0.000000e+00  0.000000e+00      ...       0.000000e+00  0.000000e+00   \n",
       "25%    5.000000e-01  0.000000e+00      ...       9.000000e+00  6.183333e+00   \n",
       "50%    5.000000e-01  0.000000e+00      ...       1.500000e+01  1.043333e+01   \n",
       "75%    5.000000e-01  2.000000e+00      ...       1.900000e+01  1.726667e+01   \n",
       "max    5.000000e-01  3.000000e+02      ...       2.300000e+01  1.439900e+03   \n",
       "\n",
       "       traveltimeinhrs    tippercent      log_Fare  log_Total_amount  \\\n",
       "count     1.494926e+06  1.494926e+06  1.494926e+06      1.494926e+06   \n",
       "mean      3.379561e-01  6.630361e+00  2.437155e+00      2.616736e+00   \n",
       "std       1.615062e+00  8.832509e+00  5.616652e-01      5.390890e-01   \n",
       "min       2.777778e-04  0.000000e+00  1.252763e+00      1.252763e+00   \n",
       "25%       1.033333e-01  0.000000e+00  2.014903e+00      2.218116e+00   \n",
       "50%       1.741667e-01  0.000000e+00  2.351375e+00      2.546315e+00   \n",
       "75%       2.883333e-01  1.666667e+01  2.803360e+00      2.960105e+00   \n",
       "max       2.399833e+01  9.891197e+01  6.365611e+00      6.366986e+00   \n",
       "\n",
       "             day_no  avg_speed_mph       week_no       tempxyz  \n",
       "count  1.494926e+06   1.494926e+06  1.494926e+06  1.494926e+06  \n",
       "mean   2.175485e+00   3.495843e+01  1.759515e+00  1.281094e+01  \n",
       "std    1.966505e+00   3.632977e+02  1.251876e+00  5.902603e+00  \n",
       "min   -1.000000e+00   4.170866e-04  0.000000e+00  0.000000e+00  \n",
       "25%    0.000000e+00   9.442623e+00  1.000000e+00  9.300000e+00  \n",
       "50%    2.000000e+00   1.188785e+01  2.000000e+00  1.175510e+01  \n",
       "75%    4.000000e+00   1.530314e+01  3.000000e+00  1.503686e+01  \n",
       "max    5.000000e+00   2.026800e+05  4.000000e+00  5.000000e+01  \n",
       "\n",
       "[8 rows x 26 columns]"
      ]
     },
     "execution_count": 303,
     "metadata": {},
     "output_type": "execute_result"
    }
   ],
   "source": [
    "datacap.describe()"
   ]
  },
  {
   "cell_type": "code",
   "execution_count": 304,
   "metadata": {},
   "outputs": [
    {
     "data": {
      "text/plain": [
       "week_no\n",
       "0    13.245198\n",
       "1    12.589945\n",
       "2    12.586161\n",
       "3    13.062679\n",
       "4    12.402602\n",
       "Name: tempxyz, dtype: float64"
      ]
     },
     "execution_count": 304,
     "metadata": {},
     "output_type": "execute_result"
    }
   ],
   "source": [
    "datacap['tempxyz'].groupby(datacap['week_no']).mean()\n",
    "#'week_no' 0 corresponds to the 1 st week of September"
   ]
  },
  {
   "cell_type": "code",
   "execution_count": 305,
   "metadata": {
    "collapsed": true
   },
   "outputs": [],
   "source": [
    "groups=pd.unique(datacap.week_no.values)\n",
    "Fdata={grp:datacap['tempxyz'][datacap.week_no==grp] for grp in groups}\n",
    "from scipy import stats\n",
    "\n",
    "F, p = stats.f_oneway(Fdata[0], Fdata[1], Fdata[2],Fdata[3],Fdata[4])"
   ]
  },
  {
   "cell_type": "code",
   "execution_count": 306,
   "metadata": {},
   "outputs": [
    {
     "data": {
      "text/plain": [
       "(978.15365529961355, 0.0)"
      ]
     },
     "execution_count": 306,
     "metadata": {},
     "output_type": "execute_result"
    }
   ],
   "source": [
    "F ,p"
   ]
  },
  {
   "cell_type": "markdown",
   "metadata": {
    "collapsed": true
   },
   "source": [
    " __F-Statistic = 978.15365529961355<br>p-value=0.0__<br>\n",
    "- As the p value for the F-test is almost 0, it can be concluded that with 99% confidence that at least one of the 5 weeks have a significantly different average speed over a week from another.\n",
    "- To analyse further and find out which weeks differ in the average speed, post hoc test is performed.\n",
    "- Here the chosen post hoc test is the Tukey-HSD test, which compares 2 groups at a time.\n",
    "- This yields more accurate results than performing 5C2=10 separate t-tests as in that case at 5% significance level, the chance of a false positive or predicting that the mean speeds are different given that they are not increases to way more than 5%"
   ]
  },
  {
   "cell_type": "markdown",
   "metadata": {},
   "source": [
    "- __<font color='green'>Post Hoc Analysis after F-test:</font>__"
   ]
  },
  {
   "cell_type": "code",
   "execution_count": 308,
   "metadata": {},
   "outputs": [
    {
     "name": "stdout",
     "output_type": "stream",
     "text": [
      "Multiple Comparison of Means - Tukey HSD,FWER=0.05\n",
      "=============================================\n",
      "group1 group2 meandiff  lower   upper  reject\n",
      "---------------------------------------------\n",
      "  0      1    -0.6553  -0.6949 -0.6156  True \n",
      "  0      2     -0.659  -0.6988 -0.6193  True \n",
      "  0      3    -0.1825  -0.2228 -0.1422  True \n",
      "  0      4    -0.8426  -0.8957 -0.7895  True \n",
      "  1      2    -0.0038  -0.0416  0.034  False \n",
      "  1      3     0.4727   0.4344  0.5111  True \n",
      "  1      4    -0.1873   -0.239 -0.1357  True \n",
      "  2      3     0.4765   0.438   0.515   True \n",
      "  2      4    -0.1836  -0.2353 -0.1318  True \n",
      "  3      4    -0.6601  -0.7122 -0.6079  True \n",
      "---------------------------------------------\n",
      "[0 1 2 3 4]\n"
     ]
    }
   ],
   "source": [
    "from statsmodels.stats.multicomp import pairwise_tukeyhsd\n",
    "from statsmodels.stats.multicomp import MultiComparison\n",
    "\n",
    "tukey = pairwise_tukeyhsd(endog=datacap.tempxyz,     # Data\n",
    "                          groups=datacap.week_no,   # Groups\n",
    "                         alpha=0.05)  \n",
    "\n",
    "mc = MultiComparison(datacap.tempxyz, datacap.week_no)\n",
    "result = mc.tukeyhsd()\n",
    " \n",
    "print(result)\n",
    "print(mc.groupsunique)"
   ]
  },
  {
   "cell_type": "markdown",
   "metadata": {
    "collapsed": true
   },
   "source": [
    "- The above table suggests that the average speed differs between weeks 1 and 2 only which is clearly illustrated \n",
    "in the plot below.\n",
    "- Only for weeks 1 and 2 , the confidence intervals coincide."
   ]
  },
  {
   "cell_type": "code",
   "execution_count": 310,
   "metadata": {},
   "outputs": [
    {
     "data": {
      "image/png": "[encoded data removed]",
      "text/plain": [
       "<matplotlib.figure.Figure at 0x26f0d50fe10>"
      ]
     },
     "execution_count": 310,
     "metadata": {},
     "output_type": "execute_result"
    },
    {
     "data": {
      "image/png": "[encoded data removed]",
      "text/plain": [
       "<matplotlib.figure.Figure at 0x26f0d50fe10>"
      ]
     },
     "metadata": {},
     "output_type": "display_data"
    }
   ],
   "source": [
    "tukey.plot_simultaneous() "
   ]
  },
  {
   "cell_type": "code",
   "execution_count": 311,
   "metadata": {
    "collapsed": true
   },
   "outputs": [],
   "source": [
    "datacap['pickup_hr']=datacap['pickup-hr'] "
   ]
  },
  {
   "cell_type": "markdown",
   "metadata": {},
   "source": [
    "- This conversion is done as the 'pickup-hr' variable is detected as 'pickup' in the below code and hence shows cannot find variable."
   ]
  },
  {
   "cell_type": "markdown",
   "metadata": {},
   "source": [
    ">  __<font color='red'>5.3- Analysis of average trip speeds over the days of September 2015:</font>__"
   ]
  },
  {
   "cell_type": "code",
   "execution_count": 312,
   "metadata": {
    "collapsed": true
   },
   "outputs": [],
   "source": [
    "groupsday=pd.unique(datacap.pickup_hr.values)\n",
    "Fdata2={grp:datacap['tempxyz'][datacap.pickup_hr==grp] for grp in groupsday}\n",
    "from scipy import stats\n",
    "\n",
    "F, p = stats.f_oneway(Fdata2[0],Fdata2[1],Fdata2[2],Fdata2[3],Fdata2[4],Fdata2[5],\n",
    "                     Fdata2[6],Fdata2[7],Fdata2[8],Fdata2[9],Fdata2[10],Fdata2[11],\n",
    "                     Fdata2[12],Fdata2[13],Fdata2[14],Fdata2[15],Fdata2[16],Fdata2[17],\n",
    "                     Fdata2[18],Fdata2[19],Fdata2[20],Fdata2[21],Fdata2[22],Fdata2[23]) "
   ]
  },
  {
   "cell_type": "markdown",
   "metadata": {},
   "source": [
    "- I tried  other methods to recursively or append all Fdata2 and attach to 'f_oneway' function, but due to error in the syntax,\n",
    "- I added the value 'Fdata2' manually."
   ]
  },
  {
   "cell_type": "code",
   "execution_count": 313,
   "metadata": {},
   "outputs": [
    {
     "data": {
      "text/plain": [
       "(4601.2752791155472, 0.0)"
      ]
     },
     "execution_count": 313,
     "metadata": {},
     "output_type": "execute_result"
    }
   ],
   "source": [
    "F,p"
   ]
  },
  {
   "cell_type": "markdown",
   "metadata": {},
   "source": [
    "__F-Statistic = 4601.2752791155472<br>p-value=0.0__<br>"
   ]
  },
  {
   "cell_type": "markdown",
   "metadata": {
    "collapsed": true
   },
   "source": [
    "- As the p value for the F-test is almost 0, it can be concluded that with 99% confidence that at least one of the 5 weeks have a significantly different average speed over a week from another.\n",
    "- To analyse further and find out which weeks differ in the average speed, post hoc test is performed.\n",
    "- Here the chosen post hoc test is the Tukey-HSD test, which compares 2 groups at a time."
   ]
  },
  {
   "cell_type": "markdown",
   "metadata": {},
   "source": [
    "- __<font color='green'>Post Hoc Analysis after F-test:</font>__"
   ]
  },
  {
   "cell_type": "code",
   "execution_count": 314,
   "metadata": {
    "scrolled": true
   },
   "outputs": [
    {
     "name": "stdout",
     "output_type": "stream",
     "text": [
      "Multiple Comparison of Means - Tukey HSD,FWER=0.05\n",
      "=============================================\n",
      "group1 group2 meandiff  lower   upper  reject\n",
      "---------------------------------------------\n",
      "  0      1     0.2266   0.1065  0.3466  True \n",
      "  0      2     0.4363   0.3065  0.5662  True \n",
      "  0      3     0.7932   0.6518  0.9347  True \n",
      "  0      4     1.5584   1.4078  1.7091  True \n",
      "  0      5     3.2105   3.0311  3.3899  True \n",
      "  0      6     2.2956   2.1362  2.4549  True \n",
      "  0      7    -1.1372  -1.2663 -1.0081  True \n",
      "  0      8    -2.3017  -2.4188 -2.1846  True \n",
      "  0      9     -2.04   -2.1555 -1.9244  True \n",
      "  0      10   -2.0359  -2.1539  -1.918  True \n",
      "  0      11   -2.3316  -2.4499 -2.2133  True \n",
      "  0      12   -2.4069  -2.5246 -2.2892  True \n",
      "  0      13   -2.5095  -2.6274 -2.3916  True \n",
      "  0      14   -2.9782  -3.0916 -2.8648  True \n",
      "  0      15   -3.3524  -3.4631 -3.2417  True \n",
      "  0      16   -3.5958  -3.7047  -3.487  True \n",
      "  0      17   -3.5954  -3.7017 -3.4891  True \n",
      "  0      18   -3.0243  -3.1284 -2.9202  True \n",
      "  0      19   -2.4825  -2.5869 -2.3782  True \n",
      "  0      20   -1.8002  -1.9058 -1.6946  True \n",
      "  0      21    -0.959  -1.0657 -0.8523  True \n",
      "  0      22   -0.5061  -0.6133 -0.3989  True \n",
      "  0      23    -0.228  -0.3366 -0.1193  True \n",
      "  1      2     0.2098   0.0739  0.3456  True \n",
      "  1      3     0.5667   0.4197  0.7137  True \n",
      "  1      4     1.3319   1.176   1.4878  True \n",
      "  1      5     2.984    2.8002  3.1678  True \n",
      "  1      6     2.069    1.9047  2.2333  True \n",
      "  1      7    -1.3637  -1.4989 -1.2286  True \n",
      "  1      8    -2.5282   -2.652 -2.4045  True \n",
      "  1      9    -2.2665  -2.3888 -2.1443  True \n",
      "  1      10   -2.2625   -2.387  -2.138  True \n",
      "  1      11   -2.5582   -2.683 -2.4333  True \n",
      "  1      12   -2.6334  -2.7577 -2.5091  True \n",
      "  1      13    -2.736  -2.8605 -2.6115  True \n",
      "  1      14   -3.2047   -3.325 -3.0845  True \n",
      "  1      15    -3.579  -3.6966 -3.4613  True \n",
      "  1      16   -3.8224  -3.9383 -3.7064  True \n",
      "  1      17    -3.822  -3.9356 -3.7084  True \n",
      "  1      18   -3.2508  -3.3623 -3.1393  True \n",
      "  1      19   -2.7091  -2.8208 -2.5974  True \n",
      "  1      20   -2.0268  -2.1397 -1.9139  True \n",
      "  1      21   -1.1856  -1.2995 -1.0716  True \n",
      "  1      22   -0.7326   -0.847 -0.6182  True \n",
      "  1      23   -0.4545  -0.5703 -0.3388  True \n",
      "  2      3     0.3569   0.2018  0.512   True \n",
      "  2      4     1.1221   0.9586  1.2856  True \n",
      "  2      5     2.7742   2.5839  2.9645  True \n",
      "  2      6     1.8592   1.6876  2.0308  True \n",
      "  2      7    -1.5735  -1.7174 -1.4296  True \n",
      "  2      8     -2.738  -2.8713 -2.6048  True \n",
      "  2      9    -2.4763  -2.6082 -2.3444  True \n",
      "  2      10   -2.4723  -2.6062 -2.3383  True \n",
      "  2      11   -2.7679  -2.9022 -2.6337  True \n",
      "  2      12   -2.8432   -2.977 -2.7094  True \n",
      "  2      13   -2.9458  -3.0797 -2.8119  True \n",
      "  2      14   -3.4145  -3.5446 -3.2845  True \n",
      "  2      15   -3.7887  -3.9164 -3.6611  True \n",
      "  2      16   -4.0321  -4.1582 -3.9061  True \n",
      "  2      17   -4.0318  -4.1556 -3.9079  True \n",
      "  2      18   -3.4606  -3.5826 -3.3386  True \n",
      "  2      19   -2.9189  -3.0411 -2.7967  True \n",
      "  2      20   -2.2366  -2.3598 -2.1133  True \n",
      "  2      21   -1.3954  -1.5195 -1.2712  True \n",
      "  2      22   -0.9424   -1.067 -0.8178  True \n",
      "  2      23   -0.6643  -0.7902 -0.5384  True \n",
      "  3      4     0.7652   0.5923  0.9381  True \n",
      "  3      5     2.4173   2.2188  2.6157  True \n",
      "  3      6     1.5023   1.3218  1.6829  True \n",
      "  3      7    -1.9304  -2.0849  -1.776  True \n",
      "  3      8    -3.0949  -3.2395 -2.9503  True \n",
      "  3      9    -2.8332  -2.9766 -2.6899  True \n",
      "  3      10   -2.8292  -2.9744 -2.6839  True \n",
      "  3      11   -3.1249  -3.2704 -2.9793  True \n",
      "  3      12   -3.2001  -3.3452  -3.055  True \n",
      "  3      13   -3.3027  -3.4479 -3.1575  True \n",
      "  3      14   -3.7714  -3.9131 -3.6298  True \n",
      "  3      15   -4.1456  -4.2851 -4.0062  True \n",
      "  3      16   -4.3891  -4.5271  -4.251  True \n",
      "  3      17   -4.3887  -4.5247 -4.2527  True \n",
      "  3      18   -3.8175  -3.9518 -3.6832  True \n",
      "  3      19   -3.2758  -3.4103 -3.1413  True \n",
      "  3      20   -2.5935  -2.7289  -2.458  True \n",
      "  3      21   -1.7523  -1.8886 -1.6159  True \n",
      "  3      22   -1.2993   -1.436 -1.1626  True \n",
      "  3      23   -1.0212  -1.1591 -0.8834  True \n",
      "  4      5     1.6521   1.447   1.8572  True \n",
      "  4      6     0.7371   0.5493  0.925   True \n",
      "  4      7    -2.6956  -2.8585 -2.5327  True \n",
      "  4      8    -3.8601  -4.0137 -3.7065  True \n",
      "  4      9    -3.5984  -3.7508  -3.446  True \n",
      "  4      10   -3.5944  -3.7486 -3.4402  True \n",
      "  4      11    -3.89   -4.0445 -3.7355  True \n",
      "  4      12   -3.9653  -4.1194 -3.8112  True \n",
      "  4      13   -4.0679  -4.2221 -3.9137  True \n",
      "  4      14   -4.5366  -4.6874 -4.3858  True \n",
      "  4      15   -4.9108  -5.0596 -4.7621  True \n",
      "  4      16   -5.1542  -5.3016 -5.0068  True \n",
      "  4      17   -5.1539  -5.2994 -5.0083  True \n",
      "  4      18   -4.5827  -4.7266 -4.4388  True \n",
      "  4      19    -4.041  -4.1851 -3.8968  True \n",
      "  4      20   -3.3587  -3.5037 -3.2136  True \n",
      "  4      21   -2.5174  -2.6633 -2.3716  True \n",
      "  4      22   -2.0645  -2.2107 -1.9183  True \n",
      "  4      23   -1.7864  -1.9337 -1.6391  True \n",
      "  5      6     -0.915  -1.1266 -0.7034  True \n",
      "  5      7    -4.3477  -4.5375 -4.1579  True \n",
      "  5      8    -5.5122  -5.6941 -5.3303  True \n",
      "  5      9    -5.2505  -5.4314 -5.0696  True \n",
      "  5      10   -5.2465  -5.4289 -5.0641  True \n",
      "  5      11   -5.5421  -5.7248 -5.3595  True \n",
      "  5      12   -5.6174  -5.7997 -5.4351  True \n",
      "  5      13    -5.72   -5.9024 -5.5376  True \n",
      "  5      14   -6.1887  -6.3683 -6.0092  True \n",
      "  5      15   -6.5629  -6.7407 -6.3851  True \n",
      "  5      16   -6.8063   -6.983 -6.6297  True \n",
      "  5      17    -6.806  -6.9811 -6.6308  True \n",
      "  5      18   -6.2348  -6.4086  -6.061  True \n",
      "  5      19   -5.6931   -5.867 -5.5191  True \n",
      "  5      20   -5.0108  -5.1855 -4.8361  True \n",
      "  5      21   -4.1696  -4.3449 -3.9942  True \n",
      "  5      22   -3.7166  -3.8923 -3.5409  True \n",
      "  5      23   -3.4385  -3.6151 -3.2619  True \n",
      "  6      7    -3.4327  -3.6038 -3.2617  True \n",
      "  6      8    -4.5972  -4.7594 -4.4351  True \n",
      "  6      9    -4.3355  -4.4966 -4.1745  True \n",
      "  6      10   -4.3315  -4.4943 -4.1688  True \n",
      "  6      11   -4.6272  -4.7902 -4.4642  True \n",
      "  6      12   -4.7024   -4.865 -4.5399  True \n",
      "  6      13    -4.805  -4.9678 -4.6423  True \n",
      "  6      14   -5.2738  -5.4333 -5.1142  True \n",
      "  6      15    -5.648  -5.8055 -5.4904  True \n",
      "  6      16   -5.8914  -6.0477 -5.7351  True \n",
      "  6      17    -5.891  -6.0455 -5.7365  True \n",
      "  6      18   -5.3198  -5.4729 -5.1668  True \n",
      "  6      19   -4.7781  -4.9313 -4.6249  True \n",
      "  6      20   -4.0958  -4.2499 -3.9417  True \n",
      "  6      21   -3.2546  -3.4094 -3.0998  True \n",
      "  6      22   -2.8016  -2.9568 -2.6465  True \n",
      "  6      23   -2.5235  -2.6797 -2.3674  True \n",
      "  7      8    -1.1645   -1.297  -1.032  True \n",
      "  7      9    -0.9028  -1.0339 -0.7717  True \n",
      "  7      10   -0.8988   -1.032 -0.7656  True \n",
      "  7      11   -1.1944   -1.328 -1.0609  True \n",
      "  7      12   -1.2697  -1.4027 -1.1367  True \n",
      "  7      13   -1.3723  -1.5055 -1.2391  True \n",
      "  7      14    -1.841  -1.9703 -1.7117  True \n",
      "  7      15   -2.2152  -2.3421 -2.0884  True \n",
      "  7      16   -2.4586  -2.5839 -2.3334  True \n",
      "  7      17   -2.4583  -2.5813 -2.3352  True \n",
      "  7      18   -1.8871  -2.0083 -1.7659  True \n",
      "  7      19   -1.3454  -1.4667  -1.224  True \n",
      "  7      20    -0.663  -0.7855 -0.5406  True \n",
      "  7      21    0.1782   0.0548  0.3016  True \n",
      "  7      22    0.6311   0.5073  0.755   True \n",
      "  7      23    0.9092   0.7841  1.0343  True \n",
      "  8      9     0.2617   0.1424  0.381   True \n",
      "  8      10    0.2657   0.1441  0.3874  True \n",
      "  8      11   -0.0299  -0.1519  0.0921 False \n",
      "  8      12   -0.1052  -0.2266  0.0162 False \n",
      "  8      13   -0.2078  -0.3294 -0.0862  True \n",
      "  8      14   -0.6765  -0.7938 -0.5592  True \n",
      "  8      15   -1.0507  -1.1653 -0.9361  True \n",
      "  8      16   -1.2941   -1.407 -1.1813  True \n",
      "  8      17   -1.2938  -1.4042 -1.1833  True \n",
      "  8      18   -0.7226  -0.8309 -0.6143  True \n",
      "  8      19   -0.1809  -0.2894 -0.0723  True \n",
      "  8      20    0.5015   0.3917  0.6112  True \n",
      "  8      21    1.3427   1.2319  1.4535  True \n",
      "  8      22    1.7956   1.6843  1.9069  True \n",
      "  8      23    2.0737   1.961   2.1864  True \n",
      "  9      10    0.004   -0.1161  0.1242 False \n",
      "  9      11   -0.2916  -0.4121 -0.1711  True \n",
      "  9      12   -0.3669  -0.4868  -0.247  True \n",
      "  9      13   -0.4695  -0.5896 -0.3494  True \n",
      "  9      14   -0.9382   -1.054 -0.8225  True \n",
      "  9      15   -1.3124  -1.4255 -1.1994  True \n",
      "  9      16   -1.5558  -1.6671 -1.4446  True \n",
      "  9      17   -1.5555  -1.6642 -1.4467  True \n",
      "  9      18   -0.9843  -1.0909 -0.8777  True \n",
      "  9      19   -0.4426  -0.5494 -0.3357  True \n",
      "  9      20    0.2397   0.1317  0.3478  True \n",
      "  9      21    1.081    0.9718  1.1901  True \n",
      "  9      22    1.5339   1.4243  1.6436  True \n",
      "  9      23    1.812    1.7009  1.9231  True \n",
      "  10     11   -0.2957  -0.4184 -0.1729  True \n",
      "  10     12   -0.3709  -0.4931 -0.2487  True \n",
      "  10     13   -0.4735  -0.5959 -0.3511  True \n",
      "  10     14   -0.9422  -1.0603 -0.8241  True \n",
      "  10     15   -1.3164  -1.4319  -1.201  True \n",
      "  10     16   -1.5599  -1.6736 -1.4462  True \n",
      "  10     17   -1.5595  -1.6708 -1.4482  True \n",
      "  10     18   -0.9883  -1.0975 -0.8792  True \n",
      "  10     19   -0.4466   -0.556 -0.3372  True \n",
      "  10     20    0.2357   0.1251  0.3463  True \n",
      "  10     21    1.0769   0.9653  1.1886  True \n",
      "  10     22    1.5299   1.4177  1.642   True \n",
      "  10     23    1.808    1.6945  1.9215  True \n",
      "  11     12   -0.0753  -0.1978  0.0473 False \n",
      "  11     13   -0.1778  -0.3006 -0.0551  True \n",
      "  11     14   -0.6466  -0.7651 -0.5281  True \n",
      "  11     15   -1.0208  -1.1366  -0.905  True \n",
      "  11     16   -1.2642  -1.3783 -1.1501  True \n",
      "  11     17   -1.2638  -1.3755 -1.1522  True \n",
      "  11     18   -0.6927  -0.8022 -0.5831  True \n",
      "  11     19   -0.1509  -0.2607 -0.0411  True \n",
      "  11     20    0.5314   0.4204  0.6424  True \n",
      "  11     21    1.3726   1.2605  1.4846  True \n",
      "  11     22    1.8255   1.713   1.9381  True \n",
      "  11     23    2.1036   1.9897  2.2175  True \n",
      "  12     13   -0.1026  -0.2248  0.0196 False \n",
      "  12     14   -0.5713  -0.6892 -0.4534  True \n",
      "  12     15   -0.9455  -1.0608 -0.8303  True \n",
      "  12     16   -1.1889  -1.3024 -1.0754  True \n",
      "  12     17   -1.1886  -1.2996 -1.0775  True \n",
      "  12     18   -0.6174  -0.7264 -0.5084  True \n",
      "  12     19   -0.0757  -0.1848  0.0335 False \n",
      "  12     20    0.6067   0.4963  0.717   True \n",
      "  12     21    1.4479   1.3364  1.5593  True \n",
      "  12     22    1.9008   1.7889  2.0127  True \n",
      "  12     23    2.1789   2.0656  2.2922  True \n",
      "  13     14   -0.4687  -0.5868 -0.3506  True \n",
      "  13     15   -0.8429  -0.9584 -0.7275  True \n",
      "  13     16   -1.0864  -1.2001 -0.9727  True \n",
      "  13     17    -1.086  -1.1973 -0.9747  True \n",
      "  13     18   -0.5148   -0.624 -0.4057  True \n",
      "  13     19    0.0269  -0.0825  0.1363 False \n",
      "  13     20    0.7092   0.5986  0.8198  True \n",
      "  13     21    1.5504   1.4388  1.6621  True \n",
      "  13     22    2.0034   1.8913  2.1155  True \n",
      "  13     23    2.2815   2.168   2.395   True \n",
      "  14     15   -0.3742  -0.4851 -0.2633  True \n",
      "  14     16   -0.6176  -0.7267 -0.5085  True \n",
      "  14     17   -0.6172  -0.7238 -0.5107  True \n",
      "  14     18   -0.0461  -0.1504  0.0582 False \n",
      "  14     19    0.4957   0.3911  0.6002  True \n",
      "  14     20    1.178    1.0721  1.2838  True \n",
      "  14     21    2.0192   1.9123  2.1261  True \n",
      "  14     22    2.4721   2.3647  2.5795  True \n",
      "  14     23    2.7502   2.6413  2.8591  True \n",
      "  15     16   -0.2434  -0.3496 -0.1372  True \n",
      "  15     17    -0.243  -0.3466 -0.1395  True \n",
      "  15     18    0.3281   0.2268  0.4294  True \n",
      "  15     19    0.8699   0.7683  0.9714  True \n",
      "  15     20    1.5522   1.4493  1.655   True \n",
      "  15     21    2.3934   2.2894  2.4974  True \n",
      "  15     22    2.8463   2.7418  2.9508  True \n",
      "  15     23    3.1244   3.0185  3.2304  True \n",
      "  16     17    0.0004  -0.1013  0.102  False \n",
      "  16     18    0.5715   0.4722  0.6709  True \n",
      "  16     19    1.1133   1.0137  1.2129  True \n",
      "  16     20    1.7956   1.6947  1.8965  True \n",
      "  16     21    2.6368   2.5348  2.7388  True \n",
      "  16     22    3.0897   2.9872  3.1923  True \n",
      "  16     23    3.3678   3.2638  3.4719  True \n",
      "  17     18    0.5712   0.4746  0.6677  True \n",
      "  17     19    1.1129   1.0161  1.2097  True \n",
      "  17     20    1.7952   1.6971  1.8934  True \n",
      "  17     21    2.6364   2.5371  2.7357  True \n",
      "  17     22    3.0894   2.9895  3.1892  True \n",
      "  17     23    3.3675   3.266   3.4689  True \n",
      "  18     19    0.5417   0.4474  0.6361  True \n",
      "  18     20    1.2241   1.1283  1.3198  True \n",
      "  18     21    2.0653   1.9683  2.1622  True \n",
      "  18     22    2.5182   2.4207  2.6157  True \n",
      "  18     23    2.7963   2.6972  2.8954  True \n",
      "  19     20    0.6823   0.5863  0.7783  True \n",
      "  19     21    1.5235   1.4263  1.6207  True \n",
      "  19     22    1.9765   1.8787  2.0742  True \n",
      "  19     23    2.2546   2.1552  2.3539  True \n",
      "  20     21    0.8412   0.7426  0.9398  True \n",
      "  20     22    1.2942   1.195   1.3933  True \n",
      "  20     23    1.5723   1.4716  1.6729  True \n",
      "  21     22    0.4529   0.3527  0.5532  True \n",
      "  21     23    0.731    0.6292  0.8329  True \n",
      "  22     23    0.2781   0.1757  0.3805  True \n",
      "---------------------------------------------\n",
      "[ 0  1  2  3  4  5  6  7  8  9 10 11 12 13 14 15 16 17 18 19 20 21 22 23]\n"
     ]
    },
    {
     "data": {
      "image/png": "[encoded data removed]",
      "text/plain": [
       "<matplotlib.figure.Figure at 0x26f0f4ffd68>"
      ]
     },
     "execution_count": 314,
     "metadata": {},
     "output_type": "execute_result"
    },
    {
     "data": {
      "image/png": "[encoded data removed]",
      "text/plain": [
       "<matplotlib.figure.Figure at 0x26f0f4ffd68>"
      ]
     },
     "metadata": {},
     "output_type": "display_data"
    }
   ],
   "source": [
    "from statsmodels.stats.multicomp import pairwise_tukeyhsd\n",
    "from statsmodels.stats.multicomp import MultiComparison\n",
    "\n",
    "tukey2 = pairwise_tukeyhsd(endog=datacap.tempxyz,     # Data\n",
    "                          groups=datacap.pickup_hr,   # Groups\n",
    "                          alpha=0.05)  \n",
    "#print(\"\",tukey)\n",
    "\n",
    "mc = MultiComparison(datacap.tempxyz, datacap.pickup_hr)\n",
    "result = mc.tukeyhsd()\n",
    " \n",
    "print(result)\n",
    "print(mc.groupsunique)\n",
    "tukey2.plot_simultaneous() "
   ]
  },
  {
   "cell_type": "markdown",
   "metadata": {
    "collapsed": true
   },
   "source": [
    "- As was discussed earlier, approximating the time of the day as the pickup hour is a good approximation.\n",
    "- The above summary table suggests that the mean speeds significantly differs between different hours of the day where the \"reject\" column has False.\n",
    "- There afew cases, where the average speeds of the day are same, like at:\n",
    "- 1,2\n",
    "- 7,21\n",
    "- 8,11\n",
    "- 8,12\n",
    "- 9,10\n",
    "- 9,20\n",
    "- 10,20\n",
    "- 11,12\n",
    "- 11,13\n",
    "- 12,13\n",
    "- 12,19\n",
    "- 13,19\n",
    "- 14,18\n",
    "- 16,17\n",
    "\n",
    "- From all these results, there is not any pattern in general when the speeds in a day remain the same.\n"
   ]
  },
  {
   "cell_type": "code",
   "execution_count": 315,
   "metadata": {},
   "outputs": [
    {
     "data": {
      "text/plain": [
       "<matplotlib.text.Text at 0x26f13d02278>"
      ]
     },
     "execution_count": 315,
     "metadata": {},
     "output_type": "execute_result"
    },
    {
     "data": {
      "image/png": "[encoded data removed]",
      "text/plain": [
       "<matplotlib.figure.Figure at 0x26f02e06198>"
      ]
     },
     "metadata": {},
     "output_type": "display_data"
    }
   ],
   "source": [
    "datacap.boxplot(column='tempxyz',by='pickup-hr')\n",
    "plt.ylim([4,30])\n",
    "plt.xlabel('Hour of the day')\n",
    "plt.title('Boxplot of average speed over the hour of the day')"
   ]
  },
  {
   "cell_type": "markdown",
   "metadata": {
    "collapsed": true
   },
   "source": [
    "- It is clearly visible from the boxplot above that the speeds are high and increases from mid night towards the early morning hours due to lesser traffic progressively (considering the decrease in traffic during that that time period may be due to the nightlife coming to an end towards the early morning, more so in NYC , being anactive night life hub).\n",
    "- The drop in speed from early morning towards the early noon, is due to the traffic of the office and other school and college goers starting their day .\n",
    "- The minima in the evening and a further rise thereafter, suggests that people return back home from their place of work by late evening itself after which the speed increases.\n",
    "- [the office, school and college goers hypothesis is due to the fact that the data is around 23-24 days of weekdays in the 30 day month of September.]"
   ]
  },
  {
   "cell_type": "markdown",
   "metadata": {},
   "source": [
    "## ADDITIONAL SECTION:"
   ]
  },
  {
   "cell_type": "markdown",
   "metadata": {},
   "source": [
    "- <font color='red'>__An alternative simple and an easily interpretable predictive model for the tip percentage(Question-4):__</font>"
   ]
  },
  {
   "cell_type": "markdown",
   "metadata": {},
   "source": [
    "\n",
    "- I did a simple regression on the data, to get a easily interpretable model at the cost of the prediction accuracy. <br><br>\n",
    "- But, the aim here is prediction and not inference and the bias would be really high in a simple linear regression model.<br><br>\n",
    "- The simple linear regression gives a k-fold cross validation score of 91.5% which if deemed good enough for the purpose of predicting the tip percentage, can be used as they are easily interpretable, have coefficients, which along with binary coding for the categorical variables, can be used to form a simple equation which would then need only one formula in a excel field to predict this whole problem.<br><br>\n",
    "- This additional section was included to show the fact that at times simple models understandable and easy to use by everyone in a team without the need for a specialsed knowledge might be helpful if the trade-off in accuracy is insignificant.\n"
   ]
  },
  {
   "cell_type": "code",
   "execution_count": 378,
   "metadata": {},
   "outputs": [
    {
     "name": "stdout",
     "output_type": "stream",
     "text": [
      "coefficient [ -2.09448367e-01  -9.36591472e-02  -4.76140305e-01   1.47139426e-02\n",
      "  -4.15319862e-01  -5.80490975e+01  -5.57882255e+00  -8.74916249e+00\n",
      "  -2.15617550e+00   2.59900113e-01   6.38596722e+01  -4.61836455e+00\n",
      "   4.45041417e-03  -3.46749165e-02  -5.67059288e-04   1.97962122e-02\n",
      "   1.51276499e+00]\n",
      "Accuracy : 6.58330111954\n"
     ]
    }
   ],
   "source": [
    "data=datacap\n",
    "model = linear_model.LinearRegression()\n",
    " \n",
    "outcome = 'tippercent'\n",
    "predictors = ['VendorID','Store_and_fwd_flag','RateCodeID','Passenger_count',\n",
    "              'log_trip_dist','log_Fare','Extra','MTA_tax','Tolls_amount',\n",
    "              'improvement_surcharge','log_Total_amount','Payment_type','pickup-hr',\n",
    "              'traveltimeinhrs','avg_speed_mph','day_no','CheckAirport']\n",
    "model.fit(data[predictors],data[outcome])\n",
    "\n",
    "predictions = model.predict(data[predictors])\n",
    "  #Print accuracy\n",
    "print(\"coefficient\",model.coef_)\n",
    "print(\"Accuracy :\",metrics.mean_squared_error(data[outcome].values,predictions))"
   ]
  },
  {
   "cell_type": "code",
   "execution_count": 379,
   "metadata": {},
   "outputs": [
    {
     "name": "stdout",
     "output_type": "stream",
     "text": [
      "Cross-Validation Score : 91.535%\n"
     ]
    }
   ],
   "source": [
    "kf = KFold(data.shape[0], n_folds=5)\n",
    "error = []\n",
    "for train, test in kf:\n",
    "    # Training data is fitered out (contains 4 folds or 4/5th of the entire data)\n",
    "    train_predictors = (data[predictors].iloc[train])\n",
    "    \n",
    "    # ALgorithm is trained with the help of targets.\n",
    "    train_target = data[outcome].iloc[train]\n",
    "    \n",
    "    # The target data and predictors data(1fold or 1/5th of the model) are training the model\n",
    "    model.fit(train_predictors, train_target)\n",
    "    \n",
    "    #Error appended from every run of cross validation\n",
    "    error.append(   model.score (data[predictors].iloc[test], data[outcome].iloc[test])  )\n",
    " \n",
    "print(\"Cross-Validation Score : %s\" % \"{0:.3%}\".format(np.mean(error)))"
   ]
  },
  {
   "cell_type": "markdown",
   "metadata": {},
   "source": [
    "- The following results suggest that using 3 to 4 significant variables arrived at from the above Random Forest Regressor can be used to select the important features and make a even simpler model with really less variables/predictors.<br><br>\n",
    "- At the end of the day, the level of accuracy decides what level of simplification can be done to a model."
   ]
  },
  {
   "cell_type": "code",
   "execution_count": 383,
   "metadata": {},
   "outputs": [
    {
     "name": "stdout",
     "output_type": "stream",
     "text": [
      "coefficient [-44.50586527  48.02297439  -6.58613786]\n",
      "Accuracy : 12.4469886571\n"
     ]
    }
   ],
   "source": [
    "data=datacap\n",
    "model = linear_model.LinearRegression()\n",
    " \n",
    "outcome = 'tippercent'\n",
    "predictors = ['log_Fare','Extra','log_Total_amount','Payment_type',\n",
    "              ]\n",
    "model.fit(data[predictors],data[outcome])\n",
    "\n",
    "predictions = model.predict(data[predictors])\n",
    "  #Print accuracy\n",
    "print(\"coefficient\",model.coef_)\n",
    "print(\"Accuracy :\",metrics.mean_squared_error(data[outcome].values,predictions))"
   ]
  },
  {
   "cell_type": "code",
   "execution_count": 384,
   "metadata": {},
   "outputs": [
    {
     "name": "stdout",
     "output_type": "stream",
     "text": [
      "Cross-Validation Score : 84.017%\n"
     ]
    }
   ],
   "source": [
    "kf = KFold(data.shape[0], n_folds=5)\n",
    "error = []\n",
    "for train, test in kf:\n",
    "    # Training data is fitered out (contains 4 folds or 4/5th of the entire data)\n",
    "    train_predictors = (data[predictors].iloc[train])\n",
    "    \n",
    "    # ALgorithm is trained with the help of targets.\n",
    "    train_target = data[outcome].iloc[train]\n",
    "    \n",
    "    # The target data and predictors data(1fold or 1/5th of the model) are training the model\n",
    "    model.fit(train_predictors, train_target)\n",
    "    \n",
    "    #Error appended from every run of cross validation\n",
    "    error.append(   model.score (data[predictors].iloc[test], data[outcome].iloc[test])  )\n",
    " \n",
    "print(\"Cross-Validation Score : %s\" % \"{0:.3%}\".format(np.mean(error)))"
   ]
  },
  {
   "cell_type": "markdown",
   "metadata": {},
   "source": [
    "- Cross validation score is more important than mean square error accuracy values, as the former is better as it is a metric of the model's functioning on a test data completely differeny from the trained data."
   ]
  },
  {
   "cell_type": "code",
   "execution_count": 402,
   "metadata": {},
   "outputs": [
    {
     "data": {
      "image/png": "[encoded data removed]",
      "text/plain": [
       "<matplotlib.figure.Figure at 0x26f0cd09518>"
      ]
     },
     "metadata": {},
     "output_type": "display_data"
    }
   ],
   "source": [
    "objects = ('A', 'B', 'C')\n",
    "\n",
    "#A- 'RandomForestRegressor'\n",
    "#B- 'Linear Regression(many predictors)'\n",
    "#C- 'Linear Regression(few significant predictors)'\n",
    "\n",
    "y_pos = np.arange(len(objects))\n",
    "performance = [99.86,91.535,84.017]\n",
    " \n",
    "plt.bar(y_pos, performance, align='center', alpha=0.5)\n",
    "plt.xticks(y_pos, objects)\n",
    "plt.ylabel('Cross-Validation Score (in %)')\n",
    "plt.title('Accuracy of model (vs) Interpretability & Ease of handling')\n",
    "\n",
    "plt.show()"
   ]
  },
  {
   "cell_type": "code",
   "execution_count": null,
   "metadata": {
    "collapsed": true
   },
   "outputs": [],
   "source": []
  }
 ],
 "metadata": {
  "kernelspec": {
   "display_name": "Python 3",
   "language": "python",
   "name": "python3"
  },
  "language_info": {
   "codemirror_mode": {
    "name": "ipython",
    "version": 3
   },
   "file_extension": ".py",
   "mimetype": "text/x-python",
   "name": "python",
   "nbconvert_exporter": "python",
   "pygments_lexer": "ipython3",
   "version": "3.6.1"
  }
 },
 "nbformat": 4,
 "nbformat_minor": 2
}
